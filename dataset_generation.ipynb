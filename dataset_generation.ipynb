{
 "cells": [
  {
   "cell_type": "markdown",
   "id": "e2bb5d92-4f41-4c61-8aa9-2457545f78a4",
   "metadata": {},
   "source": [
    "First, 300 candidate datasets were created by randomly selecting between 4-13 classes, assigning majority classes with a \"Very High\" sample size, and ensuring no more than half the classes are majority. Specific constraints for classes 4, 6, and 7 were applied to limit their maximum sample sizes."
   ]
  },
  {
   "cell_type": "code",
   "execution_count": null,
   "id": "a51adf35-b331-46fd-945c-d75aad9969d4",
   "metadata": {},
   "outputs": [],
   "source": [
    "import pandas as pd\n",
    "import os\n",
    "import random\n",
    "\n",
    "# Constants\n",
    "num_candidates = 2  # Number of candidate datasets\n",
    "num_classes_total = 13\n",
    "class_counts = [4, 5, 6, 7, 8, 9, 10, 11, 12, 13]\n",
    "sample_sizes = {'Very Low': 500, 'Low': 1000, 'Intermediate': 2500, 'High': 5000, 'Very High': 10000}\n",
    "majority_class_tracker = {c: 0 for c in range(num_classes_total)}\n",
    "\n",
    "output_folder = '/data/private/BreizhCrops/experiments/undersampled_csvs/dataset_generation/candidate_datasets_42'\n",
    "seed = 42\n",
    "random.seed(seed)\n",
    "\n",
    "# Constraints for specific classes\n",
    "max_sample_size = {4: 'High', 6: 'Low', 7: 'Intermediate'}\n",
    "\n",
    "def undersample_csvs(classes_to_undersample, name, seed, output_folder, regions=['frh01', 'frh02', 'frh03']):\n",
    "    root_path = '/data/private/BreizhCrops/data/2017/L1C/'\n",
    "    \n",
    "    modified_folder = os.path.join(output_folder, name)\n",
    "    os.makedirs(modified_folder, exist_ok=True)\n",
    "\n",
    "    class_distribution_info = []\n",
    "    total_distribution_original = pd.Series(dtype=int)\n",
    "    total_distribution_undersampled = pd.Series(dtype=int)\n",
    "    original_distribution_per_region = {}\n",
    "    classes_eliminated = []\n",
    "\n",
    "    for region in regions:\n",
    "        csv_file_path = os.path.join(root_path, f'{region}.csv')\n",
    "        df = pd.read_csv(csv_file_path)\n",
    "        original_distribution = df['classid'].value_counts()\n",
    "        original_distribution_per_region[region] = original_distribution\n",
    "        total_distribution_original = total_distribution_original.add(original_distribution, fill_value=0)\n",
    "\n",
    "    for region in regions:\n",
    "        csv_file_path = os.path.join(root_path, f'{region}.csv')\n",
    "        df = pd.read_csv(csv_file_path)\n",
    "\n",
    "        df_undersampled = pd.DataFrame(columns=df.columns)\n",
    "        for class_id, total_desired_samples in classes_to_undersample.items():\n",
    "            if total_desired_samples == 0:\n",
    "                classes_eliminated.append(class_id)\n",
    "            class_proportion = df[df['classid'] == class_id].shape[0] / total_distribution_original[class_id]\n",
    "            region_desired_samples = round(class_proportion * total_desired_samples)\n",
    "            df_class = df[df['classid'] == class_id]\n",
    "            df_class_undersampled = df_class.sample(n=min(region_desired_samples, len(df_class)), random_state=seed)\n",
    "            df_undersampled = pd.concat([df_undersampled, df_class_undersampled], ignore_index=True)\n",
    "\n",
    "        # Set all other classes to 0\n",
    "        for class_id in df['classid'].unique():\n",
    "            if class_id not in classes_to_undersample:\n",
    "                classes_to_undersample[class_id] = 0\n",
    "\n",
    "        df_undersampled = df_undersampled.sample(frac=1, random_state=seed).reset_index(drop=True)\n",
    "        new_distribution = df_undersampled['classid'].value_counts()\n",
    "        total_distribution_undersampled = total_distribution_undersampled.add(new_distribution, fill_value=0)\n",
    "\n",
    "        undersampled_csv_file_path = os.path.join(modified_folder, f'{region}.csv')\n",
    "        df_undersampled.to_csv(undersampled_csv_file_path, index=False)\n",
    "\n",
    "        class_distribution_info.append((region, original_distribution, new_distribution))\n",
    "        \n",
    "        # Processing frh04.csv\n",
    "    frh04_path = '/data/private/BreizhCrops/data/2017/L1C/frh04.csv'    \n",
    "    df_frh04 = pd.read_csv(frh04_path)\n",
    "    for class_id in classes_eliminated:\n",
    "        df_frh04 = df_frh04[df_frh04['classid'] != class_id]\n",
    "    frh04_csv_file_path = os.path.join(modified_folder, 'frh04.csv')\n",
    "    df_frh04.to_csv(frh04_csv_file_path, index=False)\n",
    "    frh04_distribution = df_frh04['classid'].value_counts()\n",
    "\n",
    "    # Save class distribution info to a text file\n",
    "    distribution_file_path = os.path.join(modified_folder, 'class_distribution_info.txt')\n",
    "    with open(distribution_file_path, 'w') as file:\n",
    "        file.write(f\"Seed used for undersampling: {seed}\\n\\n\")\n",
    "        for region, original, new in class_distribution_info:\n",
    "            file.write(f\"Original distribution for {region}:\\n{original.to_string()}\\n\")\n",
    "            file.write(f\"New distribution after undersampling for {region}:\\n{new.to_string()}\\n\\n\")\n",
    "        file.write(\"Total original distribution across all regions:\\n\")\n",
    "        file.write(total_distribution_original.to_string())\n",
    "        file.write(\"\\n\\nTotal undersampled distribution across all regions:\\n\")\n",
    "        file.write(total_distribution_undersampled.to_string())\n",
    "        file.write(\"\\nClass distribution for frh04 (not undersampled, classes removed if zeroed in training datasets):\\n\")\n",
    "        file.write(frh04_distribution.to_string())\n",
    "\n",
    "    # Prepare CSV data\n",
    "    class_ids = sorted(set(total_distribution_original.index.union(total_distribution_undersampled.index)))\n",
    "    csv_data = {'class_id': class_ids}\n",
    "\n",
    "    for region in regions:\n",
    "        original_distribution = original_distribution_per_region[region]\n",
    "        for class_id in class_ids:\n",
    "            csv_data.setdefault(f'original_{region}', []).append(original_distribution.get(class_id, 0))\n",
    "\n",
    "        _, _, new_distribution = next((x for x in class_distribution_info if x[0] == region), (None, None, None))\n",
    "        for class_id in class_ids:\n",
    "            csv_data.setdefault(f'undersampled_{region}', []).append(new_distribution.get(class_id, 0))\n",
    "\n",
    "    for class_id in class_ids:\n",
    "        csv_data.setdefault('original_total', []).append(total_distribution_original.get(class_id, 0))\n",
    "        csv_data.setdefault('undersampled_total', []).append(total_distribution_undersampled.get(class_id, 0))\n",
    "\n",
    "    # Save class distribution info to a CSV file\n",
    "    distribution_csv_file_path = os.path.join(modified_folder, 'class_distribution_info.csv')\n",
    "    pd.DataFrame(csv_data).to_csv(distribution_csv_file_path, index=False)\n",
    "\n",
    "# Define functions for candidate dataset generation\n",
    "def select_num_classes():\n",
    "    return random.choice(class_counts)\n",
    "\n",
    "def select_majority_classes(num_classes):\n",
    "    num_majority_classes = random.randint(1, num_classes // 2)  # Ensure at least one, but not more than half\n",
    "    majority_classes = random.sample(range(num_classes_total), num_majority_classes)\n",
    "    for cls in majority_classes:\n",
    "        majority_class_tracker[cls] += 1\n",
    "    return majority_classes\n",
    "\n",
    "def select_remaining_classes(majority_classes, num_classes):\n",
    "    remaining_classes = list(set(range(num_classes_total)) - set(majority_classes))\n",
    "    return random.sample(remaining_classes, num_classes - len(majority_classes))\n",
    "\n",
    "def assign_sample_sizes(remaining_classes, majority_classes):\n",
    "    samples = {}\n",
    "    \n",
    "    # Assign majority classes, ensuring constrained classes are not assigned 'Very High'\n",
    "    for cls in majority_classes:\n",
    "        if cls in max_sample_size:\n",
    "            max_size = max_sample_size[cls]\n",
    "            size_options = [size for size in sample_sizes.values() if size <= sample_sizes[max_size]]\n",
    "            samples[cls] = random.choice(size_options)\n",
    "        else:\n",
    "            samples[cls] = sample_sizes['Very High']\n",
    "\n",
    "    # Assign remaining classes\n",
    "    for c in remaining_classes:\n",
    "        if c not in samples:  # Ensure we don't overwrite the already assigned majority classes\n",
    "            if c in max_sample_size:\n",
    "                max_size = max_sample_size[c]\n",
    "                size_options = [size for size in sample_sizes.values() if size <= sample_sizes[max_size]]\n",
    "            else:\n",
    "                size_options = list(sample_sizes.values())[:-1]\n",
    "            samples[c] = random.choice(size_options)\n",
    "    \n",
    "    return samples\n",
    "\n",
    "def generate_candidate():\n",
    "    num_classes = select_num_classes()\n",
    "    majority_classes = select_majority_classes(num_classes)\n",
    "    remaining_classes = select_remaining_classes(majority_classes, num_classes)\n",
    "    class_samples = assign_sample_sizes(remaining_classes, majority_classes)\n",
    "    return {'classes': majority_classes + remaining_classes, 'samples': class_samples}\n",
    "\n",
    "# Generate candidate datasets\n",
    "candidates = []\n",
    "for i in range(1, num_candidates + 1):\n",
    "    candidate = generate_candidate()\n",
    "    dataset_name = str(i)\n",
    "    undersample_csvs(candidate['samples'], dataset_name, seed, output_folder)\n",
    "    candidates.append(candidate)\n",
    "\n",
    "# Create and save a summary CSV of all candidate datasets\n",
    "candidate_summaries = []\n",
    "\n",
    "for i, candidate in enumerate(candidates, start=1):\n",
    "    summary = {'dataset_id': i}\n",
    "    dataset_folder = os.path.join(output_folder, str(i))\n",
    "    summary_csv_path = os.path.join(dataset_folder, 'class_distribution_info.csv')\n",
    "    df_summary = pd.read_csv(summary_csv_path)\n",
    "    for class_id in range(num_classes_total):\n",
    "        total_samples = df_summary[df_summary['class_id'] == class_id]['undersampled_total'].values[0] if class_id in df_summary['class_id'].values else 0\n",
    "        summary[f'class_{class_id}'] = total_samples\n",
    "    candidate_summaries.append(summary)\n",
    "\n",
    "candidates_df = pd.DataFrame(candidate_summaries)\n",
    "candidates_df.to_csv(os.path.join(output_folder, 'candidate_datasets_summary.csv'), index=False)\n"
   ]
  },
  {
   "cell_type": "markdown",
   "id": "8f4311bd-b226-4362-8ca5-280a71020d1b",
   "metadata": {},
   "source": [
    "Then (modifed) N1 is calculated for each canditate dataset, using 200 samples per class due to the computational load of calculating it for all full datasets.\n",
    "Note, this code can be made more efficient by calculating the N1 on each unique class combination."
   ]
  },
  {
   "cell_type": "code",
   "execution_count": null,
   "id": "adc80470-79a0-48ee-83a0-394afb398ca1",
   "metadata": {},
   "outputs": [],
   "source": [
    "import os\n",
    "import pandas as pd\n",
    "import h5py\n",
    "import numpy as np\n",
    "from scipy.sparse.csgraph import minimum_spanning_tree\n",
    "from joblib import Parallel, delayed\n",
    "import multiprocessing\n",
    "import csv\n",
    "import time\n",
    "\n",
    "# Constants\n",
    "SEQUENCE_LENGTH = 45\n",
    "SELECTED_BANDS = ['B1', 'B10', 'B11', 'B12', 'B2', 'B3', 'B4', 'B5', 'B6', 'B7', 'B8', 'B8A', 'B9']  # Example for L1C level\n",
    "BAND_COUNT = 13  \n",
    "\n",
    "\n",
    "def read_index_files(folder_path, sample_limit_per_class=None):\n",
    "    index_files = ['frh01', 'frh02', 'frh03']\n",
    "    samples = []\n",
    "    labels = []\n",
    "\n",
    "    for index_file in index_files:\n",
    "        index_path = os.path.join(folder_path, index_file + '.csv')\n",
    "\n",
    "        if not os.path.isfile(index_path):\n",
    "            print(f\"File not found: {index_path}\")\n",
    "            continue\n",
    "\n",
    "        df = pd.read_csv(index_path)\n",
    "        samples.extend(df['path'].tolist())\n",
    "        labels.extend(df['classid'].tolist())\n",
    "\n",
    "    # Create a DataFrame for easier manipulation\n",
    "    df = pd.DataFrame({'path': samples, 'classid': labels})\n",
    "\n",
    "    # If sample_limit_per_class is specified, select an equal number of samples from each class\n",
    "    if sample_limit_per_class is not None:\n",
    "        df_balanced = df.groupby('classid').apply(lambda x: x.sample(n=sample_limit_per_class, random_state=42, replace=True if len(x) < sample_limit_per_class else False))\n",
    "        df_balanced = df_balanced.reset_index(drop=True)\n",
    "        samples = df_balanced['path'].tolist()\n",
    "        labels = df_balanced['classid'].tolist()\n",
    "\n",
    "    # Sanity check for number of samples per class\n",
    "    class_counts = pd.Series(labels).value_counts()\n",
    "    print(\"Sample counts per class after sampling:\")\n",
    "    print(class_counts)\n",
    "\n",
    "    return samples, labels\n",
    "\n",
    "\n",
    "def transform_and_pad(data, sequence_length=SEQUENCE_LENGTH, band_count=BAND_COUNT):\n",
    "    # Select the first 'band_count' dimensions and scale reflectances\n",
    "    data = data[:, :band_count].astype(np.float32) * 1e-4  # Scale reflectances to 0-1\n",
    "\n",
    "    # Pad or truncate to 'sequence_length'\n",
    "    if data.shape[0] < sequence_length:\n",
    "        pad_width = sequence_length - data.shape[0]\n",
    "        data = np.pad(data, ((0, pad_width), (0, 0)), 'constant', constant_values=0)\n",
    "    else:\n",
    "        data = data[:sequence_length]\n",
    "\n",
    "    return data\n",
    "\n",
    "def load_time_series_data(samples, base_data_path):\n",
    "    time_series_data = []\n",
    "\n",
    "    for sample in samples:\n",
    "        try:\n",
    "            sample_path_parts = sample.split('/')\n",
    "            region, csv_file = sample_path_parts[1], sample_path_parts[-1]\n",
    "            h5_file_path = os.path.join(base_data_path, '2017', 'L1C', region + '.h5')\n",
    "\n",
    "            if not os.path.isfile(h5_file_path):\n",
    "                print(f\"H5 file not found: {h5_file_path}\")\n",
    "                continue  # Skip to the next sample if the file is not found\n",
    "\n",
    "            with h5py.File(h5_file_path, 'r') as f:\n",
    "                csv_data_path = os.path.join('csv', region, csv_file)\n",
    "                if csv_data_path not in f:\n",
    "                    print(f\"Dataset not found in H5 file: {csv_data_path}\")\n",
    "                    continue\n",
    "\n",
    "                data = np.array(f[csv_data_path], dtype=np.float32)\n",
    "                data = transform_and_pad(data)\n",
    "                time_series_data.append(data)\n",
    "\n",
    "        except Exception as e:\n",
    "            print(f\"Error loading sample {sample}: {e}\")\n",
    "\n",
    "    return np.array(time_series_data, dtype=np.float32)\n",
    "\n",
    "def calculate_euclidean_distance(data1, data2):\n",
    "    return np.sqrt(np.sum((data1 - data2) ** 2))\n",
    "\n",
    "def calculate_pairwise_distances(data):\n",
    "    n_samples = data.shape[0]\n",
    "    dist_matrix = np.zeros((n_samples, n_samples), dtype=np.float32)\n",
    "\n",
    "    def compute_distance(i, j):\n",
    "        return calculate_euclidean_distance(data[i], data[j])\n",
    "\n",
    "    results = Parallel(n_jobs=multiprocessing.cpu_count())(\n",
    "        delayed(compute_distance)(i, j) for i in range(n_samples) for j in range(i + 1, n_samples)\n",
    "    )\n",
    "\n",
    "    k = 0\n",
    "    for i in range(n_samples):\n",
    "        for j in range(i + 1, n_samples):\n",
    "            dist_matrix[i, j] = results[k]\n",
    "            dist_matrix[j, i] = results[k]\n",
    "            k += 1\n",
    "\n",
    "    return dist_matrix\n",
    "\n",
    "def calculate_fraction_of_borderline_points(time_series_data, labels):\n",
    "    n_samples = time_series_data.shape[0]\n",
    "\n",
    "    # Calculate pairwise distances directly between the 2D arrays (samples)\n",
    "    dist_matrix = calculate_pairwise_distances(time_series_data)\n",
    "    print(\"Calculated pairwise distance matrix\")\n",
    "\n",
    "    mst = minimum_spanning_tree(dist_matrix).toarray()\n",
    "    borderline_edges = 0\n",
    "\n",
    "    for i in range(n_samples):\n",
    "        for j in range(i + 1, n_samples):\n",
    "            if mst[i, j] > 0 or mst[j, i] > 0:\n",
    "                if labels[i] != labels[j]:\n",
    "                    borderline_edges += 1\n",
    "\n",
    "    return borderline_edges / n_samples if n_samples > 0 else 0\n",
    "\n",
    "def main(index_folder, base_data_path, sample_limit=None):\n",
    "    dataset_id = os.path.basename(index_folder)  # Use the folder name as the dataset ID\n",
    "    \n",
    "    start_time = time.time()  # Start timer\n",
    "\n",
    "    samples, labels = read_index_files(index_folder, sample_limit)\n",
    "    if not samples:\n",
    "        print(\"No samples found. Please check the index files.\")\n",
    "        return dataset_id, None\n",
    "\n",
    "    time_series_data = load_time_series_data(samples, base_data_path)\n",
    "    if len(time_series_data) == 0:\n",
    "        print(\"No time series data loaded. Please check the H5 files.\")\n",
    "        return dataset_id, None\n",
    "\n",
    "    # Debugging: Print the shape of the loaded data and the first few entries\n",
    "    print(f\"Loaded {len(time_series_data)} samples\")\n",
    "    print(f\"Shape of each sample: {time_series_data[0].shape}\")\n",
    "    print(f\"First sample data (first few entries):\\n{time_series_data[0][:5]}\")\n",
    "\n",
    "    fraction_borderline_points = calculate_fraction_of_borderline_points(time_series_data, labels)\n",
    "    print(\"Fraction of Borderline Points:\", fraction_borderline_points)\n",
    "    \n",
    "    end_time = time.time()  # End timer\n",
    "    elapsed_time = end_time - start_time  # Calculate elapsed time\n",
    "    print(f\"Elapsed time: {elapsed_time:.2f} seconds\")\n",
    "\n",
    "    return dataset_id, fraction_borderline_points\n",
    "\n",
    "def run_experiments(base_index_folder, base_data_path, sample_limit_per_class=100, range_start=1, range_end=5):\n",
    "    results = []\n",
    "    \n",
    "    for i in range(range_start, range_end + 1):\n",
    "        index_folder = os.path.join(base_index_folder, str(i))\n",
    "        print(f\"Running experiment for index folder: {index_folder}\")\n",
    "        dataset_id, complexity = main(index_folder, base_data_path, sample_limit_per_class)\n",
    "        if complexity is not None:\n",
    "            results.append({'dataset_id': dataset_id, 'complexity': complexity})\n",
    "\n",
    "    # Save results to CSV\n",
    "    results_csv_path = os.path.join(base_index_folder, 'complexity_results.csv')\n",
    "    with open(results_csv_path, mode='w', newline='') as file:\n",
    "        writer = csv.DictWriter(file, fieldnames=['dataset_id', 'complexity'])\n",
    "        writer.writeheader()\n",
    "        for result in results:\n",
    "            writer.writerow(result)\n",
    "\n",
    "    print(f\"Results saved to {results_csv_path}\")\n",
    "\n",
    "# Example usage\n",
    "base_index_folder = '/data/private/BreizhCrops/experiments/undersampled_csvs/dataset_generation/candidate_datasets_42'\n",
    "base_data_path = '/data/private/BreizhCrops/data'\n",
    "sample_limit_per_class = 200  \n",
    "\n",
    "run_experiments(base_index_folder, base_data_path, sample_limit_per_class)"
   ]
  },
  {
   "cell_type": "markdown",
   "id": "a1146a40-c5a2-4604-9b99-21725fda68fe",
   "metadata": {},
   "source": [
    "With the canditate datasets generated and the N1 values calculated, the final datasets where selected manually. This manuual selection was aided with visualizations such as the one bellow."
   ]
  },
  {
   "cell_type": "code",
   "execution_count": 5,
   "id": "a761cf71-bbc8-468c-808b-28cf0bd0a618",
   "metadata": {},
   "outputs": [
    {
     "data": {
      "application/vnd.plotly.v1+json": {
       "config": {
        "plotlyServerURL": "https://plot.ly"
       },
       "data": [
        {
         "customdata": [
          [
           1,
           "class_1, class_5"
          ],
          [
           2,
           "class_0, class_12"
          ],
          [
           3,
           "class_8"
          ],
          [
           4,
           "class_1, class_3, class_5, class_10"
          ],
          [
           5,
           "class_0, class_7, class_10"
          ],
          [
           6,
           "class_1"
          ],
          [
           7,
           "class_7"
          ],
          [
           8,
           "class_2, class_7, class_10"
          ],
          [
           9,
           "class_8, class_10, class_11"
          ],
          [
           10,
           "class_10, class_12"
          ],
          [
           11,
           "class_7, class_11"
          ],
          [
           12,
           "class_1"
          ],
          [
           13,
           "class_2, class_12"
          ],
          [
           14,
           "class_8, class_11"
          ],
          [
           15,
           "class_0, class_10"
          ],
          [
           16,
           "class_12"
          ],
          [
           17,
           "class_5, class_10"
          ],
          [
           18,
           "class_7"
          ],
          [
           19,
           "class_10"
          ],
          [
           20,
           "class_5, class_10"
          ],
          [
           21,
           "class_7"
          ],
          [
           22,
           "class_1, class_10, class_11"
          ],
          [
           23,
           "class_1, class_3, class_5, class_7, class_12"
          ],
          [
           24,
           "class_0, class_3, class_11, class_12"
          ],
          [
           25,
           "class_12"
          ],
          [
           26,
           "class_0, class_5, class_8"
          ],
          [
           27,
           "class_5"
          ],
          [
           28,
           "class_8"
          ],
          [
           29,
           "class_7"
          ],
          [
           30,
           "class_3"
          ],
          [
           31,
           "class_3, class_7, class_8, class_11, class_12"
          ],
          [
           32,
           "class_0, class_1, class_8, class_12"
          ],
          [
           33,
           "class_11"
          ],
          [
           34,
           "class_0"
          ],
          [
           35,
           "class_3"
          ],
          [
           36,
           "class_3"
          ],
          [
           37,
           "class_5, class_7"
          ],
          [
           38,
           "class_2"
          ],
          [
           39,
           "class_7, class_8, class_11"
          ],
          [
           40,
           "class_1, class_2, class_8"
          ],
          [
           41,
           "class_7"
          ],
          [
           42,
           "class_0"
          ],
          [
           43,
           "class_0"
          ],
          [
           44,
           "class_0, class_1, class_10"
          ],
          [
           45,
           "class_2, class_7, class_11"
          ],
          [
           46,
           "class_5, class_10"
          ],
          [
           47,
           "class_0, class_5, class_8, class_11"
          ],
          [
           48,
           "class_1, class_10"
          ],
          [
           49,
           "class_0, class_3, class_12"
          ],
          [
           50,
           "class_7"
          ],
          [
           51,
           "class_2, class_3, class_8, class_10"
          ],
          [
           52,
           "class_1, class_8, class_10"
          ],
          [
           53,
           "class_1, class_3"
          ],
          [
           54,
           "class_11"
          ],
          [
           55,
           "class_12"
          ],
          [
           56,
           "class_8"
          ],
          [
           57,
           "class_1, class_12"
          ],
          [
           58,
           "class_2, class_7, class_8"
          ],
          [
           59,
           "class_3"
          ],
          [
           60,
           "class_7, class_11"
          ],
          [
           61,
           "class_5, class_7"
          ],
          [
           62,
           "class_3, class_7, class_12"
          ],
          [
           63,
           "class_0"
          ],
          [
           64,
           "class_0, class_7, class_12"
          ],
          [
           65,
           "class_2, class_3, class_5, class_7"
          ],
          [
           66,
           "class_3"
          ],
          [
           67,
           "class_10, class_12"
          ],
          [
           68,
           "class_5, class_8"
          ],
          [
           69,
           "class_1, class_3, class_5"
          ],
          [
           70,
           "class_2, class_8, class_12"
          ],
          [
           71,
           "class_7, class_8"
          ],
          [
           72,
           "class_0"
          ],
          [
           73,
           "class_11"
          ],
          [
           74,
           "class_0, class_8, class_11, class_12"
          ],
          [
           75,
           "class_1, class_8"
          ],
          [
           76,
           "class_3, class_5, class_12"
          ],
          [
           77,
           "class_1, class_5, class_8"
          ],
          [
           78,
           "class_1, class_3"
          ],
          [
           79,
           "class_0, class_3, class_5"
          ],
          [
           80,
           "class_11"
          ],
          [
           81,
           "class_2"
          ],
          [
           82,
           "class_3, class_5"
          ],
          [
           83,
           "class_2, class_3"
          ],
          [
           84,
           "class_0, class_2"
          ],
          [
           85,
           "class_2, class_10, class_11"
          ],
          [
           86,
           "class_1"
          ],
          [
           87,
           "class_3, class_5, class_10"
          ],
          [
           88,
           "class_2, class_8"
          ],
          [
           89,
           "class_7, class_11"
          ],
          [
           90,
           "class_5, class_7, class_10, class_12"
          ],
          [
           91,
           "class_1"
          ],
          [
           92,
           "class_2, class_5, class_12"
          ],
          [
           93,
           "class_8, class_10"
          ],
          [
           94,
           "class_1"
          ],
          [
           95,
           "class_11"
          ],
          [
           96,
           "class_0, class_5, class_8"
          ],
          [
           97,
           "class_3"
          ],
          [
           98,
           "class_11, class_12"
          ],
          [
           99,
           "class_1, class_3, class_7, class_8"
          ],
          [
           100,
           "class_2, class_5, class_7, class_8"
          ],
          [
           101,
           "class_0, class_5, class_7, class_10"
          ],
          [
           102,
           "class_1, class_2, class_7, class_11"
          ],
          [
           103,
           "class_7, class_11"
          ],
          [
           104,
           "class_2"
          ],
          [
           105,
           "class_12"
          ],
          [
           106,
           "class_2, class_10"
          ],
          [
           107,
           "class_0, class_3, class_11"
          ],
          [
           108,
           "class_3, class_11"
          ],
          [
           109,
           "class_0, class_5, class_7, class_11"
          ],
          [
           110,
           "class_0, class_8, class_12"
          ],
          [
           111,
           "class_1"
          ],
          [
           112,
           "class_5, class_11"
          ],
          [
           113,
           "class_10"
          ],
          [
           114,
           "class_7, class_8, class_12"
          ],
          [
           115,
           "class_2, class_10, class_12"
          ],
          [
           116,
           "class_1, class_3, class_5, class_8, class_10"
          ],
          [
           117,
           "class_2"
          ],
          [
           118,
           "class_0, class_3"
          ],
          [
           119,
           "class_11"
          ],
          [
           120,
           "class_0, class_10, class_12"
          ],
          [
           121,
           "class_8"
          ],
          [
           122,
           "class_12"
          ],
          [
           123,
           "class_2, class_8, class_10, class_11"
          ],
          [
           124,
           "class_0, class_11"
          ],
          [
           125,
           "class_2"
          ],
          [
           126,
           "class_0, class_8"
          ],
          [
           127,
           "class_2, class_7"
          ],
          [
           128,
           "class_3, class_5, class_7, class_10"
          ],
          [
           129,
           "class_0, class_5"
          ],
          [
           130,
           "class_3, class_11"
          ],
          [
           131,
           "class_5, class_8, class_12"
          ],
          [
           132,
           "class_11"
          ],
          [
           133,
           "class_7"
          ],
          [
           134,
           "class_0, class_2, class_5, class_11"
          ],
          [
           135,
           "class_0, class_7, class_10"
          ],
          [
           136,
           "class_2, class_12"
          ],
          [
           137,
           "class_0, class_1, class_3, class_7, class_8, class_12"
          ],
          [
           138,
           "class_2, class_7, class_10"
          ],
          [
           139,
           "class_1"
          ],
          [
           140,
           "class_0, class_2"
          ],
          [
           141,
           "class_0"
          ],
          [
           142,
           "class_10"
          ],
          [
           143,
           "class_3, class_8"
          ],
          [
           144,
           "class_5"
          ],
          [
           145,
           "class_0, class_3, class_5"
          ],
          [
           146,
           "class_3, class_10"
          ],
          [
           147,
           "class_8"
          ],
          [
           148,
           "class_7"
          ],
          [
           149,
           "class_0"
          ],
          [
           150,
           "class_0, class_2"
          ],
          [
           151,
           "class_2, class_8, class_11"
          ],
          [
           152,
           "class_1"
          ],
          [
           153,
           "class_11"
          ],
          [
           154,
           "class_1"
          ],
          [
           155,
           "class_5, class_8, class_10"
          ],
          [
           156,
           "class_1, class_3, class_5, class_8, class_10"
          ],
          [
           157,
           "class_0, class_2, class_3, class_5, class_10"
          ],
          [
           158,
           "class_5, class_8, class_12"
          ],
          [
           159,
           "class_0, class_1, class_11"
          ],
          [
           160,
           "class_0"
          ],
          [
           161,
           "class_10"
          ],
          [
           162,
           "class_0, class_2, class_3"
          ],
          [
           163,
           "class_1, class_3"
          ],
          [
           164,
           "class_2, class_7"
          ],
          [
           165,
           "class_0"
          ],
          [
           166,
           "class_5, class_12"
          ],
          [
           167,
           "class_0, class_7, class_8, class_11"
          ],
          [
           168,
           "class_3, class_8, class_10, class_12"
          ],
          [
           169,
           "class_3, class_12"
          ],
          [
           170,
           "class_5"
          ],
          [
           171,
           "class_12"
          ],
          [
           172,
           "class_5, class_7, class_11"
          ],
          [
           173,
           "class_0, class_4, class_11, class_12"
          ],
          [
           174,
           "class_5"
          ],
          [
           175,
           "class_11, class_12"
          ],
          [
           176,
           "class_3"
          ],
          [
           177,
           "class_3"
          ],
          [
           178,
           "class_0, class_7"
          ],
          [
           179,
           "class_5"
          ],
          [
           180,
           "class_0, class_10"
          ],
          [
           181,
           "class_2, class_9"
          ],
          [
           182,
           "class_0, class_2, class_10, class_11"
          ],
          [
           183,
           "class_2"
          ],
          [
           184,
           "class_11, class_12"
          ],
          [
           185,
           "class_0, class_10"
          ],
          [
           186,
           "class_2"
          ],
          [
           187,
           "class_2, class_8"
          ],
          [
           188,
           "class_1, class_3, class_5"
          ],
          [
           189,
           "class_1, class_8, class_11"
          ],
          [
           190,
           "class_1, class_2, class_7, class_10"
          ],
          [
           191,
           "class_10, class_11, class_12"
          ],
          [
           192,
           "class_1, class_8, class_10"
          ],
          [
           193,
           "class_1, class_3, class_12"
          ],
          [
           194,
           "class_4"
          ],
          [
           195,
           "class_0"
          ],
          [
           196,
           "class_7"
          ],
          [
           197,
           "class_8"
          ],
          [
           198,
           "class_5, class_12"
          ],
          [
           199,
           "class_0"
          ],
          [
           200,
           "class_2"
          ],
          [
           201,
           "class_12"
          ],
          [
           202,
           "class_0"
          ],
          [
           203,
           "class_1, class_2"
          ],
          [
           204,
           "class_2"
          ],
          [
           205,
           "class_2"
          ],
          [
           206,
           "class_11, class_12"
          ],
          [
           207,
           "class_8"
          ],
          [
           208,
           "class_1, class_5, class_10"
          ],
          [
           209,
           "class_0"
          ],
          [
           210,
           "class_4"
          ],
          [
           211,
           "class_8"
          ],
          [
           212,
           "class_0, class_11, class_12"
          ],
          [
           213,
           "class_10"
          ],
          [
           214,
           "class_10"
          ],
          [
           215,
           "class_0, class_1, class_3, class_10, class_11"
          ],
          [
           216,
           "class_1, class_8"
          ],
          [
           217,
           "class_5, class_7, class_8, class_10"
          ],
          [
           218,
           "class_2, class_12"
          ],
          [
           219,
           "class_10"
          ],
          [
           220,
           "class_4"
          ],
          [
           221,
           "class_5, class_12"
          ],
          [
           222,
           "class_0, class_1"
          ],
          [
           223,
           "class_8, class_12"
          ],
          [
           224,
           "class_2, class_10, class_12"
          ],
          [
           225,
           "class_0, class_10"
          ],
          [
           226,
           "class_10, class_12"
          ],
          [
           227,
           "class_10, class_12"
          ],
          [
           228,
           "class_1, class_3"
          ],
          [
           229,
           "class_12"
          ],
          [
           230,
           "class_3, class_8, class_11"
          ],
          [
           231,
           "class_3"
          ],
          [
           232,
           "class_1, class_5, class_8, class_12"
          ],
          [
           233,
           "class_1"
          ],
          [
           234,
           "class_10, class_11"
          ],
          [
           235,
           "class_3"
          ],
          [
           236,
           "class_7, class_8, class_10"
          ],
          [
           237,
           "class_3"
          ],
          [
           238,
           "class_8"
          ],
          [
           239,
           "class_2, class_11"
          ],
          [
           240,
           "class_2, class_3, class_7"
          ],
          [
           241,
           "class_10"
          ],
          [
           242,
           "class_5"
          ],
          [
           243,
           "class_0, class_1, class_2, class_5, class_10"
          ],
          [
           244,
           "class_3, class_9"
          ],
          [
           245,
           "class_0"
          ],
          [
           246,
           "class_12"
          ],
          [
           247,
           "class_0, class_11"
          ],
          [
           248,
           "class_11, class_12"
          ],
          [
           249,
           "class_3, class_10"
          ],
          [
           250,
           "class_12"
          ],
          [
           251,
           "class_10"
          ],
          [
           252,
           "class_2, class_7, class_12"
          ],
          [
           253,
           "class_11, class_12"
          ],
          [
           254,
           "class_7, class_8, class_11"
          ],
          [
           255,
           "class_5"
          ],
          [
           256,
           "class_7"
          ],
          [
           257,
           "class_1, class_2, class_10"
          ],
          [
           258,
           "class_3"
          ],
          [
           259,
           "class_2"
          ],
          [
           260,
           "class_3"
          ],
          [
           261,
           "class_4, class_5, class_11, class_12"
          ],
          [
           262,
           "class_3"
          ],
          [
           263,
           "class_5"
          ],
          [
           264,
           "class_0"
          ],
          [
           265,
           "class_11"
          ],
          [
           266,
           "class_5"
          ],
          [
           267,
           "class_7, class_8, class_10, class_12"
          ],
          [
           268,
           "class_3, class_12"
          ],
          [
           269,
           "class_0, class_2, class_5, class_8, class_10"
          ],
          [
           270,
           "class_2, class_3"
          ],
          [
           271,
           "class_1, class_3"
          ],
          [
           272,
           "class_5, class_10, class_11"
          ],
          [
           273,
           "class_0"
          ],
          [
           274,
           "class_0"
          ],
          [
           275,
           "class_8, class_12"
          ],
          [
           276,
           "class_3, class_5"
          ],
          [
           277,
           "class_3"
          ],
          [
           278,
           "class_2"
          ],
          [
           279,
           "class_3, class_8"
          ],
          [
           280,
           "class_0, class_12"
          ],
          [
           281,
           "class_10"
          ],
          [
           282,
           "class_0, class_12"
          ],
          [
           283,
           "class_7"
          ],
          [
           284,
           "class_1, class_12"
          ],
          [
           285,
           "class_0, class_10"
          ],
          [
           286,
           "class_10"
          ],
          [
           287,
           "class_2, class_9"
          ],
          [
           288,
           "class_1, class_2"
          ],
          [
           289,
           "class_0, class_3, class_11"
          ],
          [
           290,
           "class_12"
          ],
          [
           291,
           "class_8, class_10"
          ],
          [
           292,
           "class_11, class_12"
          ],
          [
           293,
           "class_0, class_3"
          ],
          [
           294,
           "class_1, class_3"
          ],
          [
           295,
           "class_11"
          ],
          [
           296,
           "class_7"
          ],
          [
           297,
           "class_10"
          ],
          [
           298,
           "class_1, class_12"
          ],
          [
           299,
           "class_2"
          ],
          [
           300,
           "class_1"
          ]
         ],
         "hovertemplate": "Number of Classes=%{x}<br>Majority Class Numbers=%{y}<br>Complexity Measure=%{marker.color}<br>dataset_id=%{customdata[0]}<br>majority_classes=%{customdata[1]}<extra></extra>",
         "legendgroup": "",
         "marker": {
          "color": [
           0.76,
           0.695,
           0.7,
           0.83625,
           0.8263636363636364,
           0.72875,
           0.845,
           0.7985,
           0.8181818181818182,
           0.777,
           0.745625,
           0.724,
           0.802,
           0.7492857142857143,
           0.8568181818181818,
           0.7794444444444445,
           0.8,
           0.8529166666666667,
           0.7671428571428571,
           0.6833333333333333,
           0.645,
           0.8322222222222222,
           0.824,
           0.8588461538461538,
           0.57,
           0.68,
           0.632,
           0.791,
           0.725,
           0.766875,
           0.8359090909090909,
           0.8195,
           0.75,
           0.775,
           0.81,
           0.661,
           0.68375,
           0.7877777777777778,
           0.7725,
           0.8577272727272728,
           0.7641666666666667,
           0.701,
           0.825,
           0.765,
           0.82375,
           0.815,
           0.8480769230769231,
           0.85,
           0.797,
           0.64875,
           0.810625,
           0.8469230769230769,
           0.8377777777777777,
           0.8107142857142857,
           0.8538461538461538,
           0.7264285714285714,
           0.8085,
           0.8015,
           0.74625,
           0.77,
           0.8309090909090909,
           0.8258333333333333,
           0.631,
           0.8396153846153847,
           0.8227272727272728,
           0.7785,
           0.608,
           0.6791666666666667,
           0.8233333333333334,
           0.8109090909090909,
           0.67,
           0.59375,
           0.7994444444444444,
           0.8304166666666667,
           0.7638888888888888,
           0.7883333333333333,
           0.8515384615384616,
           0.85,
           0.765625,
           0.8476923076923077,
           0.7928571428571428,
           0.8022222222222222,
           0.64875,
           0.8434615384615385,
           0.8338888888888889,
           0.8576923076923076,
           0.8577272727272728,
           0.7985,
           0.8354166666666667,
           0.83375,
           0.6675,
           0.7995,
           0.701,
           0.741875,
           0.7485714285714286,
           0.8580769230769231,
           0.703,
           0.57625,
           0.8005,
           0.8434615384615385,
           0.8453846153846154,
           0.81,
           0.8516666666666667,
           0.5525,
           0.7888888888888889,
           0.816,
           0.8709090909090909,
           0.8415384615384616,
           0.8303846153846154,
           0.7872222222222223,
           0.802,
           0.67125,
           0.7807142857142857,
           0.7722222222222223,
           0.84,
           0.8542307692307692,
           0.621,
           0.737,
           0.685,
           0.83625,
           0.8453846153846154,
           0.8369230769230769,
           0.8530769230769231,
           0.7264285714285714,
           0.759375,
           0.72,
           0.7788888888888889,
           0.8236363636363636,
           0.8388888888888889,
           0.8344444444444444,
           0.8209090909090909,
           0.7833333333333333,
           0.786875,
           0.7691666666666667,
           0.7785714285714286,
           0.7164285714285714,
           0.8407692307692308,
           0.7766666666666666,
           0.6575,
           0.6666666666666666,
           0.8344444444444444,
           0.5475,
           0.8427777777777777,
           0.8416666666666667,
           0.7985,
           0.8227272727272728,
           0.8204545454545454,
           0.775,
           0.66,
           0.712,
           0.8523076923076923,
           0.68375,
           0.55125,
           0.8345833333333333,
           0.814375,
           0.8515384615384616,
           0.8492307692307692,
           0.7471428571428571,
           0.8473076923076923,
           0.741,
           0.773125,
           0.7822222222222223,
           0.8319230769230769,
           0.697,
           0.55,
           0.8145454545454546,
           0.8455,
           0.8118181818181818,
           0.68,
           0.74,
           0.675,
           0.801,
           0.815,
           0.8190909090909091,
           0.68,
           0.83,
           0.7078571428571429,
           0.7683333333333333,
           0.8461538461538461,
           0.7838888888888889,
           0.7857142857142857,
           0.8419230769230769,
           0.813,
           0.6675,
           0.8157142857142857,
           0.7425,
           0.7658333333333334,
           0.8530769230769231,
           0.7883333333333333,
           0.8411538461538461,
           0.8140909090909091,
           0.6708333333333333,
           0.6866666666666666,
           0.62375,
           0.8186363636363636,
           0.799375,
           0.8172727272727273,
           0.7235714285714285,
           0.7292857142857143,
           0.8392307692307692,
           0.649,
           0.66,
           0.763125,
           0.82875,
           0.785,
           0.6708333333333333,
           0.6775,
           0.8645454545454545,
           0.7927777777777778,
           0.81625,
           0.712,
           0.8365384615384616,
           0.7855555555555556,
           0.7928571428571428,
           0.8055,
           0.611,
           0.8457692307692307,
           0.7292857142857143,
           0.834375,
           0.65625,
           0.8329166666666666,
           0.809,
           0.805,
           0.766875,
           0.7945,
           0.8388461538461538,
           0.785,
           0.8403846153846154,
           0.8357692307692308,
           0.8095454545454546,
           0.71,
           0.835,
           0.7041666666666667,
           0.815625,
           0.805,
           0.8566666666666667,
           0.8546153846153847,
           0.78,
           0.709,
           0.83625,
           0.6225,
           0.8311111111111111,
           0.8373076923076923,
           0.6808333333333333,
           0.7825,
           0.79,
           0.7064285714285714,
           0.8022727272727272,
           0.7933333333333333,
           0.7995,
           0.8376923076923077,
           0.807,
           0.8476923076923077,
           0.8294444444444444,
           0.615,
           0.7633333333333333,
           0.805,
           0.675,
           0.8161111111111111,
           0.765,
           0.7671428571428571,
           0.76875,
           0.8236363636363636,
           0.8365,
           0.7871428571428571,
           0.76125,
           0.8441666666666666,
           0.8457692307692307,
           0.8553846153846154,
           0.7808333333333334,
           0.7716666666666666,
           0.8172727272727273,
           0.792,
           0.7777777777777778,
           0.790625,
           0.7314285714285714,
           0.679,
           0.8533333333333334,
           0.73,
           0.76125,
           0.705,
           0.6758333333333333,
           0.7833333333333333,
           0.585,
           0.7971428571428572,
           0.8488461538461538,
           0.6625,
           0.8619230769230769,
           0.8496153846153847,
           0.637,
           0.67875,
           0.8065,
           0.81625,
           0.8261111111111111,
           0.8354166666666667,
           0.815625,
           0.7685714285714286,
           0.8407692307692308,
           0.633,
           0.755625
          ],
          "coloraxis": "coloraxis",
          "symbol": "circle"
         },
         "mode": "markers",
         "name": "",
         "scene": "scene",
         "showlegend": false,
         "type": "scatter3d",
         "x": [
          5,
          6,
          6,
          12,
          11,
          4,
          13,
          10,
          11,
          10,
          8,
          5,
          10,
          7,
          11,
          9,
          10,
          12,
          7,
          6,
          4,
          9,
          10,
          13,
          4,
          6,
          5,
          10,
          5,
          8,
          11,
          10,
          5,
          9,
          10,
          5,
          4,
          9,
          6,
          11,
          6,
          5,
          8,
          8,
          12,
          9,
          13,
          13,
          10,
          4,
          8,
          13,
          9,
          7,
          13,
          7,
          10,
          10,
          8,
          6,
          11,
          12,
          5,
          13,
          11,
          10,
          5,
          6,
          12,
          11,
          6,
          4,
          9,
          12,
          9,
          9,
          13,
          13,
          8,
          13,
          7,
          9,
          4,
          13,
          9,
          13,
          11,
          10,
          12,
          12,
          4,
          10,
          5,
          8,
          7,
          13,
          5,
          4,
          10,
          13,
          13,
          11,
          12,
          4,
          9,
          10,
          11,
          13,
          13,
          9,
          10,
          4,
          7,
          9,
          12,
          13,
          5,
          5,
          6,
          12,
          13,
          13,
          13,
          7,
          8,
          4,
          9,
          11,
          9,
          9,
          11,
          9,
          8,
          6,
          7,
          7,
          13,
          9,
          4,
          6,
          9,
          4,
          9,
          12,
          10,
          11,
          11,
          7,
          4,
          5,
          13,
          4,
          4,
          12,
          8,
          13,
          13,
          7,
          13,
          5,
          8,
          9,
          13,
          5,
          4,
          11,
          10,
          11,
          6,
          6,
          6,
          10,
          10,
          11,
          6,
          11,
          7,
          6,
          13,
          9,
          7,
          13,
          10,
          6,
          7,
          8,
          6,
          13,
          6,
          13,
          11,
          6,
          6,
          4,
          11,
          8,
          11,
          7,
          7,
          13,
          5,
          6,
          8,
          12,
          7,
          6,
          4,
          11,
          9,
          8,
          5,
          13,
          9,
          7,
          10,
          5,
          13,
          7,
          8,
          4,
          12,
          10,
          10,
          8,
          10,
          13,
          8,
          13,
          13,
          11,
          4,
          10,
          6,
          8,
          10,
          12,
          13,
          9,
          5,
          12,
          4,
          9,
          13,
          6,
          8,
          10,
          7,
          11,
          9,
          10,
          13,
          10,
          13,
          9,
          5,
          6,
          10,
          4,
          9,
          7,
          7,
          8,
          11,
          10,
          7,
          8,
          12,
          13,
          13,
          6,
          9,
          11,
          10,
          9,
          8,
          7,
          5,
          12,
          5,
          8,
          6,
          6,
          9,
          4,
          7,
          13,
          4,
          13,
          13,
          5,
          4,
          10,
          8,
          9,
          12,
          8,
          7,
          13,
          5,
          8
         ],
         "y": [
          "2, 6",
          "1, 13",
          "9",
          "2, 4, 6, 11",
          "1, 8, 11",
          "2",
          "8",
          "3, 8, 11",
          "9, 11, 12",
          "11, 13",
          "8, 12",
          "2",
          "3, 13",
          "9, 12",
          "1, 11",
          "13",
          "6, 11",
          "8",
          "11",
          "6, 11",
          "8",
          "2, 11, 12",
          "2, 4, 6, 8, 13",
          "1, 4, 12, 13",
          "13",
          "1, 6, 9",
          "6",
          "9",
          "8",
          "4",
          "4, 8, 9, 12, 13",
          "1, 2, 9, 13",
          "12",
          "1",
          "4",
          "4",
          "6, 8",
          "3",
          "8, 9, 12",
          "2, 3, 9",
          "8",
          "1",
          "1",
          "1, 2, 11",
          "3, 8, 12",
          "6, 11",
          "1, 6, 9, 12",
          "2, 11",
          "1, 4, 13",
          "8",
          "3, 4, 9, 11",
          "2, 9, 11",
          "2, 4",
          "12",
          "13",
          "9",
          "2, 13",
          "3, 8, 9",
          "4",
          "8, 12",
          "6, 8",
          "4, 8, 13",
          "1",
          "1, 8, 13",
          "3, 4, 6, 8",
          "4",
          "11, 13",
          "6, 9",
          "2, 4, 6",
          "3, 9, 13",
          "8, 9",
          "1",
          "12",
          "1, 9, 12, 13",
          "2, 9",
          "4, 6, 13",
          "2, 6, 9",
          "2, 4",
          "1, 4, 6",
          "12",
          "3",
          "4, 6",
          "3, 4",
          "1, 3",
          "3, 11, 12",
          "2",
          "4, 6, 11",
          "3, 9",
          "8, 12",
          "6, 8, 11, 13",
          "2",
          "3, 6, 13",
          "9, 11",
          "2",
          "12",
          "1, 6, 9",
          "4",
          "12, 13",
          "2, 4, 8, 9",
          "3, 6, 8, 9",
          "1, 6, 8, 11",
          "2, 3, 8, 12",
          "8, 12",
          "3",
          "13",
          "3, 11",
          "1, 4, 12",
          "4, 12",
          "1, 6, 8, 12",
          "1, 9, 13",
          "2",
          "6, 12",
          "11",
          "8, 9, 13",
          "3, 11, 13",
          "2, 4, 6, 9, 11",
          "3",
          "1, 4",
          "12",
          "1, 11, 13",
          "9",
          "13",
          "3, 9, 11, 12",
          "1, 12",
          "3",
          "1, 9",
          "3, 8",
          "4, 6, 8, 11",
          "1, 6",
          "4, 12",
          "6, 9, 13",
          "12",
          "8",
          "1, 3, 6, 12",
          "1, 8, 11",
          "3, 13",
          "1, 2, 4, 8, 9, 13",
          "3, 8, 11",
          "2",
          "1, 3",
          "1",
          "11",
          "4, 9",
          "6",
          "1, 4, 6",
          "4, 11",
          "9",
          "8",
          "1",
          "1, 3",
          "3, 9, 12",
          "2",
          "12",
          "2",
          "6, 9, 11",
          "2, 4, 6, 9, 11",
          "1, 3, 4, 6, 11",
          "6, 9, 13",
          "1, 2, 12",
          "1",
          "11",
          "1, 3, 4",
          "2, 4",
          "3, 8",
          "1",
          "6, 13",
          "1, 8, 9, 12",
          "4, 9, 11, 13",
          "4, 13",
          "6",
          "13",
          "6, 8, 12",
          "1, 5, 12, 13",
          "6",
          "12, 13",
          "4",
          "4",
          "1, 8",
          "6",
          "1, 11",
          "3, 10",
          "1, 3, 11, 12",
          "3",
          "12, 13",
          "1, 11",
          "3",
          "3, 9",
          "2, 4, 6",
          "2, 9, 12",
          "2, 3, 8, 11",
          "11, 12, 13",
          "2, 9, 11",
          "2, 4, 13",
          "5",
          "1",
          "8",
          "9",
          "6, 13",
          "1",
          "3",
          "13",
          "1",
          "2, 3",
          "3",
          "3",
          "12, 13",
          "9",
          "2, 6, 11",
          "1",
          "5",
          "9",
          "1, 12, 13",
          "11",
          "11",
          "1, 2, 4, 11, 12",
          "2, 9",
          "6, 8, 9, 11",
          "3, 13",
          "11",
          "5",
          "6, 13",
          "1, 2",
          "9, 13",
          "3, 11, 13",
          "1, 11",
          "11, 13",
          "11, 13",
          "2, 4",
          "13",
          "4, 9, 12",
          "4",
          "2, 6, 9, 13",
          "2",
          "11, 12",
          "4",
          "8, 9, 11",
          "4",
          "9",
          "3, 12",
          "3, 4, 8",
          "11",
          "6",
          "1, 2, 3, 6, 11",
          "4, 10",
          "1",
          "13",
          "1, 12",
          "12, 13",
          "4, 11",
          "13",
          "11",
          "3, 8, 13",
          "12, 13",
          "8, 9, 12",
          "6",
          "8",
          "2, 3, 11",
          "4",
          "3",
          "4",
          "5, 6, 12, 13",
          "4",
          "6",
          "1",
          "12",
          "6",
          "8, 9, 11, 13",
          "4, 13",
          "1, 3, 6, 9, 11",
          "3, 4",
          "2, 4",
          "6, 11, 12",
          "1",
          "1",
          "9, 13",
          "4, 6",
          "4",
          "3",
          "4, 9",
          "1, 13",
          "11",
          "1, 13",
          "8",
          "2, 13",
          "1, 11",
          "11",
          "3, 10",
          "2, 3",
          "1, 4, 12",
          "13",
          "9, 11",
          "12, 13",
          "1, 4",
          "2, 4",
          "12",
          "8",
          "11",
          "2, 13",
          "3",
          "2"
         ],
         "z": [
          0.76,
          0.695,
          0.7,
          0.83625,
          0.8263636363636364,
          0.72875,
          0.845,
          0.7985,
          0.8181818181818182,
          0.777,
          0.745625,
          0.724,
          0.802,
          0.7492857142857143,
          0.8568181818181818,
          0.7794444444444445,
          0.8,
          0.8529166666666667,
          0.7671428571428571,
          0.6833333333333333,
          0.645,
          0.8322222222222222,
          0.824,
          0.8588461538461538,
          0.57,
          0.68,
          0.632,
          0.791,
          0.725,
          0.766875,
          0.8359090909090909,
          0.8195,
          0.75,
          0.775,
          0.81,
          0.661,
          0.68375,
          0.7877777777777778,
          0.7725,
          0.8577272727272728,
          0.7641666666666667,
          0.701,
          0.825,
          0.765,
          0.82375,
          0.815,
          0.8480769230769231,
          0.85,
          0.797,
          0.64875,
          0.810625,
          0.8469230769230769,
          0.8377777777777777,
          0.8107142857142857,
          0.8538461538461538,
          0.7264285714285714,
          0.8085,
          0.8015,
          0.74625,
          0.77,
          0.8309090909090909,
          0.8258333333333333,
          0.631,
          0.8396153846153847,
          0.8227272727272728,
          0.7785,
          0.608,
          0.6791666666666667,
          0.8233333333333334,
          0.8109090909090909,
          0.67,
          0.59375,
          0.7994444444444444,
          0.8304166666666667,
          0.7638888888888888,
          0.7883333333333333,
          0.8515384615384616,
          0.85,
          0.765625,
          0.8476923076923077,
          0.7928571428571428,
          0.8022222222222222,
          0.64875,
          0.8434615384615385,
          0.8338888888888889,
          0.8576923076923076,
          0.8577272727272728,
          0.7985,
          0.8354166666666667,
          0.83375,
          0.6675,
          0.7995,
          0.701,
          0.741875,
          0.7485714285714286,
          0.8580769230769231,
          0.703,
          0.57625,
          0.8005,
          0.8434615384615385,
          0.8453846153846154,
          0.81,
          0.8516666666666667,
          0.5525,
          0.7888888888888889,
          0.816,
          0.8709090909090909,
          0.8415384615384616,
          0.8303846153846154,
          0.7872222222222223,
          0.802,
          0.67125,
          0.7807142857142857,
          0.7722222222222223,
          0.84,
          0.8542307692307692,
          0.621,
          0.737,
          0.685,
          0.83625,
          0.8453846153846154,
          0.8369230769230769,
          0.8530769230769231,
          0.7264285714285714,
          0.759375,
          0.72,
          0.7788888888888889,
          0.8236363636363636,
          0.8388888888888889,
          0.8344444444444444,
          0.8209090909090909,
          0.7833333333333333,
          0.786875,
          0.7691666666666667,
          0.7785714285714286,
          0.7164285714285714,
          0.8407692307692308,
          0.7766666666666666,
          0.6575,
          0.6666666666666666,
          0.8344444444444444,
          0.5475,
          0.8427777777777777,
          0.8416666666666667,
          0.7985,
          0.8227272727272728,
          0.8204545454545454,
          0.775,
          0.66,
          0.712,
          0.8523076923076923,
          0.68375,
          0.55125,
          0.8345833333333333,
          0.814375,
          0.8515384615384616,
          0.8492307692307692,
          0.7471428571428571,
          0.8473076923076923,
          0.741,
          0.773125,
          0.7822222222222223,
          0.8319230769230769,
          0.697,
          0.55,
          0.8145454545454546,
          0.8455,
          0.8118181818181818,
          0.68,
          0.74,
          0.675,
          0.801,
          0.815,
          0.8190909090909091,
          0.68,
          0.83,
          0.7078571428571429,
          0.7683333333333333,
          0.8461538461538461,
          0.7838888888888889,
          0.7857142857142857,
          0.8419230769230769,
          0.813,
          0.6675,
          0.8157142857142857,
          0.7425,
          0.7658333333333334,
          0.8530769230769231,
          0.7883333333333333,
          0.8411538461538461,
          0.8140909090909091,
          0.6708333333333333,
          0.6866666666666666,
          0.62375,
          0.8186363636363636,
          0.799375,
          0.8172727272727273,
          0.7235714285714285,
          0.7292857142857143,
          0.8392307692307692,
          0.649,
          0.66,
          0.763125,
          0.82875,
          0.785,
          0.6708333333333333,
          0.6775,
          0.8645454545454545,
          0.7927777777777778,
          0.81625,
          0.712,
          0.8365384615384616,
          0.7855555555555556,
          0.7928571428571428,
          0.8055,
          0.611,
          0.8457692307692307,
          0.7292857142857143,
          0.834375,
          0.65625,
          0.8329166666666666,
          0.809,
          0.805,
          0.766875,
          0.7945,
          0.8388461538461538,
          0.785,
          0.8403846153846154,
          0.8357692307692308,
          0.8095454545454546,
          0.71,
          0.835,
          0.7041666666666667,
          0.815625,
          0.805,
          0.8566666666666667,
          0.8546153846153847,
          0.78,
          0.709,
          0.83625,
          0.6225,
          0.8311111111111111,
          0.8373076923076923,
          0.6808333333333333,
          0.7825,
          0.79,
          0.7064285714285714,
          0.8022727272727272,
          0.7933333333333333,
          0.7995,
          0.8376923076923077,
          0.807,
          0.8476923076923077,
          0.8294444444444444,
          0.615,
          0.7633333333333333,
          0.805,
          0.675,
          0.8161111111111111,
          0.765,
          0.7671428571428571,
          0.76875,
          0.8236363636363636,
          0.8365,
          0.7871428571428571,
          0.76125,
          0.8441666666666666,
          0.8457692307692307,
          0.8553846153846154,
          0.7808333333333334,
          0.7716666666666666,
          0.8172727272727273,
          0.792,
          0.7777777777777778,
          0.790625,
          0.7314285714285714,
          0.679,
          0.8533333333333334,
          0.73,
          0.76125,
          0.705,
          0.6758333333333333,
          0.7833333333333333,
          0.585,
          0.7971428571428572,
          0.8488461538461538,
          0.6625,
          0.8619230769230769,
          0.8496153846153847,
          0.637,
          0.67875,
          0.8065,
          0.81625,
          0.8261111111111111,
          0.8354166666666667,
          0.815625,
          0.7685714285714286,
          0.8407692307692308,
          0.633,
          0.755625
         ]
        }
       ],
       "layout": {
        "coloraxis": {
         "colorbar": {
          "title": {
           "text": "Complexity Measure"
          }
         },
         "colorscale": [
          [
           0,
           "#440154"
          ],
          [
           0.1111111111111111,
           "#482878"
          ],
          [
           0.2222222222222222,
           "#3e4989"
          ],
          [
           0.3333333333333333,
           "#31688e"
          ],
          [
           0.4444444444444444,
           "#26828e"
          ],
          [
           0.5555555555555556,
           "#1f9e89"
          ],
          [
           0.6666666666666666,
           "#35b779"
          ],
          [
           0.7777777777777778,
           "#6ece58"
          ],
          [
           0.8888888888888888,
           "#b5de2b"
          ],
          [
           1,
           "#fde725"
          ]
         ]
        },
        "height": 800,
        "legend": {
         "tracegroupgap": 0
        },
        "scene": {
         "aspectmode": "auto",
         "aspectratio": {
          "x": 1,
          "y": 1,
          "z": 1
         },
         "camera": {
          "center": {
           "x": 0,
           "y": 0,
           "z": 0
          },
          "eye": {
           "x": 8.369477601415683,
           "y": -98.68671801246089,
           "z": 13.816060676199866
          },
          "projection": {
           "type": "perspective"
          },
          "up": {
           "x": 0,
           "y": 0,
           "z": 1
          }
         },
         "domain": {
          "x": [
           0,
           1
          ],
          "y": [
           0,
           1
          ]
         },
         "xaxis": {
          "title": {
           "text": "Number of Classes"
          },
          "type": "linear"
         },
         "yaxis": {
          "title": {
           "text": "Majority Class Numbers"
          },
          "type": "category"
         },
         "zaxis": {
          "title": {
           "text": "Complexity Measure"
          },
          "type": "linear"
         }
        },
        "template": {
         "data": {
          "bar": [
           {
            "error_x": {
             "color": "#2a3f5f"
            },
            "error_y": {
             "color": "#2a3f5f"
            },
            "marker": {
             "line": {
              "color": "#E5ECF6",
              "width": 0.5
             },
             "pattern": {
              "fillmode": "overlay",
              "size": 10,
              "solidity": 0.2
             }
            },
            "type": "bar"
           }
          ],
          "barpolar": [
           {
            "marker": {
             "line": {
              "color": "#E5ECF6",
              "width": 0.5
             },
             "pattern": {
              "fillmode": "overlay",
              "size": 10,
              "solidity": 0.2
             }
            },
            "type": "barpolar"
           }
          ],
          "carpet": [
           {
            "aaxis": {
             "endlinecolor": "#2a3f5f",
             "gridcolor": "white",
             "linecolor": "white",
             "minorgridcolor": "white",
             "startlinecolor": "#2a3f5f"
            },
            "baxis": {
             "endlinecolor": "#2a3f5f",
             "gridcolor": "white",
             "linecolor": "white",
             "minorgridcolor": "white",
             "startlinecolor": "#2a3f5f"
            },
            "type": "carpet"
           }
          ],
          "choropleth": [
           {
            "colorbar": {
             "outlinewidth": 0,
             "ticks": ""
            },
            "type": "choropleth"
           }
          ],
          "contour": [
           {
            "colorbar": {
             "outlinewidth": 0,
             "ticks": ""
            },
            "colorscale": [
             [
              0,
              "#0d0887"
             ],
             [
              0.1111111111111111,
              "#46039f"
             ],
             [
              0.2222222222222222,
              "#7201a8"
             ],
             [
              0.3333333333333333,
              "#9c179e"
             ],
             [
              0.4444444444444444,
              "#bd3786"
             ],
             [
              0.5555555555555556,
              "#d8576b"
             ],
             [
              0.6666666666666666,
              "#ed7953"
             ],
             [
              0.7777777777777778,
              "#fb9f3a"
             ],
             [
              0.8888888888888888,
              "#fdca26"
             ],
             [
              1,
              "#f0f921"
             ]
            ],
            "type": "contour"
           }
          ],
          "contourcarpet": [
           {
            "colorbar": {
             "outlinewidth": 0,
             "ticks": ""
            },
            "type": "contourcarpet"
           }
          ],
          "heatmap": [
           {
            "colorbar": {
             "outlinewidth": 0,
             "ticks": ""
            },
            "colorscale": [
             [
              0,
              "#0d0887"
             ],
             [
              0.1111111111111111,
              "#46039f"
             ],
             [
              0.2222222222222222,
              "#7201a8"
             ],
             [
              0.3333333333333333,
              "#9c179e"
             ],
             [
              0.4444444444444444,
              "#bd3786"
             ],
             [
              0.5555555555555556,
              "#d8576b"
             ],
             [
              0.6666666666666666,
              "#ed7953"
             ],
             [
              0.7777777777777778,
              "#fb9f3a"
             ],
             [
              0.8888888888888888,
              "#fdca26"
             ],
             [
              1,
              "#f0f921"
             ]
            ],
            "type": "heatmap"
           }
          ],
          "heatmapgl": [
           {
            "colorbar": {
             "outlinewidth": 0,
             "ticks": ""
            },
            "colorscale": [
             [
              0,
              "#0d0887"
             ],
             [
              0.1111111111111111,
              "#46039f"
             ],
             [
              0.2222222222222222,
              "#7201a8"
             ],
             [
              0.3333333333333333,
              "#9c179e"
             ],
             [
              0.4444444444444444,
              "#bd3786"
             ],
             [
              0.5555555555555556,
              "#d8576b"
             ],
             [
              0.6666666666666666,
              "#ed7953"
             ],
             [
              0.7777777777777778,
              "#fb9f3a"
             ],
             [
              0.8888888888888888,
              "#fdca26"
             ],
             [
              1,
              "#f0f921"
             ]
            ],
            "type": "heatmapgl"
           }
          ],
          "histogram": [
           {
            "marker": {
             "pattern": {
              "fillmode": "overlay",
              "size": 10,
              "solidity": 0.2
             }
            },
            "type": "histogram"
           }
          ],
          "histogram2d": [
           {
            "colorbar": {
             "outlinewidth": 0,
             "ticks": ""
            },
            "colorscale": [
             [
              0,
              "#0d0887"
             ],
             [
              0.1111111111111111,
              "#46039f"
             ],
             [
              0.2222222222222222,
              "#7201a8"
             ],
             [
              0.3333333333333333,
              "#9c179e"
             ],
             [
              0.4444444444444444,
              "#bd3786"
             ],
             [
              0.5555555555555556,
              "#d8576b"
             ],
             [
              0.6666666666666666,
              "#ed7953"
             ],
             [
              0.7777777777777778,
              "#fb9f3a"
             ],
             [
              0.8888888888888888,
              "#fdca26"
             ],
             [
              1,
              "#f0f921"
             ]
            ],
            "type": "histogram2d"
           }
          ],
          "histogram2dcontour": [
           {
            "colorbar": {
             "outlinewidth": 0,
             "ticks": ""
            },
            "colorscale": [
             [
              0,
              "#0d0887"
             ],
             [
              0.1111111111111111,
              "#46039f"
             ],
             [
              0.2222222222222222,
              "#7201a8"
             ],
             [
              0.3333333333333333,
              "#9c179e"
             ],
             [
              0.4444444444444444,
              "#bd3786"
             ],
             [
              0.5555555555555556,
              "#d8576b"
             ],
             [
              0.6666666666666666,
              "#ed7953"
             ],
             [
              0.7777777777777778,
              "#fb9f3a"
             ],
             [
              0.8888888888888888,
              "#fdca26"
             ],
             [
              1,
              "#f0f921"
             ]
            ],
            "type": "histogram2dcontour"
           }
          ],
          "mesh3d": [
           {
            "colorbar": {
             "outlinewidth": 0,
             "ticks": ""
            },
            "type": "mesh3d"
           }
          ],
          "parcoords": [
           {
            "line": {
             "colorbar": {
              "outlinewidth": 0,
              "ticks": ""
             }
            },
            "type": "parcoords"
           }
          ],
          "pie": [
           {
            "automargin": true,
            "type": "pie"
           }
          ],
          "scatter": [
           {
            "fillpattern": {
             "fillmode": "overlay",
             "size": 10,
             "solidity": 0.2
            },
            "type": "scatter"
           }
          ],
          "scatter3d": [
           {
            "line": {
             "colorbar": {
              "outlinewidth": 0,
              "ticks": ""
             }
            },
            "marker": {
             "colorbar": {
              "outlinewidth": 0,
              "ticks": ""
             }
            },
            "type": "scatter3d"
           }
          ],
          "scattercarpet": [
           {
            "marker": {
             "colorbar": {
              "outlinewidth": 0,
              "ticks": ""
             }
            },
            "type": "scattercarpet"
           }
          ],
          "scattergeo": [
           {
            "marker": {
             "colorbar": {
              "outlinewidth": 0,
              "ticks": ""
             }
            },
            "type": "scattergeo"
           }
          ],
          "scattergl": [
           {
            "marker": {
             "colorbar": {
              "outlinewidth": 0,
              "ticks": ""
             }
            },
            "type": "scattergl"
           }
          ],
          "scattermapbox": [
           {
            "marker": {
             "colorbar": {
              "outlinewidth": 0,
              "ticks": ""
             }
            },
            "type": "scattermapbox"
           }
          ],
          "scatterpolar": [
           {
            "marker": {
             "colorbar": {
              "outlinewidth": 0,
              "ticks": ""
             }
            },
            "type": "scatterpolar"
           }
          ],
          "scatterpolargl": [
           {
            "marker": {
             "colorbar": {
              "outlinewidth": 0,
              "ticks": ""
             }
            },
            "type": "scatterpolargl"
           }
          ],
          "scatterternary": [
           {
            "marker": {
             "colorbar": {
              "outlinewidth": 0,
              "ticks": ""
             }
            },
            "type": "scatterternary"
           }
          ],
          "surface": [
           {
            "colorbar": {
             "outlinewidth": 0,
             "ticks": ""
            },
            "colorscale": [
             [
              0,
              "#0d0887"
             ],
             [
              0.1111111111111111,
              "#46039f"
             ],
             [
              0.2222222222222222,
              "#7201a8"
             ],
             [
              0.3333333333333333,
              "#9c179e"
             ],
             [
              0.4444444444444444,
              "#bd3786"
             ],
             [
              0.5555555555555556,
              "#d8576b"
             ],
             [
              0.6666666666666666,
              "#ed7953"
             ],
             [
              0.7777777777777778,
              "#fb9f3a"
             ],
             [
              0.8888888888888888,
              "#fdca26"
             ],
             [
              1,
              "#f0f921"
             ]
            ],
            "type": "surface"
           }
          ],
          "table": [
           {
            "cells": {
             "fill": {
              "color": "#EBF0F8"
             },
             "line": {
              "color": "white"
             }
            },
            "header": {
             "fill": {
              "color": "#C8D4E3"
             },
             "line": {
              "color": "white"
             }
            },
            "type": "table"
           }
          ]
         },
         "layout": {
          "annotationdefaults": {
           "arrowcolor": "#2a3f5f",
           "arrowhead": 0,
           "arrowwidth": 1
          },
          "autotypenumbers": "strict",
          "coloraxis": {
           "colorbar": {
            "outlinewidth": 0,
            "ticks": ""
           }
          },
          "colorscale": {
           "diverging": [
            [
             0,
             "#8e0152"
            ],
            [
             0.1,
             "#c51b7d"
            ],
            [
             0.2,
             "#de77ae"
            ],
            [
             0.3,
             "#f1b6da"
            ],
            [
             0.4,
             "#fde0ef"
            ],
            [
             0.5,
             "#f7f7f7"
            ],
            [
             0.6,
             "#e6f5d0"
            ],
            [
             0.7,
             "#b8e186"
            ],
            [
             0.8,
             "#7fbc41"
            ],
            [
             0.9,
             "#4d9221"
            ],
            [
             1,
             "#276419"
            ]
           ],
           "sequential": [
            [
             0,
             "#0d0887"
            ],
            [
             0.1111111111111111,
             "#46039f"
            ],
            [
             0.2222222222222222,
             "#7201a8"
            ],
            [
             0.3333333333333333,
             "#9c179e"
            ],
            [
             0.4444444444444444,
             "#bd3786"
            ],
            [
             0.5555555555555556,
             "#d8576b"
            ],
            [
             0.6666666666666666,
             "#ed7953"
            ],
            [
             0.7777777777777778,
             "#fb9f3a"
            ],
            [
             0.8888888888888888,
             "#fdca26"
            ],
            [
             1,
             "#f0f921"
            ]
           ],
           "sequentialminus": [
            [
             0,
             "#0d0887"
            ],
            [
             0.1111111111111111,
             "#46039f"
            ],
            [
             0.2222222222222222,
             "#7201a8"
            ],
            [
             0.3333333333333333,
             "#9c179e"
            ],
            [
             0.4444444444444444,
             "#bd3786"
            ],
            [
             0.5555555555555556,
             "#d8576b"
            ],
            [
             0.6666666666666666,
             "#ed7953"
            ],
            [
             0.7777777777777778,
             "#fb9f3a"
            ],
            [
             0.8888888888888888,
             "#fdca26"
            ],
            [
             1,
             "#f0f921"
            ]
           ]
          },
          "colorway": [
           "#636efa",
           "#EF553B",
           "#00cc96",
           "#ab63fa",
           "#FFA15A",
           "#19d3f3",
           "#FF6692",
           "#B6E880",
           "#FF97FF",
           "#FECB52"
          ],
          "font": {
           "color": "#2a3f5f"
          },
          "geo": {
           "bgcolor": "white",
           "lakecolor": "white",
           "landcolor": "#E5ECF6",
           "showlakes": true,
           "showland": true,
           "subunitcolor": "white"
          },
          "hoverlabel": {
           "align": "left"
          },
          "hovermode": "closest",
          "mapbox": {
           "style": "light"
          },
          "paper_bgcolor": "white",
          "plot_bgcolor": "#E5ECF6",
          "polar": {
           "angularaxis": {
            "gridcolor": "white",
            "linecolor": "white",
            "ticks": ""
           },
           "bgcolor": "#E5ECF6",
           "radialaxis": {
            "gridcolor": "white",
            "linecolor": "white",
            "ticks": ""
           }
          },
          "scene": {
           "xaxis": {
            "backgroundcolor": "#E5ECF6",
            "gridcolor": "white",
            "gridwidth": 2,
            "linecolor": "white",
            "showbackground": true,
            "ticks": "",
            "zerolinecolor": "white"
           },
           "yaxis": {
            "backgroundcolor": "#E5ECF6",
            "gridcolor": "white",
            "gridwidth": 2,
            "linecolor": "white",
            "showbackground": true,
            "ticks": "",
            "zerolinecolor": "white"
           },
           "zaxis": {
            "backgroundcolor": "#E5ECF6",
            "gridcolor": "white",
            "gridwidth": 2,
            "linecolor": "white",
            "showbackground": true,
            "ticks": "",
            "zerolinecolor": "white"
           }
          },
          "shapedefaults": {
           "line": {
            "color": "#2a3f5f"
           }
          },
          "ternary": {
           "aaxis": {
            "gridcolor": "white",
            "linecolor": "white",
            "ticks": ""
           },
           "baxis": {
            "gridcolor": "white",
            "linecolor": "white",
            "ticks": ""
           },
           "bgcolor": "#E5ECF6",
           "caxis": {
            "gridcolor": "white",
            "linecolor": "white",
            "ticks": ""
           }
          },
          "title": {
           "x": 0.05
          },
          "xaxis": {
           "automargin": true,
           "gridcolor": "white",
           "linecolor": "white",
           "ticks": "",
           "title": {
            "standoff": 15
           },
           "zerolinecolor": "white",
           "zerolinewidth": 2
          },
          "yaxis": {
           "automargin": true,
           "gridcolor": "white",
           "linecolor": "white",
           "ticks": "",
           "title": {
            "standoff": 15
           },
           "zerolinecolor": "white",
           "zerolinewidth": 2
          }
         }
        },
        "title": {
         "text": "Interactive 3D Scatter Plot of Datasets"
        },
        "width": 1000
       }
      },
      "image/png": "[encoded data removed]",
      "text/html": [
       "<div>                            <div id=\"c631c252-4b1a-4e66-bbb4-1276e1efe30e\" class=\"plotly-graph-div\" style=\"height:800px; width:1000px;\"></div>            <script type=\"text/javascript\">                require([\"plotly\"], function(Plotly) {                    window.PLOTLYENV=window.PLOTLYENV || {};                                    if (document.getElementById(\"c631c252-4b1a-4e66-bbb4-1276e1efe30e\")) {                    Plotly.newPlot(                        \"c631c252-4b1a-4e66-bbb4-1276e1efe30e\",                        [{\"customdata\":[[1,\"class_1, class_5\"],[2,\"class_0, class_12\"],[3,\"class_8\"],[4,\"class_1, class_3, class_5, class_10\"],[5,\"class_0, class_7, class_10\"],[6,\"class_1\"],[7,\"class_7\"],[8,\"class_2, class_7, class_10\"],[9,\"class_8, class_10, class_11\"],[10,\"class_10, class_12\"],[11,\"class_7, class_11\"],[12,\"class_1\"],[13,\"class_2, class_12\"],[14,\"class_8, class_11\"],[15,\"class_0, class_10\"],[16,\"class_12\"],[17,\"class_5, class_10\"],[18,\"class_7\"],[19,\"class_10\"],[20,\"class_5, class_10\"],[21,\"class_7\"],[22,\"class_1, class_10, class_11\"],[23,\"class_1, class_3, class_5, class_7, class_12\"],[24,\"class_0, class_3, class_11, class_12\"],[25,\"class_12\"],[26,\"class_0, class_5, class_8\"],[27,\"class_5\"],[28,\"class_8\"],[29,\"class_7\"],[30,\"class_3\"],[31,\"class_3, class_7, class_8, class_11, class_12\"],[32,\"class_0, class_1, class_8, class_12\"],[33,\"class_11\"],[34,\"class_0\"],[35,\"class_3\"],[36,\"class_3\"],[37,\"class_5, class_7\"],[38,\"class_2\"],[39,\"class_7, class_8, class_11\"],[40,\"class_1, class_2, class_8\"],[41,\"class_7\"],[42,\"class_0\"],[43,\"class_0\"],[44,\"class_0, class_1, class_10\"],[45,\"class_2, class_7, class_11\"],[46,\"class_5, class_10\"],[47,\"class_0, class_5, class_8, class_11\"],[48,\"class_1, class_10\"],[49,\"class_0, class_3, class_12\"],[50,\"class_7\"],[51,\"class_2, class_3, class_8, class_10\"],[52,\"class_1, class_8, class_10\"],[53,\"class_1, class_3\"],[54,\"class_11\"],[55,\"class_12\"],[56,\"class_8\"],[57,\"class_1, class_12\"],[58,\"class_2, class_7, class_8\"],[59,\"class_3\"],[60,\"class_7, class_11\"],[61,\"class_5, class_7\"],[62,\"class_3, class_7, class_12\"],[63,\"class_0\"],[64,\"class_0, class_7, class_12\"],[65,\"class_2, class_3, class_5, class_7\"],[66,\"class_3\"],[67,\"class_10, class_12\"],[68,\"class_5, class_8\"],[69,\"class_1, class_3, class_5\"],[70,\"class_2, class_8, class_12\"],[71,\"class_7, class_8\"],[72,\"class_0\"],[73,\"class_11\"],[74,\"class_0, class_8, class_11, class_12\"],[75,\"class_1, class_8\"],[76,\"class_3, class_5, class_12\"],[77,\"class_1, class_5, class_8\"],[78,\"class_1, class_3\"],[79,\"class_0, class_3, class_5\"],[80,\"class_11\"],[81,\"class_2\"],[82,\"class_3, class_5\"],[83,\"class_2, class_3\"],[84,\"class_0, class_2\"],[85,\"class_2, class_10, class_11\"],[86,\"class_1\"],[87,\"class_3, class_5, class_10\"],[88,\"class_2, class_8\"],[89,\"class_7, class_11\"],[90,\"class_5, class_7, class_10, class_12\"],[91,\"class_1\"],[92,\"class_2, class_5, class_12\"],[93,\"class_8, class_10\"],[94,\"class_1\"],[95,\"class_11\"],[96,\"class_0, class_5, class_8\"],[97,\"class_3\"],[98,\"class_11, class_12\"],[99,\"class_1, class_3, class_7, class_8\"],[100,\"class_2, class_5, class_7, class_8\"],[101,\"class_0, class_5, class_7, class_10\"],[102,\"class_1, class_2, class_7, class_11\"],[103,\"class_7, class_11\"],[104,\"class_2\"],[105,\"class_12\"],[106,\"class_2, class_10\"],[107,\"class_0, class_3, class_11\"],[108,\"class_3, class_11\"],[109,\"class_0, class_5, class_7, class_11\"],[110,\"class_0, class_8, class_12\"],[111,\"class_1\"],[112,\"class_5, class_11\"],[113,\"class_10\"],[114,\"class_7, class_8, class_12\"],[115,\"class_2, class_10, class_12\"],[116,\"class_1, class_3, class_5, class_8, class_10\"],[117,\"class_2\"],[118,\"class_0, class_3\"],[119,\"class_11\"],[120,\"class_0, class_10, class_12\"],[121,\"class_8\"],[122,\"class_12\"],[123,\"class_2, class_8, class_10, class_11\"],[124,\"class_0, class_11\"],[125,\"class_2\"],[126,\"class_0, class_8\"],[127,\"class_2, class_7\"],[128,\"class_3, class_5, class_7, class_10\"],[129,\"class_0, class_5\"],[130,\"class_3, class_11\"],[131,\"class_5, class_8, class_12\"],[132,\"class_11\"],[133,\"class_7\"],[134,\"class_0, class_2, class_5, class_11\"],[135,\"class_0, class_7, class_10\"],[136,\"class_2, class_12\"],[137,\"class_0, class_1, class_3, class_7, class_8, class_12\"],[138,\"class_2, class_7, class_10\"],[139,\"class_1\"],[140,\"class_0, class_2\"],[141,\"class_0\"],[142,\"class_10\"],[143,\"class_3, class_8\"],[144,\"class_5\"],[145,\"class_0, class_3, class_5\"],[146,\"class_3, class_10\"],[147,\"class_8\"],[148,\"class_7\"],[149,\"class_0\"],[150,\"class_0, class_2\"],[151,\"class_2, class_8, class_11\"],[152,\"class_1\"],[153,\"class_11\"],[154,\"class_1\"],[155,\"class_5, class_8, class_10\"],[156,\"class_1, class_3, class_5, class_8, class_10\"],[157,\"class_0, class_2, class_3, class_5, class_10\"],[158,\"class_5, class_8, class_12\"],[159,\"class_0, class_1, class_11\"],[160,\"class_0\"],[161,\"class_10\"],[162,\"class_0, class_2, class_3\"],[163,\"class_1, class_3\"],[164,\"class_2, class_7\"],[165,\"class_0\"],[166,\"class_5, class_12\"],[167,\"class_0, class_7, class_8, class_11\"],[168,\"class_3, class_8, class_10, class_12\"],[169,\"class_3, class_12\"],[170,\"class_5\"],[171,\"class_12\"],[172,\"class_5, class_7, class_11\"],[173,\"class_0, class_4, class_11, class_12\"],[174,\"class_5\"],[175,\"class_11, class_12\"],[176,\"class_3\"],[177,\"class_3\"],[178,\"class_0, class_7\"],[179,\"class_5\"],[180,\"class_0, class_10\"],[181,\"class_2, class_9\"],[182,\"class_0, class_2, class_10, class_11\"],[183,\"class_2\"],[184,\"class_11, class_12\"],[185,\"class_0, class_10\"],[186,\"class_2\"],[187,\"class_2, class_8\"],[188,\"class_1, class_3, class_5\"],[189,\"class_1, class_8, class_11\"],[190,\"class_1, class_2, class_7, class_10\"],[191,\"class_10, class_11, class_12\"],[192,\"class_1, class_8, class_10\"],[193,\"class_1, class_3, class_12\"],[194,\"class_4\"],[195,\"class_0\"],[196,\"class_7\"],[197,\"class_8\"],[198,\"class_5, class_12\"],[199,\"class_0\"],[200,\"class_2\"],[201,\"class_12\"],[202,\"class_0\"],[203,\"class_1, class_2\"],[204,\"class_2\"],[205,\"class_2\"],[206,\"class_11, class_12\"],[207,\"class_8\"],[208,\"class_1, class_5, class_10\"],[209,\"class_0\"],[210,\"class_4\"],[211,\"class_8\"],[212,\"class_0, class_11, class_12\"],[213,\"class_10\"],[214,\"class_10\"],[215,\"class_0, class_1, class_3, class_10, class_11\"],[216,\"class_1, class_8\"],[217,\"class_5, class_7, class_8, class_10\"],[218,\"class_2, class_12\"],[219,\"class_10\"],[220,\"class_4\"],[221,\"class_5, class_12\"],[222,\"class_0, class_1\"],[223,\"class_8, class_12\"],[224,\"class_2, class_10, class_12\"],[225,\"class_0, class_10\"],[226,\"class_10, class_12\"],[227,\"class_10, class_12\"],[228,\"class_1, class_3\"],[229,\"class_12\"],[230,\"class_3, class_8, class_11\"],[231,\"class_3\"],[232,\"class_1, class_5, class_8, class_12\"],[233,\"class_1\"],[234,\"class_10, class_11\"],[235,\"class_3\"],[236,\"class_7, class_8, class_10\"],[237,\"class_3\"],[238,\"class_8\"],[239,\"class_2, class_11\"],[240,\"class_2, class_3, class_7\"],[241,\"class_10\"],[242,\"class_5\"],[243,\"class_0, class_1, class_2, class_5, class_10\"],[244,\"class_3, class_9\"],[245,\"class_0\"],[246,\"class_12\"],[247,\"class_0, class_11\"],[248,\"class_11, class_12\"],[249,\"class_3, class_10\"],[250,\"class_12\"],[251,\"class_10\"],[252,\"class_2, class_7, class_12\"],[253,\"class_11, class_12\"],[254,\"class_7, class_8, class_11\"],[255,\"class_5\"],[256,\"class_7\"],[257,\"class_1, class_2, class_10\"],[258,\"class_3\"],[259,\"class_2\"],[260,\"class_3\"],[261,\"class_4, class_5, class_11, class_12\"],[262,\"class_3\"],[263,\"class_5\"],[264,\"class_0\"],[265,\"class_11\"],[266,\"class_5\"],[267,\"class_7, class_8, class_10, class_12\"],[268,\"class_3, class_12\"],[269,\"class_0, class_2, class_5, class_8, class_10\"],[270,\"class_2, class_3\"],[271,\"class_1, class_3\"],[272,\"class_5, class_10, class_11\"],[273,\"class_0\"],[274,\"class_0\"],[275,\"class_8, class_12\"],[276,\"class_3, class_5\"],[277,\"class_3\"],[278,\"class_2\"],[279,\"class_3, class_8\"],[280,\"class_0, class_12\"],[281,\"class_10\"],[282,\"class_0, class_12\"],[283,\"class_7\"],[284,\"class_1, class_12\"],[285,\"class_0, class_10\"],[286,\"class_10\"],[287,\"class_2, class_9\"],[288,\"class_1, class_2\"],[289,\"class_0, class_3, class_11\"],[290,\"class_12\"],[291,\"class_8, class_10\"],[292,\"class_11, class_12\"],[293,\"class_0, class_3\"],[294,\"class_1, class_3\"],[295,\"class_11\"],[296,\"class_7\"],[297,\"class_10\"],[298,\"class_1, class_12\"],[299,\"class_2\"],[300,\"class_1\"]],\"hovertemplate\":\"Number of Classes=%{x}<br>Majority Class Numbers=%{y}<br>Complexity Measure=%{marker.color}<br>dataset_id=%{customdata[0]}<br>majority_classes=%{customdata[1]}<extra></extra>\",\"legendgroup\":\"\",\"marker\":{\"color\":[0.76,0.695,0.7,0.83625,0.8263636363636364,0.72875,0.845,0.7985,0.8181818181818182,0.777,0.745625,0.724,0.802,0.7492857142857143,0.8568181818181818,0.7794444444444445,0.8,0.8529166666666667,0.7671428571428571,0.6833333333333333,0.645,0.8322222222222222,0.824,0.8588461538461538,0.57,0.68,0.632,0.791,0.725,0.766875,0.8359090909090909,0.8195,0.75,0.775,0.81,0.661,0.68375,0.7877777777777778,0.7725,0.8577272727272728,0.7641666666666667,0.701,0.825,0.765,0.82375,0.815,0.8480769230769231,0.85,0.797,0.64875,0.810625,0.8469230769230769,0.8377777777777777,0.8107142857142857,0.8538461538461538,0.7264285714285714,0.8085,0.8015,0.74625,0.77,0.8309090909090909,0.8258333333333333,0.631,0.8396153846153847,0.8227272727272728,0.7785,0.608,0.6791666666666667,0.8233333333333334,0.8109090909090909,0.67,0.59375,0.7994444444444444,0.8304166666666667,0.7638888888888888,0.7883333333333333,0.8515384615384616,0.85,0.765625,0.8476923076923077,0.7928571428571428,0.8022222222222222,0.64875,0.8434615384615385,0.8338888888888889,0.8576923076923076,0.8577272727272728,0.7985,0.8354166666666667,0.83375,0.6675,0.7995,0.701,0.741875,0.7485714285714286,0.8580769230769231,0.703,0.57625,0.8005,0.8434615384615385,0.8453846153846154,0.81,0.8516666666666667,0.5525,0.7888888888888889,0.816,0.8709090909090909,0.8415384615384616,0.8303846153846154,0.7872222222222223,0.802,0.67125,0.7807142857142857,0.7722222222222223,0.84,0.8542307692307692,0.621,0.737,0.685,0.83625,0.8453846153846154,0.8369230769230769,0.8530769230769231,0.7264285714285714,0.759375,0.72,0.7788888888888889,0.8236363636363636,0.8388888888888889,0.8344444444444444,0.8209090909090909,0.7833333333333333,0.786875,0.7691666666666667,0.7785714285714286,0.7164285714285714,0.8407692307692308,0.7766666666666666,0.6575,0.6666666666666666,0.8344444444444444,0.5475,0.8427777777777777,0.8416666666666667,0.7985,0.8227272727272728,0.8204545454545454,0.775,0.66,0.712,0.8523076923076923,0.68375,0.55125,0.8345833333333333,0.814375,0.8515384615384616,0.8492307692307692,0.7471428571428571,0.8473076923076923,0.741,0.773125,0.7822222222222223,0.8319230769230769,0.697,0.55,0.8145454545454546,0.8455,0.8118181818181818,0.68,0.74,0.675,0.801,0.815,0.8190909090909091,0.68,0.83,0.7078571428571429,0.7683333333333333,0.8461538461538461,0.7838888888888889,0.7857142857142857,0.8419230769230769,0.813,0.6675,0.8157142857142857,0.7425,0.7658333333333334,0.8530769230769231,0.7883333333333333,0.8411538461538461,0.8140909090909091,0.6708333333333333,0.6866666666666666,0.62375,0.8186363636363636,0.799375,0.8172727272727273,0.7235714285714285,0.7292857142857143,0.8392307692307692,0.649,0.66,0.763125,0.82875,0.785,0.6708333333333333,0.6775,0.8645454545454545,0.7927777777777778,0.81625,0.712,0.8365384615384616,0.7855555555555556,0.7928571428571428,0.8055,0.611,0.8457692307692307,0.7292857142857143,0.834375,0.65625,0.8329166666666666,0.809,0.805,0.766875,0.7945,0.8388461538461538,0.785,0.8403846153846154,0.8357692307692308,0.8095454545454546,0.71,0.835,0.7041666666666667,0.815625,0.805,0.8566666666666667,0.8546153846153847,0.78,0.709,0.83625,0.6225,0.8311111111111111,0.8373076923076923,0.6808333333333333,0.7825,0.79,0.7064285714285714,0.8022727272727272,0.7933333333333333,0.7995,0.8376923076923077,0.807,0.8476923076923077,0.8294444444444444,0.615,0.7633333333333333,0.805,0.675,0.8161111111111111,0.765,0.7671428571428571,0.76875,0.8236363636363636,0.8365,0.7871428571428571,0.76125,0.8441666666666666,0.8457692307692307,0.8553846153846154,0.7808333333333334,0.7716666666666666,0.8172727272727273,0.792,0.7777777777777778,0.790625,0.7314285714285714,0.679,0.8533333333333334,0.73,0.76125,0.705,0.6758333333333333,0.7833333333333333,0.585,0.7971428571428572,0.8488461538461538,0.6625,0.8619230769230769,0.8496153846153847,0.637,0.67875,0.8065,0.81625,0.8261111111111111,0.8354166666666667,0.815625,0.7685714285714286,0.8407692307692308,0.633,0.755625],\"coloraxis\":\"coloraxis\",\"symbol\":\"circle\"},\"mode\":\"markers\",\"name\":\"\",\"scene\":\"scene\",\"showlegend\":false,\"x\":[5,6,6,12,11,4,13,10,11,10,8,5,10,7,11,9,10,12,7,6,4,9,10,13,4,6,5,10,5,8,11,10,5,9,10,5,4,9,6,11,6,5,8,8,12,9,13,13,10,4,8,13,9,7,13,7,10,10,8,6,11,12,5,13,11,10,5,6,12,11,6,4,9,12,9,9,13,13,8,13,7,9,4,13,9,13,11,10,12,12,4,10,5,8,7,13,5,4,10,13,13,11,12,4,9,10,11,13,13,9,10,4,7,9,12,13,5,5,6,12,13,13,13,7,8,4,9,11,9,9,11,9,8,6,7,7,13,9,4,6,9,4,9,12,10,11,11,7,4,5,13,4,4,12,8,13,13,7,13,5,8,9,13,5,4,11,10,11,6,6,6,10,10,11,6,11,7,6,13,9,7,13,10,6,7,8,6,13,6,13,11,6,6,4,11,8,11,7,7,13,5,6,8,12,7,6,4,11,9,8,5,13,9,7,10,5,13,7,8,4,12,10,10,8,10,13,8,13,13,11,4,10,6,8,10,12,13,9,5,12,4,9,13,6,8,10,7,11,9,10,13,10,13,9,5,6,10,4,9,7,7,8,11,10,7,8,12,13,13,6,9,11,10,9,8,7,5,12,5,8,6,6,9,4,7,13,4,13,13,5,4,10,8,9,12,8,7,13,5,8],\"y\":[\"2, 6\",\"1, 13\",\"9\",\"2, 4, 6, 11\",\"1, 8, 11\",\"2\",\"8\",\"3, 8, 11\",\"9, 11, 12\",\"11, 13\",\"8, 12\",\"2\",\"3, 13\",\"9, 12\",\"1, 11\",\"13\",\"6, 11\",\"8\",\"11\",\"6, 11\",\"8\",\"2, 11, 12\",\"2, 4, 6, 8, 13\",\"1, 4, 12, 13\",\"13\",\"1, 6, 9\",\"6\",\"9\",\"8\",\"4\",\"4, 8, 9, 12, 13\",\"1, 2, 9, 13\",\"12\",\"1\",\"4\",\"4\",\"6, 8\",\"3\",\"8, 9, 12\",\"2, 3, 9\",\"8\",\"1\",\"1\",\"1, 2, 11\",\"3, 8, 12\",\"6, 11\",\"1, 6, 9, 12\",\"2, 11\",\"1, 4, 13\",\"8\",\"3, 4, 9, 11\",\"2, 9, 11\",\"2, 4\",\"12\",\"13\",\"9\",\"2, 13\",\"3, 8, 9\",\"4\",\"8, 12\",\"6, 8\",\"4, 8, 13\",\"1\",\"1, 8, 13\",\"3, 4, 6, 8\",\"4\",\"11, 13\",\"6, 9\",\"2, 4, 6\",\"3, 9, 13\",\"8, 9\",\"1\",\"12\",\"1, 9, 12, 13\",\"2, 9\",\"4, 6, 13\",\"2, 6, 9\",\"2, 4\",\"1, 4, 6\",\"12\",\"3\",\"4, 6\",\"3, 4\",\"1, 3\",\"3, 11, 12\",\"2\",\"4, 6, 11\",\"3, 9\",\"8, 12\",\"6, 8, 11, 13\",\"2\",\"3, 6, 13\",\"9, 11\",\"2\",\"12\",\"1, 6, 9\",\"4\",\"12, 13\",\"2, 4, 8, 9\",\"3, 6, 8, 9\",\"1, 6, 8, 11\",\"2, 3, 8, 12\",\"8, 12\",\"3\",\"13\",\"3, 11\",\"1, 4, 12\",\"4, 12\",\"1, 6, 8, 12\",\"1, 9, 13\",\"2\",\"6, 12\",\"11\",\"8, 9, 13\",\"3, 11, 13\",\"2, 4, 6, 9, 11\",\"3\",\"1, 4\",\"12\",\"1, 11, 13\",\"9\",\"13\",\"3, 9, 11, 12\",\"1, 12\",\"3\",\"1, 9\",\"3, 8\",\"4, 6, 8, 11\",\"1, 6\",\"4, 12\",\"6, 9, 13\",\"12\",\"8\",\"1, 3, 6, 12\",\"1, 8, 11\",\"3, 13\",\"1, 2, 4, 8, 9, 13\",\"3, 8, 11\",\"2\",\"1, 3\",\"1\",\"11\",\"4, 9\",\"6\",\"1, 4, 6\",\"4, 11\",\"9\",\"8\",\"1\",\"1, 3\",\"3, 9, 12\",\"2\",\"12\",\"2\",\"6, 9, 11\",\"2, 4, 6, 9, 11\",\"1, 3, 4, 6, 11\",\"6, 9, 13\",\"1, 2, 12\",\"1\",\"11\",\"1, 3, 4\",\"2, 4\",\"3, 8\",\"1\",\"6, 13\",\"1, 8, 9, 12\",\"4, 9, 11, 13\",\"4, 13\",\"6\",\"13\",\"6, 8, 12\",\"1, 5, 12, 13\",\"6\",\"12, 13\",\"4\",\"4\",\"1, 8\",\"6\",\"1, 11\",\"3, 10\",\"1, 3, 11, 12\",\"3\",\"12, 13\",\"1, 11\",\"3\",\"3, 9\",\"2, 4, 6\",\"2, 9, 12\",\"2, 3, 8, 11\",\"11, 12, 13\",\"2, 9, 11\",\"2, 4, 13\",\"5\",\"1\",\"8\",\"9\",\"6, 13\",\"1\",\"3\",\"13\",\"1\",\"2, 3\",\"3\",\"3\",\"12, 13\",\"9\",\"2, 6, 11\",\"1\",\"5\",\"9\",\"1, 12, 13\",\"11\",\"11\",\"1, 2, 4, 11, 12\",\"2, 9\",\"6, 8, 9, 11\",\"3, 13\",\"11\",\"5\",\"6, 13\",\"1, 2\",\"9, 13\",\"3, 11, 13\",\"1, 11\",\"11, 13\",\"11, 13\",\"2, 4\",\"13\",\"4, 9, 12\",\"4\",\"2, 6, 9, 13\",\"2\",\"11, 12\",\"4\",\"8, 9, 11\",\"4\",\"9\",\"3, 12\",\"3, 4, 8\",\"11\",\"6\",\"1, 2, 3, 6, 11\",\"4, 10\",\"1\",\"13\",\"1, 12\",\"12, 13\",\"4, 11\",\"13\",\"11\",\"3, 8, 13\",\"12, 13\",\"8, 9, 12\",\"6\",\"8\",\"2, 3, 11\",\"4\",\"3\",\"4\",\"5, 6, 12, 13\",\"4\",\"6\",\"1\",\"12\",\"6\",\"8, 9, 11, 13\",\"4, 13\",\"1, 3, 6, 9, 11\",\"3, 4\",\"2, 4\",\"6, 11, 12\",\"1\",\"1\",\"9, 13\",\"4, 6\",\"4\",\"3\",\"4, 9\",\"1, 13\",\"11\",\"1, 13\",\"8\",\"2, 13\",\"1, 11\",\"11\",\"3, 10\",\"2, 3\",\"1, 4, 12\",\"13\",\"9, 11\",\"12, 13\",\"1, 4\",\"2, 4\",\"12\",\"8\",\"11\",\"2, 13\",\"3\",\"2\"],\"z\":[0.76,0.695,0.7,0.83625,0.8263636363636364,0.72875,0.845,0.7985,0.8181818181818182,0.777,0.745625,0.724,0.802,0.7492857142857143,0.8568181818181818,0.7794444444444445,0.8,0.8529166666666667,0.7671428571428571,0.6833333333333333,0.645,0.8322222222222222,0.824,0.8588461538461538,0.57,0.68,0.632,0.791,0.725,0.766875,0.8359090909090909,0.8195,0.75,0.775,0.81,0.661,0.68375,0.7877777777777778,0.7725,0.8577272727272728,0.7641666666666667,0.701,0.825,0.765,0.82375,0.815,0.8480769230769231,0.85,0.797,0.64875,0.810625,0.8469230769230769,0.8377777777777777,0.8107142857142857,0.8538461538461538,0.7264285714285714,0.8085,0.8015,0.74625,0.77,0.8309090909090909,0.8258333333333333,0.631,0.8396153846153847,0.8227272727272728,0.7785,0.608,0.6791666666666667,0.8233333333333334,0.8109090909090909,0.67,0.59375,0.7994444444444444,0.8304166666666667,0.7638888888888888,0.7883333333333333,0.8515384615384616,0.85,0.765625,0.8476923076923077,0.7928571428571428,0.8022222222222222,0.64875,0.8434615384615385,0.8338888888888889,0.8576923076923076,0.8577272727272728,0.7985,0.8354166666666667,0.83375,0.6675,0.7995,0.701,0.741875,0.7485714285714286,0.8580769230769231,0.703,0.57625,0.8005,0.8434615384615385,0.8453846153846154,0.81,0.8516666666666667,0.5525,0.7888888888888889,0.816,0.8709090909090909,0.8415384615384616,0.8303846153846154,0.7872222222222223,0.802,0.67125,0.7807142857142857,0.7722222222222223,0.84,0.8542307692307692,0.621,0.737,0.685,0.83625,0.8453846153846154,0.8369230769230769,0.8530769230769231,0.7264285714285714,0.759375,0.72,0.7788888888888889,0.8236363636363636,0.8388888888888889,0.8344444444444444,0.8209090909090909,0.7833333333333333,0.786875,0.7691666666666667,0.7785714285714286,0.7164285714285714,0.8407692307692308,0.7766666666666666,0.6575,0.6666666666666666,0.8344444444444444,0.5475,0.8427777777777777,0.8416666666666667,0.7985,0.8227272727272728,0.8204545454545454,0.775,0.66,0.712,0.8523076923076923,0.68375,0.55125,0.8345833333333333,0.814375,0.8515384615384616,0.8492307692307692,0.7471428571428571,0.8473076923076923,0.741,0.773125,0.7822222222222223,0.8319230769230769,0.697,0.55,0.8145454545454546,0.8455,0.8118181818181818,0.68,0.74,0.675,0.801,0.815,0.8190909090909091,0.68,0.83,0.7078571428571429,0.7683333333333333,0.8461538461538461,0.7838888888888889,0.7857142857142857,0.8419230769230769,0.813,0.6675,0.8157142857142857,0.7425,0.7658333333333334,0.8530769230769231,0.7883333333333333,0.8411538461538461,0.8140909090909091,0.6708333333333333,0.6866666666666666,0.62375,0.8186363636363636,0.799375,0.8172727272727273,0.7235714285714285,0.7292857142857143,0.8392307692307692,0.649,0.66,0.763125,0.82875,0.785,0.6708333333333333,0.6775,0.8645454545454545,0.7927777777777778,0.81625,0.712,0.8365384615384616,0.7855555555555556,0.7928571428571428,0.8055,0.611,0.8457692307692307,0.7292857142857143,0.834375,0.65625,0.8329166666666666,0.809,0.805,0.766875,0.7945,0.8388461538461538,0.785,0.8403846153846154,0.8357692307692308,0.8095454545454546,0.71,0.835,0.7041666666666667,0.815625,0.805,0.8566666666666667,0.8546153846153847,0.78,0.709,0.83625,0.6225,0.8311111111111111,0.8373076923076923,0.6808333333333333,0.7825,0.79,0.7064285714285714,0.8022727272727272,0.7933333333333333,0.7995,0.8376923076923077,0.807,0.8476923076923077,0.8294444444444444,0.615,0.7633333333333333,0.805,0.675,0.8161111111111111,0.765,0.7671428571428571,0.76875,0.8236363636363636,0.8365,0.7871428571428571,0.76125,0.8441666666666666,0.8457692307692307,0.8553846153846154,0.7808333333333334,0.7716666666666666,0.8172727272727273,0.792,0.7777777777777778,0.790625,0.7314285714285714,0.679,0.8533333333333334,0.73,0.76125,0.705,0.6758333333333333,0.7833333333333333,0.585,0.7971428571428572,0.8488461538461538,0.6625,0.8619230769230769,0.8496153846153847,0.637,0.67875,0.8065,0.81625,0.8261111111111111,0.8354166666666667,0.815625,0.7685714285714286,0.8407692307692308,0.633,0.755625],\"type\":\"scatter3d\"}],                        {\"template\":{\"data\":{\"histogram2dcontour\":[{\"type\":\"histogram2dcontour\",\"colorbar\":{\"outlinewidth\":0,\"ticks\":\"\"},\"colorscale\":[[0.0,\"#0d0887\"],[0.1111111111111111,\"#46039f\"],[0.2222222222222222,\"#7201a8\"],[0.3333333333333333,\"#9c179e\"],[0.4444444444444444,\"#bd3786\"],[0.5555555555555556,\"#d8576b\"],[0.6666666666666666,\"#ed7953\"],[0.7777777777777778,\"#fb9f3a\"],[0.8888888888888888,\"#fdca26\"],[1.0,\"#f0f921\"]]}],\"choropleth\":[{\"type\":\"choropleth\",\"colorbar\":{\"outlinewidth\":0,\"ticks\":\"\"}}],\"histogram2d\":[{\"type\":\"histogram2d\",\"colorbar\":{\"outlinewidth\":0,\"ticks\":\"\"},\"colorscale\":[[0.0,\"#0d0887\"],[0.1111111111111111,\"#46039f\"],[0.2222222222222222,\"#7201a8\"],[0.3333333333333333,\"#9c179e\"],[0.4444444444444444,\"#bd3786\"],[0.5555555555555556,\"#d8576b\"],[0.6666666666666666,\"#ed7953\"],[0.7777777777777778,\"#fb9f3a\"],[0.8888888888888888,\"#fdca26\"],[1.0,\"#f0f921\"]]}],\"heatmap\":[{\"type\":\"heatmap\",\"colorbar\":{\"outlinewidth\":0,\"ticks\":\"\"},\"colorscale\":[[0.0,\"#0d0887\"],[0.1111111111111111,\"#46039f\"],[0.2222222222222222,\"#7201a8\"],[0.3333333333333333,\"#9c179e\"],[0.4444444444444444,\"#bd3786\"],[0.5555555555555556,\"#d8576b\"],[0.6666666666666666,\"#ed7953\"],[0.7777777777777778,\"#fb9f3a\"],[0.8888888888888888,\"#fdca26\"],[1.0,\"#f0f921\"]]}],\"heatmapgl\":[{\"type\":\"heatmapgl\",\"colorbar\":{\"outlinewidth\":0,\"ticks\":\"\"},\"colorscale\":[[0.0,\"#0d0887\"],[0.1111111111111111,\"#46039f\"],[0.2222222222222222,\"#7201a8\"],[0.3333333333333333,\"#9c179e\"],[0.4444444444444444,\"#bd3786\"],[0.5555555555555556,\"#d8576b\"],[0.6666666666666666,\"#ed7953\"],[0.7777777777777778,\"#fb9f3a\"],[0.8888888888888888,\"#fdca26\"],[1.0,\"#f0f921\"]]}],\"contourcarpet\":[{\"type\":\"contourcarpet\",\"colorbar\":{\"outlinewidth\":0,\"ticks\":\"\"}}],\"contour\":[{\"type\":\"contour\",\"colorbar\":{\"outlinewidth\":0,\"ticks\":\"\"},\"colorscale\":[[0.0,\"#0d0887\"],[0.1111111111111111,\"#46039f\"],[0.2222222222222222,\"#7201a8\"],[0.3333333333333333,\"#9c179e\"],[0.4444444444444444,\"#bd3786\"],[0.5555555555555556,\"#d8576b\"],[0.6666666666666666,\"#ed7953\"],[0.7777777777777778,\"#fb9f3a\"],[0.8888888888888888,\"#fdca26\"],[1.0,\"#f0f921\"]]}],\"surface\":[{\"type\":\"surface\",\"colorbar\":{\"outlinewidth\":0,\"ticks\":\"\"},\"colorscale\":[[0.0,\"#0d0887\"],[0.1111111111111111,\"#46039f\"],[0.2222222222222222,\"#7201a8\"],[0.3333333333333333,\"#9c179e\"],[0.4444444444444444,\"#bd3786\"],[0.5555555555555556,\"#d8576b\"],[0.6666666666666666,\"#ed7953\"],[0.7777777777777778,\"#fb9f3a\"],[0.8888888888888888,\"#fdca26\"],[1.0,\"#f0f921\"]]}],\"mesh3d\":[{\"type\":\"mesh3d\",\"colorbar\":{\"outlinewidth\":0,\"ticks\":\"\"}}],\"scatter\":[{\"fillpattern\":{\"fillmode\":\"overlay\",\"size\":10,\"solidity\":0.2},\"type\":\"scatter\"}],\"parcoords\":[{\"type\":\"parcoords\",\"line\":{\"colorbar\":{\"outlinewidth\":0,\"ticks\":\"\"}}}],\"scatterpolargl\":[{\"type\":\"scatterpolargl\",\"marker\":{\"colorbar\":{\"outlinewidth\":0,\"ticks\":\"\"}}}],\"bar\":[{\"error_x\":{\"color\":\"#2a3f5f\"},\"error_y\":{\"color\":\"#2a3f5f\"},\"marker\":{\"line\":{\"color\":\"#E5ECF6\",\"width\":0.5},\"pattern\":{\"fillmode\":\"overlay\",\"size\":10,\"solidity\":0.2}},\"type\":\"bar\"}],\"scattergeo\":[{\"type\":\"scattergeo\",\"marker\":{\"colorbar\":{\"outlinewidth\":0,\"ticks\":\"\"}}}],\"scatterpolar\":[{\"type\":\"scatterpolar\",\"marker\":{\"colorbar\":{\"outlinewidth\":0,\"ticks\":\"\"}}}],\"histogram\":[{\"marker\":{\"pattern\":{\"fillmode\":\"overlay\",\"size\":10,\"solidity\":0.2}},\"type\":\"histogram\"}],\"scattergl\":[{\"type\":\"scattergl\",\"marker\":{\"colorbar\":{\"outlinewidth\":0,\"ticks\":\"\"}}}],\"scatter3d\":[{\"type\":\"scatter3d\",\"line\":{\"colorbar\":{\"outlinewidth\":0,\"ticks\":\"\"}},\"marker\":{\"colorbar\":{\"outlinewidth\":0,\"ticks\":\"\"}}}],\"scattermapbox\":[{\"type\":\"scattermapbox\",\"marker\":{\"colorbar\":{\"outlinewidth\":0,\"ticks\":\"\"}}}],\"scatterternary\":[{\"type\":\"scatterternary\",\"marker\":{\"colorbar\":{\"outlinewidth\":0,\"ticks\":\"\"}}}],\"scattercarpet\":[{\"type\":\"scattercarpet\",\"marker\":{\"colorbar\":{\"outlinewidth\":0,\"ticks\":\"\"}}}],\"carpet\":[{\"aaxis\":{\"endlinecolor\":\"#2a3f5f\",\"gridcolor\":\"white\",\"linecolor\":\"white\",\"minorgridcolor\":\"white\",\"startlinecolor\":\"#2a3f5f\"},\"baxis\":{\"endlinecolor\":\"#2a3f5f\",\"gridcolor\":\"white\",\"linecolor\":\"white\",\"minorgridcolor\":\"white\",\"startlinecolor\":\"#2a3f5f\"},\"type\":\"carpet\"}],\"table\":[{\"cells\":{\"fill\":{\"color\":\"#EBF0F8\"},\"line\":{\"color\":\"white\"}},\"header\":{\"fill\":{\"color\":\"#C8D4E3\"},\"line\":{\"color\":\"white\"}},\"type\":\"table\"}],\"barpolar\":[{\"marker\":{\"line\":{\"color\":\"#E5ECF6\",\"width\":0.5},\"pattern\":{\"fillmode\":\"overlay\",\"size\":10,\"solidity\":0.2}},\"type\":\"barpolar\"}],\"pie\":[{\"automargin\":true,\"type\":\"pie\"}]},\"layout\":{\"autotypenumbers\":\"strict\",\"colorway\":[\"#636efa\",\"#EF553B\",\"#00cc96\",\"#ab63fa\",\"#FFA15A\",\"#19d3f3\",\"#FF6692\",\"#B6E880\",\"#FF97FF\",\"#FECB52\"],\"font\":{\"color\":\"#2a3f5f\"},\"hovermode\":\"closest\",\"hoverlabel\":{\"align\":\"left\"},\"paper_bgcolor\":\"white\",\"plot_bgcolor\":\"#E5ECF6\",\"polar\":{\"bgcolor\":\"#E5ECF6\",\"angularaxis\":{\"gridcolor\":\"white\",\"linecolor\":\"white\",\"ticks\":\"\"},\"radialaxis\":{\"gridcolor\":\"white\",\"linecolor\":\"white\",\"ticks\":\"\"}},\"ternary\":{\"bgcolor\":\"#E5ECF6\",\"aaxis\":{\"gridcolor\":\"white\",\"linecolor\":\"white\",\"ticks\":\"\"},\"baxis\":{\"gridcolor\":\"white\",\"linecolor\":\"white\",\"ticks\":\"\"},\"caxis\":{\"gridcolor\":\"white\",\"linecolor\":\"white\",\"ticks\":\"\"}},\"coloraxis\":{\"colorbar\":{\"outlinewidth\":0,\"ticks\":\"\"}},\"colorscale\":{\"sequential\":[[0.0,\"#0d0887\"],[0.1111111111111111,\"#46039f\"],[0.2222222222222222,\"#7201a8\"],[0.3333333333333333,\"#9c179e\"],[0.4444444444444444,\"#bd3786\"],[0.5555555555555556,\"#d8576b\"],[0.6666666666666666,\"#ed7953\"],[0.7777777777777778,\"#fb9f3a\"],[0.8888888888888888,\"#fdca26\"],[1.0,\"#f0f921\"]],\"sequentialminus\":[[0.0,\"#0d0887\"],[0.1111111111111111,\"#46039f\"],[0.2222222222222222,\"#7201a8\"],[0.3333333333333333,\"#9c179e\"],[0.4444444444444444,\"#bd3786\"],[0.5555555555555556,\"#d8576b\"],[0.6666666666666666,\"#ed7953\"],[0.7777777777777778,\"#fb9f3a\"],[0.8888888888888888,\"#fdca26\"],[1.0,\"#f0f921\"]],\"diverging\":[[0,\"#8e0152\"],[0.1,\"#c51b7d\"],[0.2,\"#de77ae\"],[0.3,\"#f1b6da\"],[0.4,\"#fde0ef\"],[0.5,\"#f7f7f7\"],[0.6,\"#e6f5d0\"],[0.7,\"#b8e186\"],[0.8,\"#7fbc41\"],[0.9,\"#4d9221\"],[1,\"#276419\"]]},\"xaxis\":{\"gridcolor\":\"white\",\"linecolor\":\"white\",\"ticks\":\"\",\"title\":{\"standoff\":15},\"zerolinecolor\":\"white\",\"automargin\":true,\"zerolinewidth\":2},\"yaxis\":{\"gridcolor\":\"white\",\"linecolor\":\"white\",\"ticks\":\"\",\"title\":{\"standoff\":15},\"zerolinecolor\":\"white\",\"automargin\":true,\"zerolinewidth\":2},\"scene\":{\"xaxis\":{\"backgroundcolor\":\"#E5ECF6\",\"gridcolor\":\"white\",\"linecolor\":\"white\",\"showbackground\":true,\"ticks\":\"\",\"zerolinecolor\":\"white\",\"gridwidth\":2},\"yaxis\":{\"backgroundcolor\":\"#E5ECF6\",\"gridcolor\":\"white\",\"linecolor\":\"white\",\"showbackground\":true,\"ticks\":\"\",\"zerolinecolor\":\"white\",\"gridwidth\":2},\"zaxis\":{\"backgroundcolor\":\"#E5ECF6\",\"gridcolor\":\"white\",\"linecolor\":\"white\",\"showbackground\":true,\"ticks\":\"\",\"zerolinecolor\":\"white\",\"gridwidth\":2}},\"shapedefaults\":{\"line\":{\"color\":\"#2a3f5f\"}},\"annotationdefaults\":{\"arrowcolor\":\"#2a3f5f\",\"arrowhead\":0,\"arrowwidth\":1},\"geo\":{\"bgcolor\":\"white\",\"landcolor\":\"#E5ECF6\",\"subunitcolor\":\"white\",\"showland\":true,\"showlakes\":true,\"lakecolor\":\"white\"},\"title\":{\"x\":0.05},\"mapbox\":{\"style\":\"light\"}}},\"scene\":{\"domain\":{\"x\":[0.0,1.0],\"y\":[0.0,1.0]},\"xaxis\":{\"title\":{\"text\":\"Number of Classes\"}},\"yaxis\":{\"title\":{\"text\":\"Majority Class Numbers\"}},\"zaxis\":{\"title\":{\"text\":\"Complexity Measure\"}}},\"coloraxis\":{\"colorbar\":{\"title\":{\"text\":\"Complexity Measure\"}},\"colorscale\":[[0.0,\"#440154\"],[0.1111111111111111,\"#482878\"],[0.2222222222222222,\"#3e4989\"],[0.3333333333333333,\"#31688e\"],[0.4444444444444444,\"#26828e\"],[0.5555555555555556,\"#1f9e89\"],[0.6666666666666666,\"#35b779\"],[0.7777777777777778,\"#6ece58\"],[0.8888888888888888,\"#b5de2b\"],[1.0,\"#fde725\"]]},\"legend\":{\"tracegroupgap\":0},\"title\":{\"text\":\"Interactive 3D Scatter Plot of Datasets\"},\"width\":1000,\"height\":800},                        {\"responsive\": true}                    ).then(function(){\n",
       "                            \n",
       "var gd = document.getElementById('c631c252-4b1a-4e66-bbb4-1276e1efe30e');\n",
       "var x = new MutationObserver(function (mutations, observer) {{\n",
       "        var display = window.getComputedStyle(gd).display;\n",
       "        if (!display || display === 'none') {{\n",
       "            console.log([gd, 'removed!']);\n",
       "            Plotly.purge(gd);\n",
       "            observer.disconnect();\n",
       "        }}\n",
       "}});\n",
       "\n",
       "// Listen for the removal of the full notebook cells\n",
       "var notebookContainer = gd.closest('#notebook-container');\n",
       "if (notebookContainer) {{\n",
       "    x.observe(notebookContainer, {childList: true});\n",
       "}}\n",
       "\n",
       "// Listen for the clearing of the current output cell\n",
       "var outputEl = gd.closest('.output');\n",
       "if (outputEl) {{\n",
       "    x.observe(outputEl, {childList: true});\n",
       "}}\n",
       "\n",
       "                        })                };                });            </script>        </div>"
      ]
     },
     "metadata": {},
     "output_type": "display_data"
    },
    {
     "data": {
      "application/vnd.plotly.v1+json": {
       "config": {
        "plotlyServerURL": "https://plot.ly"
       },
       "data": [
        {
         "customdata": [
          [
           1
          ]
         ],
         "hovertemplate": "Majority Classes=class_1, class_5<br>Number of Classes=%{x}<br>Complexity Measure=%{y}<br>dataset_id=%{customdata[0]}<extra></extra>",
         "legendgroup": "class_1, class_5",
         "marker": {
          "color": "#636efa",
          "symbol": "circle"
         },
         "mode": "markers",
         "name": "class_1, class_5",
         "orientation": "v",
         "showlegend": true,
         "type": "scatter",
         "x": [
          5
         ],
         "xaxis": "x",
         "y": [
          0.76
         ],
         "yaxis": "y"
        },
        {
         "customdata": [
          [
           2
          ],
          [
           280
          ],
          [
           282
          ]
         ],
         "hovertemplate": "Majority Classes=class_0, class_12<br>Number of Classes=%{x}<br>Complexity Measure=%{y}<br>dataset_id=%{customdata[0]}<extra></extra>",
         "legendgroup": "class_0, class_12",
         "marker": {
          "color": "#EF553B",
          "symbol": "circle"
         },
         "mode": "markers",
         "name": "class_0, class_12",
         "orientation": "v",
         "showlegend": true,
         "type": "scatter",
         "x": [
          6,
          8,
          6
         ],
         "xaxis": "x",
         "y": [
          0.695,
          0.76125,
          0.6758333333333333
         ],
         "yaxis": "y"
        },
        {
         "customdata": [
          [
           3
          ],
          [
           28
          ],
          [
           56
          ],
          [
           121
          ],
          [
           147
          ],
          [
           197
          ],
          [
           207
          ],
          [
           211
          ],
          [
           238
          ]
         ],
         "hovertemplate": "Majority Classes=class_8<br>Number of Classes=%{x}<br>Complexity Measure=%{y}<br>dataset_id=%{customdata[0]}<extra></extra>",
         "legendgroup": "class_8",
         "marker": {
          "color": "#00cc96",
          "symbol": "circle"
         },
         "mode": "markers",
         "name": "class_8",
         "orientation": "v",
         "showlegend": true,
         "type": "scatter",
         "x": [
          6,
          10,
          7,
          13,
          11,
          11,
          4,
          5,
          9
         ],
         "xaxis": "x",
         "y": [
          0.7,
          0.791,
          0.7264285714285714,
          0.8453846153846154,
          0.8204545454545454,
          0.8172727272727273,
          0.6775,
          0.712,
          0.78
         ],
         "yaxis": "y"
        },
        {
         "customdata": [
          [
           4
          ]
         ],
         "hovertemplate": "Majority Classes=class_1, class_3, class_5, class_10<br>Number of Classes=%{x}<br>Complexity Measure=%{y}<br>dataset_id=%{customdata[0]}<extra></extra>",
         "legendgroup": "class_1, class_3, class_5, class_10",
         "marker": {
          "color": "#ab63fa",
          "symbol": "circle"
         },
         "mode": "markers",
         "name": "class_1, class_3, class_5, class_10",
         "orientation": "v",
         "showlegend": true,
         "type": "scatter",
         "x": [
          12
         ],
         "xaxis": "x",
         "y": [
          0.83625
         ],
         "yaxis": "y"
        },
        {
         "customdata": [
          [
           5
          ],
          [
           135
          ]
         ],
         "hovertemplate": "Majority Classes=class_0, class_7, class_10<br>Number of Classes=%{x}<br>Complexity Measure=%{y}<br>dataset_id=%{customdata[0]}<extra></extra>",
         "legendgroup": "class_0, class_7, class_10",
         "marker": {
          "color": "#FFA15A",
          "symbol": "circle"
         },
         "mode": "markers",
         "name": "class_0, class_7, class_10",
         "orientation": "v",
         "showlegend": true,
         "type": "scatter",
         "x": [
          11,
          7
         ],
         "xaxis": "x",
         "y": [
          0.8263636363636364,
          0.7785714285714286
         ],
         "yaxis": "y"
        },
        {
         "customdata": [
          [
           6
          ],
          [
           12
          ],
          [
           86
          ],
          [
           91
          ],
          [
           94
          ],
          [
           111
          ],
          [
           139
          ],
          [
           152
          ],
          [
           154
          ],
          [
           233
          ],
          [
           300
          ]
         ],
         "hovertemplate": "Majority Classes=class_1<br>Number of Classes=%{x}<br>Complexity Measure=%{y}<br>dataset_id=%{customdata[0]}<extra></extra>",
         "legendgroup": "class_1",
         "marker": {
          "color": "#19d3f3",
          "symbol": "circle"
         },
         "mode": "markers",
         "name": "class_1",
         "orientation": "v",
         "showlegend": true,
         "type": "scatter",
         "x": [
          4,
          5,
          13,
          4,
          8,
          10,
          4,
          4,
          12,
          6,
          8
         ],
         "xaxis": "x",
         "y": [
          0.72875,
          0.724,
          0.8576923076923076,
          0.6675,
          0.741875,
          0.802,
          0.6575,
          0.68375,
          0.8345833333333333,
          0.7041666666666667,
          0.755625
         ],
         "yaxis": "y"
        },
        {
         "customdata": [
          [
           7
          ],
          [
           18
          ],
          [
           21
          ],
          [
           29
          ],
          [
           41
          ],
          [
           50
          ],
          [
           133
          ],
          [
           148
          ],
          [
           196
          ],
          [
           256
          ],
          [
           283
          ],
          [
           296
          ]
         ],
         "hovertemplate": "Majority Classes=class_7<br>Number of Classes=%{x}<br>Complexity Measure=%{y}<br>dataset_id=%{customdata[0]}<extra></extra>",
         "legendgroup": "class_7",
         "marker": {
          "color": "#FF6692",
          "symbol": "circle"
         },
         "mode": "markers",
         "name": "class_7",
         "orientation": "v",
         "showlegend": true,
         "type": "scatter",
         "x": [
          13,
          12,
          4,
          5,
          6,
          4,
          8,
          7,
          8,
          6,
          9,
          8
         ],
         "xaxis": "x",
         "y": [
          0.845,
          0.8529166666666667,
          0.645,
          0.725,
          0.7641666666666667,
          0.64875,
          0.786875,
          0.775,
          0.799375,
          0.7633333333333333,
          0.7833333333333333,
          0.815625
         ],
         "yaxis": "y"
        },
        {
         "customdata": [
          [
           8
          ],
          [
           138
          ]
         ],
         "hovertemplate": "Majority Classes=class_2, class_7, class_10<br>Number of Classes=%{x}<br>Complexity Measure=%{y}<br>dataset_id=%{customdata[0]}<extra></extra>",
         "legendgroup": "class_2, class_7, class_10",
         "marker": {
          "color": "#B6E880",
          "symbol": "circle"
         },
         "mode": "markers",
         "name": "class_2, class_7, class_10",
         "orientation": "v",
         "showlegend": true,
         "type": "scatter",
         "visible": "legendonly",
         "x": [
          10,
          9
         ],
         "xaxis": "x",
         "y": [
          0.7985,
          0.7766666666666666
         ],
         "yaxis": "y"
        },
        {
         "customdata": [
          [
           9
          ]
         ],
         "hovertemplate": "Majority Classes=class_8, class_10, class_11<br>Number of Classes=%{x}<br>Complexity Measure=%{y}<br>dataset_id=%{customdata[0]}<extra></extra>",
         "legendgroup": "class_8, class_10, class_11",
         "marker": {
          "color": "#FF97FF",
          "symbol": "circle"
         },
         "mode": "markers",
         "name": "class_8, class_10, class_11",
         "orientation": "v",
         "showlegend": true,
         "type": "scatter",
         "x": [
          11
         ],
         "xaxis": "x",
         "y": [
          0.8181818181818182
         ],
         "yaxis": "y"
        },
        {
         "customdata": [
          [
           10
          ],
          [
           67
          ],
          [
           226
          ],
          [
           227
          ]
         ],
         "hovertemplate": "Majority Classes=class_10, class_12<br>Number of Classes=%{x}<br>Complexity Measure=%{y}<br>dataset_id=%{customdata[0]}<extra></extra>",
         "legendgroup": "class_10, class_12",
         "marker": {
          "color": "#FECB52",
          "symbol": "circle"
         },
         "mode": "markers",
         "name": "class_10, class_12",
         "orientation": "v",
         "showlegend": true,
         "type": "scatter",
         "x": [
          10,
          5,
          13,
          8
         ],
         "xaxis": "x",
         "y": [
          0.777,
          0.608,
          0.8388461538461538,
          0.785
         ],
         "yaxis": "y"
        },
        {
         "customdata": [
          [
           11
          ],
          [
           60
          ],
          [
           89
          ],
          [
           103
          ]
         ],
         "hovertemplate": "Majority Classes=class_7, class_11<br>Number of Classes=%{x}<br>Complexity Measure=%{y}<br>dataset_id=%{customdata[0]}<extra></extra>",
         "legendgroup": "class_7, class_11",
         "marker": {
          "color": "#636efa",
          "symbol": "circle"
         },
         "mode": "markers",
         "name": "class_7, class_11",
         "orientation": "v",
         "showlegend": true,
         "type": "scatter",
         "x": [
          8,
          6,
          12,
          12
         ],
         "xaxis": "x",
         "y": [
          0.745625,
          0.77,
          0.8354166666666667,
          0.8516666666666667
         ],
         "yaxis": "y"
        },
        {
         "customdata": [
          [
           13
          ],
          [
           136
          ],
          [
           218
          ]
         ],
         "hovertemplate": "Majority Classes=class_2, class_12<br>Number of Classes=%{x}<br>Complexity Measure=%{y}<br>dataset_id=%{customdata[0]}<extra></extra>",
         "legendgroup": "class_2, class_12",
         "marker": {
          "color": "#EF553B",
          "symbol": "circle"
         },
         "mode": "markers",
         "name": "class_2, class_12",
         "orientation": "v",
         "showlegend": true,
         "type": "scatter",
         "x": [
          10,
          7,
          7
         ],
         "xaxis": "x",
         "y": [
          0.802,
          0.7164285714285714,
          0.7292857142857143
         ],
         "yaxis": "y"
        },
        {
         "customdata": [
          [
           14
          ]
         ],
         "hovertemplate": "Majority Classes=class_8, class_11<br>Number of Classes=%{x}<br>Complexity Measure=%{y}<br>dataset_id=%{customdata[0]}<extra></extra>",
         "legendgroup": "class_8, class_11",
         "marker": {
          "color": "#00cc96",
          "symbol": "circle"
         },
         "mode": "markers",
         "name": "class_8, class_11",
         "orientation": "v",
         "showlegend": true,
         "type": "scatter",
         "x": [
          7
         ],
         "xaxis": "x",
         "y": [
          0.7492857142857143
         ],
         "yaxis": "y"
        },
        {
         "customdata": [
          [
           15
          ],
          [
           180
          ],
          [
           185
          ],
          [
           225
          ],
          [
           285
          ]
         ],
         "hovertemplate": "Majority Classes=class_0, class_10<br>Number of Classes=%{x}<br>Complexity Measure=%{y}<br>dataset_id=%{customdata[0]}<extra></extra>",
         "legendgroup": "class_0, class_10",
         "marker": {
          "color": "#ab63fa",
          "symbol": "circle"
         },
         "mode": "markers",
         "name": "class_0, class_10",
         "orientation": "v",
         "showlegend": true,
         "type": "scatter",
         "x": [
          11,
          9,
          7,
          10,
          7
         ],
         "xaxis": "x",
         "y": [
          0.8568181818181818,
          0.7838888888888889,
          0.8157142857142857,
          0.7945,
          0.7971428571428572
         ],
         "yaxis": "y"
        },
        {
         "customdata": [
          [
           16
          ],
          [
           25
          ],
          [
           55
          ],
          [
           105
          ],
          [
           122
          ],
          [
           171
          ],
          [
           201
          ],
          [
           229
          ],
          [
           246
          ],
          [
           250
          ],
          [
           290
          ]
         ],
         "hovertemplate": "Majority Classes=class_12<br>Number of Classes=%{x}<br>Complexity Measure=%{y}<br>dataset_id=%{customdata[0]}<extra></extra>",
         "legendgroup": "class_12",
         "marker": {
          "color": "#FFA15A",
          "symbol": "circle"
         },
         "mode": "markers",
         "name": "class_12",
         "orientation": "v",
         "showlegend": true,
         "type": "scatter",
         "x": [
          9,
          4,
          13,
          9,
          13,
          6,
          5,
          13,
          10,
          10,
          5
         ],
         "xaxis": "x",
         "y": [
          0.7794444444444445,
          0.57,
          0.8538461538461538,
          0.7888888888888889,
          0.8369230769230769,
          0.675,
          0.649,
          0.8357692307692308,
          0.79,
          0.7995,
          0.637
         ],
         "yaxis": "y"
        },
        {
         "customdata": [
          [
           17
          ],
          [
           20
          ],
          [
           46
          ]
         ],
         "hovertemplate": "Majority Classes=class_5, class_10<br>Number of Classes=%{x}<br>Complexity Measure=%{y}<br>dataset_id=%{customdata[0]}<extra></extra>",
         "legendgroup": "class_5, class_10",
         "marker": {
          "color": "#19d3f3",
          "symbol": "circle"
         },
         "mode": "markers",
         "name": "class_5, class_10",
         "orientation": "v",
         "showlegend": true,
         "type": "scatter",
         "x": [
          10,
          6,
          9
         ],
         "xaxis": "x",
         "y": [
          0.8,
          0.6833333333333333,
          0.815
         ],
         "yaxis": "y"
        },
        {
         "customdata": [
          [
           19
          ],
          [
           113
          ],
          [
           142
          ],
          [
           161
          ],
          [
           213
          ],
          [
           214
          ],
          [
           219
          ],
          [
           241
          ],
          [
           251
          ],
          [
           281
          ],
          [
           286
          ],
          [
           297
          ]
         ],
         "hovertemplate": "Majority Classes=class_10<br>Number of Classes=%{x}<br>Complexity Measure=%{y}<br>dataset_id=%{customdata[0]}<extra></extra>",
         "legendgroup": "class_10",
         "marker": {
          "color": "#FF6692",
          "symbol": "circle"
         },
         "mode": "markers",
         "name": "class_10",
         "orientation": "v",
         "showlegend": true,
         "type": "scatter",
         "x": [
          7,
          7,
          4,
          8,
          9,
          7,
          8,
          4,
          13,
          6,
          13,
          7
         ],
         "xaxis": "x",
         "y": [
          0.7671428571428571,
          0.7807142857142857,
          0.5475,
          0.773125,
          0.7855555555555556,
          0.7928571428571428,
          0.834375,
          0.6225,
          0.8376923076923077,
          0.705,
          0.8488461538461538,
          0.7685714285714286
         ],
         "yaxis": "y"
        },
        {
         "customdata": [
          [
           22
          ]
         ],
         "hovertemplate": "Majority Classes=class_1, class_10, class_11<br>Number of Classes=%{x}<br>Complexity Measure=%{y}<br>dataset_id=%{customdata[0]}<extra></extra>",
         "legendgroup": "class_1, class_10, class_11",
         "marker": {
          "color": "#B6E880",
          "symbol": "circle"
         },
         "mode": "markers",
         "name": "class_1, class_10, class_11",
         "orientation": "v",
         "showlegend": true,
         "type": "scatter",
         "x": [
          9
         ],
         "xaxis": "x",
         "y": [
          0.8322222222222222
         ],
         "yaxis": "y"
        },
        {
         "customdata": [
          [
           23
          ]
         ],
         "hovertemplate": "Majority Classes=class_1, class_3, class_5, class_7, class_12<br>Number of Classes=%{x}<br>Complexity Measure=%{y}<br>dataset_id=%{customdata[0]}<extra></extra>",
         "legendgroup": "class_1, class_3, class_5, class_7, class_12",
         "marker": {
          "color": "#FF97FF",
          "symbol": "circle"
         },
         "mode": "markers",
         "name": "class_1, class_3, class_5, class_7, class_12",
         "orientation": "v",
         "showlegend": true,
         "type": "scatter",
         "x": [
          10
         ],
         "xaxis": "x",
         "y": [
          0.824
         ],
         "yaxis": "y"
        },
        {
         "customdata": [
          [
           24
          ]
         ],
         "hovertemplate": "Majority Classes=class_0, class_3, class_11, class_12<br>Number of Classes=%{x}<br>Complexity Measure=%{y}<br>dataset_id=%{customdata[0]}<extra></extra>",
         "legendgroup": "class_0, class_3, class_11, class_12",
         "marker": {
          "color": "#FECB52",
          "symbol": "circle"
         },
         "mode": "markers",
         "name": "class_0, class_3, class_11, class_12",
         "orientation": "v",
         "showlegend": true,
         "type": "scatter",
         "x": [
          13
         ],
         "xaxis": "x",
         "y": [
          0.8588461538461538
         ],
         "yaxis": "y"
        },
        {
         "customdata": [
          [
           26
          ],
          [
           96
          ]
         ],
         "hovertemplate": "Majority Classes=class_0, class_5, class_8<br>Number of Classes=%{x}<br>Complexity Measure=%{y}<br>dataset_id=%{customdata[0]}<extra></extra>",
         "legendgroup": "class_0, class_5, class_8",
         "marker": {
          "color": "#636efa",
          "symbol": "circle"
         },
         "mode": "markers",
         "name": "class_0, class_5, class_8",
         "orientation": "v",
         "showlegend": true,
         "type": "scatter",
         "x": [
          6,
          13
         ],
         "xaxis": "x",
         "y": [
          0.68,
          0.8580769230769231
         ],
         "yaxis": "y"
        },
        {
         "customdata": [
          [
           27
          ],
          [
           144
          ],
          [
           170
          ],
          [
           174
          ],
          [
           179
          ],
          [
           242
          ],
          [
           255
          ],
          [
           263
          ],
          [
           266
          ]
         ],
         "hovertemplate": "Majority Classes=class_5<br>Number of Classes=%{x}<br>Complexity Measure=%{y}<br>dataset_id=%{customdata[0]}<extra></extra>",
         "legendgroup": "class_5",
         "marker": {
          "color": "#EF553B",
          "symbol": "circle"
         },
         "mode": "markers",
         "name": "class_5",
         "orientation": "v",
         "showlegend": true,
         "type": "scatter",
         "x": [
          5,
          12,
          6,
          11,
          13,
          9,
          5,
          11,
          8
         ],
         "xaxis": "x",
         "y": [
          0.632,
          0.8416666666666667,
          0.74,
          0.8190909090909091,
          0.8461538461538461,
          0.8311111111111111,
          0.615,
          0.8236363636363636,
          0.76125
         ],
         "yaxis": "y"
        },
        {
         "customdata": [
          [
           30
          ],
          [
           35
          ],
          [
           36
          ],
          [
           59
          ],
          [
           66
          ],
          [
           97
          ],
          [
           176
          ],
          [
           177
          ],
          [
           231
          ],
          [
           235
          ],
          [
           237
          ],
          [
           258
          ],
          [
           260
          ],
          [
           262
          ],
          [
           277
          ]
         ],
         "hovertemplate": "Majority Classes=class_3<br>Number of Classes=%{x}<br>Complexity Measure=%{y}<br>dataset_id=%{customdata[0]}<extra></extra>",
         "legendgroup": "class_3",
         "marker": {
          "color": "#00cc96",
          "symbol": "circle"
         },
         "mode": "markers",
         "name": "class_3",
         "orientation": "v",
         "showlegend": true,
         "type": "scatter",
         "x": [
          8,
          10,
          5,
          8,
          10,
          5,
          11,
          7,
          4,
          10,
          13,
          4,
          7,
          8,
          5
         ],
         "xaxis": "x",
         "y": [
          0.766875,
          0.81,
          0.661,
          0.74625,
          0.7785,
          0.703,
          0.83,
          0.7078571428571429,
          0.71,
          0.805,
          0.8546153846153847,
          0.675,
          0.765,
          0.76875,
          0.679
         ],
         "yaxis": "y"
        },
        {
         "customdata": [
          [
           31
          ]
         ],
         "hovertemplate": "Majority Classes=class_3, class_7, class_8, class_11, class_12<br>Number of Classes=%{x}<br>Complexity Measure=%{y}<br>dataset_id=%{customdata[0]}<extra></extra>",
         "legendgroup": "class_3, class_7, class_8, class_11, class_12",
         "marker": {
          "color": "#ab63fa",
          "symbol": "circle"
         },
         "mode": "markers",
         "name": "class_3, class_7, class_8, class_11, class_12",
         "orientation": "v",
         "showlegend": true,
         "type": "scatter",
         "x": [
          11
         ],
         "xaxis": "x",
         "y": [
          0.8359090909090909
         ],
         "yaxis": "y"
        },
        {
         "customdata": [
          [
           32
          ]
         ],
         "hovertemplate": "Majority Classes=class_0, class_1, class_8, class_12<br>Number of Classes=%{x}<br>Complexity Measure=%{y}<br>dataset_id=%{customdata[0]}<extra></extra>",
         "legendgroup": "class_0, class_1, class_8, class_12",
         "marker": {
          "color": "#FFA15A",
          "symbol": "circle"
         },
         "mode": "markers",
         "name": "class_0, class_1, class_8, class_12",
         "orientation": "v",
         "showlegend": true,
         "type": "scatter",
         "x": [
          10
         ],
         "xaxis": "x",
         "y": [
          0.8195
         ],
         "yaxis": "y"
        },
        {
         "customdata": [
          [
           33
          ],
          [
           54
          ],
          [
           73
          ],
          [
           80
          ],
          [
           95
          ],
          [
           119
          ],
          [
           132
          ],
          [
           153
          ],
          [
           265
          ],
          [
           295
          ]
         ],
         "hovertemplate": "Majority Classes=class_11<br>Number of Classes=%{x}<br>Complexity Measure=%{y}<br>dataset_id=%{customdata[0]}<extra></extra>",
         "legendgroup": "class_11",
         "marker": {
          "color": "#19d3f3",
          "symbol": "circle"
         },
         "mode": "markers",
         "name": "class_11",
         "orientation": "v",
         "showlegend": true,
         "type": "scatter",
         "x": [
          5,
          7,
          9,
          13,
          7,
          6,
          9,
          4,
          7,
          12
         ],
         "xaxis": "x",
         "y": [
          0.75,
          0.8107142857142857,
          0.7994444444444444,
          0.8476923076923077,
          0.7485714285714286,
          0.685,
          0.7833333333333333,
          0.55125,
          0.7871428571428571,
          0.8354166666666667
         ],
         "yaxis": "y"
        },
        {
         "customdata": [
          [
           34
          ],
          [
           42
          ],
          [
           43
          ],
          [
           63
          ],
          [
           72
          ],
          [
           141
          ],
          [
           149
          ],
          [
           160
          ],
          [
           165
          ],
          [
           195
          ],
          [
           199
          ],
          [
           202
          ],
          [
           209
          ],
          [
           245
          ],
          [
           264
          ],
          [
           273
          ],
          [
           274
          ]
         ],
         "hovertemplate": "Majority Classes=class_0<br>Number of Classes=%{x}<br>Complexity Measure=%{y}<br>dataset_id=%{customdata[0]}<extra></extra>",
         "legendgroup": "class_0",
         "marker": {
          "color": "#FF6692",
          "symbol": "circle"
         },
         "mode": "markers",
         "name": "class_0",
         "orientation": "v",
         "showlegend": true,
         "type": "scatter",
         "x": [
          9,
          5,
          8,
          5,
          4,
          9,
          4,
          5,
          4,
          11,
          7,
          6,
          9,
          8,
          10,
          10,
          9
         ],
         "xaxis": "x",
         "y": [
          0.775,
          0.701,
          0.825,
          0.631,
          0.59375,
          0.8344444444444444,
          0.66,
          0.741,
          0.55,
          0.8186363636363636,
          0.7292857142857143,
          0.66,
          0.7927777777777778,
          0.7825,
          0.8365,
          0.792,
          0.7777777777777778
         ],
         "yaxis": "y"
        },
        {
         "customdata": [
          [
           37
          ],
          [
           61
          ]
         ],
         "hovertemplate": "Majority Classes=class_5, class_7<br>Number of Classes=%{x}<br>Complexity Measure=%{y}<br>dataset_id=%{customdata[0]}<extra></extra>",
         "legendgroup": "class_5, class_7",
         "marker": {
          "color": "#B6E880",
          "symbol": "circle"
         },
         "mode": "markers",
         "name": "class_5, class_7",
         "orientation": "v",
         "showlegend": true,
         "type": "scatter",
         "x": [
          4,
          11
         ],
         "xaxis": "x",
         "y": [
          0.68375,
          0.8309090909090909
         ],
         "yaxis": "y"
        },
        {
         "customdata": [
          [
           38
          ],
          [
           81
          ],
          [
           104
          ],
          [
           117
          ],
          [
           125
          ],
          [
           183
          ],
          [
           186
          ],
          [
           200
          ],
          [
           204
          ],
          [
           205
          ],
          [
           259
          ],
          [
           278
          ],
          [
           299
          ]
         ],
         "hovertemplate": "Majority Classes=class_2<br>Number of Classes=%{x}<br>Complexity Measure=%{y}<br>dataset_id=%{customdata[0]}<extra></extra>",
         "legendgroup": "class_2",
         "marker": {
          "color": "#FF97FF",
          "symbol": "circle"
         },
         "mode": "markers",
         "name": "class_2",
         "orientation": "v",
         "showlegend": true,
         "type": "scatter",
         "x": [
          9,
          7,
          4,
          5,
          8,
          10,
          8,
          13,
          12,
          7,
          9,
          12,
          5
         ],
         "xaxis": "x",
         "y": [
          0.7877777777777778,
          0.7928571428571428,
          0.5525,
          0.621,
          0.759375,
          0.813,
          0.7425,
          0.8392307692307692,
          0.82875,
          0.785,
          0.8161111111111111,
          0.8533333333333334,
          0.633
         ],
         "yaxis": "y"
        },
        {
         "customdata": [
          [
           39
          ],
          [
           254
          ]
         ],
         "hovertemplate": "Majority Classes=class_7, class_8, class_11<br>Number of Classes=%{x}<br>Complexity Measure=%{y}<br>dataset_id=%{customdata[0]}<extra></extra>",
         "legendgroup": "class_7, class_8, class_11",
         "marker": {
          "color": "#FECB52",
          "symbol": "circle"
         },
         "mode": "markers",
         "name": "class_7, class_8, class_11",
         "orientation": "v",
         "showlegend": true,
         "type": "scatter",
         "x": [
          6,
          9
         ],
         "xaxis": "x",
         "y": [
          0.7725,
          0.8294444444444444
         ],
         "yaxis": "y"
        },
        {
         "customdata": [
          [
           40
          ]
         ],
         "hovertemplate": "Majority Classes=class_1, class_2, class_8<br>Number of Classes=%{x}<br>Complexity Measure=%{y}<br>dataset_id=%{customdata[0]}<extra></extra>",
         "legendgroup": "class_1, class_2, class_8",
         "marker": {
          "color": "#636efa",
          "symbol": "circle"
         },
         "mode": "markers",
         "name": "class_1, class_2, class_8",
         "orientation": "v",
         "showlegend": true,
         "type": "scatter",
         "x": [
          11
         ],
         "xaxis": "x",
         "y": [
          0.8577272727272728
         ],
         "yaxis": "y"
        },
        {
         "customdata": [
          [
           44
          ]
         ],
         "hovertemplate": "Majority Classes=class_0, class_1, class_10<br>Number of Classes=%{x}<br>Complexity Measure=%{y}<br>dataset_id=%{customdata[0]}<extra></extra>",
         "legendgroup": "class_0, class_1, class_10",
         "marker": {
          "color": "#EF553B",
          "symbol": "circle"
         },
         "mode": "markers",
         "name": "class_0, class_1, class_10",
         "orientation": "v",
         "showlegend": true,
         "type": "scatter",
         "x": [
          8
         ],
         "xaxis": "x",
         "y": [
          0.765
         ],
         "yaxis": "y"
        },
        {
         "customdata": [
          [
           45
          ]
         ],
         "hovertemplate": "Majority Classes=class_2, class_7, class_11<br>Number of Classes=%{x}<br>Complexity Measure=%{y}<br>dataset_id=%{customdata[0]}<extra></extra>",
         "legendgroup": "class_2, class_7, class_11",
         "marker": {
          "color": "#00cc96",
          "symbol": "circle"
         },
         "mode": "markers",
         "name": "class_2, class_7, class_11",
         "orientation": "v",
         "showlegend": true,
         "type": "scatter",
         "x": [
          12
         ],
         "xaxis": "x",
         "y": [
          0.82375
         ],
         "yaxis": "y"
        },
        {
         "customdata": [
          [
           47
          ]
         ],
         "hovertemplate": "Majority Classes=class_0, class_5, class_8, class_11<br>Number of Classes=%{x}<br>Complexity Measure=%{y}<br>dataset_id=%{customdata[0]}<extra></extra>",
         "legendgroup": "class_0, class_5, class_8, class_11",
         "marker": {
          "color": "#ab63fa",
          "symbol": "circle"
         },
         "mode": "markers",
         "name": "class_0, class_5, class_8, class_11",
         "orientation": "v",
         "showlegend": true,
         "type": "scatter",
         "x": [
          13
         ],
         "xaxis": "x",
         "y": [
          0.8480769230769231
         ],
         "yaxis": "y"
        },
        {
         "customdata": [
          [
           48
          ]
         ],
         "hovertemplate": "Majority Classes=class_1, class_10<br>Number of Classes=%{x}<br>Complexity Measure=%{y}<br>dataset_id=%{customdata[0]}<extra></extra>",
         "legendgroup": "class_1, class_10",
         "marker": {
          "color": "#FFA15A",
          "symbol": "circle"
         },
         "mode": "markers",
         "name": "class_1, class_10",
         "orientation": "v",
         "showlegend": true,
         "type": "scatter",
         "x": [
          13
         ],
         "xaxis": "x",
         "y": [
          0.85
         ],
         "yaxis": "y"
        },
        {
         "customdata": [
          [
           49
          ]
         ],
         "hovertemplate": "Majority Classes=class_0, class_3, class_12<br>Number of Classes=%{x}<br>Complexity Measure=%{y}<br>dataset_id=%{customdata[0]}<extra></extra>",
         "legendgroup": "class_0, class_3, class_12",
         "marker": {
          "color": "#19d3f3",
          "symbol": "circle"
         },
         "mode": "markers",
         "name": "class_0, class_3, class_12",
         "orientation": "v",
         "showlegend": true,
         "type": "scatter",
         "x": [
          10
         ],
         "xaxis": "x",
         "y": [
          0.797
         ],
         "yaxis": "y"
        },
        {
         "customdata": [
          [
           51
          ]
         ],
         "hovertemplate": "Majority Classes=class_2, class_3, class_8, class_10<br>Number of Classes=%{x}<br>Complexity Measure=%{y}<br>dataset_id=%{customdata[0]}<extra></extra>",
         "legendgroup": "class_2, class_3, class_8, class_10",
         "marker": {
          "color": "#FF6692",
          "symbol": "circle"
         },
         "mode": "markers",
         "name": "class_2, class_3, class_8, class_10",
         "orientation": "v",
         "showlegend": true,
         "type": "scatter",
         "x": [
          8
         ],
         "xaxis": "x",
         "y": [
          0.810625
         ],
         "yaxis": "y"
        },
        {
         "customdata": [
          [
           52
          ],
          [
           192
          ]
         ],
         "hovertemplate": "Majority Classes=class_1, class_8, class_10<br>Number of Classes=%{x}<br>Complexity Measure=%{y}<br>dataset_id=%{customdata[0]}<extra></extra>",
         "legendgroup": "class_1, class_8, class_10",
         "marker": {
          "color": "#B6E880",
          "symbol": "circle"
         },
         "mode": "markers",
         "name": "class_1, class_8, class_10",
         "orientation": "v",
         "showlegend": true,
         "type": "scatter",
         "x": [
          13,
          6
         ],
         "xaxis": "x",
         "y": [
          0.8469230769230769,
          0.6708333333333333
         ],
         "yaxis": "y"
        },
        {
         "customdata": [
          [
           53
          ],
          [
           78
          ],
          [
           163
          ],
          [
           228
          ],
          [
           271
          ],
          [
           294
          ]
         ],
         "hovertemplate": "Majority Classes=class_1, class_3<br>Number of Classes=%{x}<br>Complexity Measure=%{y}<br>dataset_id=%{customdata[0]}<extra></extra>",
         "legendgroup": "class_1, class_3",
         "marker": {
          "color": "#FF97FF",
          "symbol": "circle"
         },
         "mode": "markers",
         "name": "class_1, class_3",
         "orientation": "v",
         "showlegend": true,
         "type": "scatter",
         "x": [
          9,
          13,
          13,
          13,
          9,
          9
         ],
         "xaxis": "x",
         "y": [
          0.8377777777777777,
          0.85,
          0.8319230769230769,
          0.8403846153846154,
          0.7716666666666666,
          0.8261111111111111
         ],
         "yaxis": "y"
        },
        {
         "customdata": [
          [
           57
          ],
          [
           284
          ],
          [
           298
          ]
         ],
         "hovertemplate": "Majority Classes=class_1, class_12<br>Number of Classes=%{x}<br>Complexity Measure=%{y}<br>dataset_id=%{customdata[0]}<extra></extra>",
         "legendgroup": "class_1, class_12",
         "marker": {
          "color": "#FECB52",
          "symbol": "circle"
         },
         "mode": "markers",
         "name": "class_1, class_12",
         "orientation": "v",
         "showlegend": true,
         "type": "scatter",
         "x": [
          10,
          4,
          13
         ],
         "xaxis": "x",
         "y": [
          0.8085,
          0.585,
          0.8407692307692308
         ],
         "yaxis": "y"
        },
        {
         "customdata": [
          [
           58
          ]
         ],
         "hovertemplate": "Majority Classes=class_2, class_7, class_8<br>Number of Classes=%{x}<br>Complexity Measure=%{y}<br>dataset_id=%{customdata[0]}<extra></extra>",
         "legendgroup": "class_2, class_7, class_8",
         "marker": {
          "color": "#636efa",
          "symbol": "circle"
         },
         "mode": "markers",
         "name": "class_2, class_7, class_8",
         "orientation": "v",
         "showlegend": true,
         "type": "scatter",
         "x": [
          10
         ],
         "xaxis": "x",
         "y": [
          0.8015
         ],
         "yaxis": "y"
        },
        {
         "customdata": [
          [
           62
          ]
         ],
         "hovertemplate": "Majority Classes=class_3, class_7, class_12<br>Number of Classes=%{x}<br>Complexity Measure=%{y}<br>dataset_id=%{customdata[0]}<extra></extra>",
         "legendgroup": "class_3, class_7, class_12",
         "marker": {
          "color": "#EF553B",
          "symbol": "circle"
         },
         "mode": "markers",
         "name": "class_3, class_7, class_12",
         "orientation": "v",
         "showlegend": true,
         "type": "scatter",
         "x": [
          12
         ],
         "xaxis": "x",
         "y": [
          0.8258333333333333
         ],
         "yaxis": "y"
        },
        {
         "customdata": [
          [
           64
          ]
         ],
         "hovertemplate": "Majority Classes=class_0, class_7, class_12<br>Number of Classes=%{x}<br>Complexity Measure=%{y}<br>dataset_id=%{customdata[0]}<extra></extra>",
         "legendgroup": "class_0, class_7, class_12",
         "marker": {
          "color": "#00cc96",
          "symbol": "circle"
         },
         "mode": "markers",
         "name": "class_0, class_7, class_12",
         "orientation": "v",
         "showlegend": true,
         "type": "scatter",
         "x": [
          13
         ],
         "xaxis": "x",
         "y": [
          0.8396153846153847
         ],
         "yaxis": "y"
        },
        {
         "customdata": [
          [
           65
          ]
         ],
         "hovertemplate": "Majority Classes=class_2, class_3, class_5, class_7<br>Number of Classes=%{x}<br>Complexity Measure=%{y}<br>dataset_id=%{customdata[0]}<extra></extra>",
         "legendgroup": "class_2, class_3, class_5, class_7",
         "marker": {
          "color": "#ab63fa",
          "symbol": "circle"
         },
         "mode": "markers",
         "name": "class_2, class_3, class_5, class_7",
         "orientation": "v",
         "showlegend": true,
         "type": "scatter",
         "x": [
          11
         ],
         "xaxis": "x",
         "y": [
          0.8227272727272728
         ],
         "yaxis": "y"
        },
        {
         "customdata": [
          [
           68
          ]
         ],
         "hovertemplate": "Majority Classes=class_5, class_8<br>Number of Classes=%{x}<br>Complexity Measure=%{y}<br>dataset_id=%{customdata[0]}<extra></extra>",
         "legendgroup": "class_5, class_8",
         "marker": {
          "color": "#FFA15A",
          "symbol": "circle"
         },
         "mode": "markers",
         "name": "class_5, class_8",
         "orientation": "v",
         "showlegend": true,
         "type": "scatter",
         "x": [
          6
         ],
         "xaxis": "x",
         "y": [
          0.6791666666666667
         ],
         "yaxis": "y"
        },
        {
         "customdata": [
          [
           69
          ],
          [
           188
          ]
         ],
         "hovertemplate": "Majority Classes=class_1, class_3, class_5<br>Number of Classes=%{x}<br>Complexity Measure=%{y}<br>dataset_id=%{customdata[0]}<extra></extra>",
         "legendgroup": "class_1, class_3, class_5",
         "marker": {
          "color": "#19d3f3",
          "symbol": "circle"
         },
         "mode": "markers",
         "name": "class_1, class_3, class_5",
         "orientation": "v",
         "showlegend": true,
         "type": "scatter",
         "x": [
          12,
          13
         ],
         "xaxis": "x",
         "y": [
          0.8233333333333334,
          0.8530769230769231
         ],
         "yaxis": "y"
        },
        {
         "customdata": [
          [
           70
          ]
         ],
         "hovertemplate": "Majority Classes=class_2, class_8, class_12<br>Number of Classes=%{x}<br>Complexity Measure=%{y}<br>dataset_id=%{customdata[0]}<extra></extra>",
         "legendgroup": "class_2, class_8, class_12",
         "marker": {
          "color": "#FF6692",
          "symbol": "circle"
         },
         "mode": "markers",
         "name": "class_2, class_8, class_12",
         "orientation": "v",
         "showlegend": true,
         "type": "scatter",
         "x": [
          11
         ],
         "xaxis": "x",
         "y": [
          0.8109090909090909
         ],
         "yaxis": "y"
        },
        {
         "customdata": [
          [
           71
          ]
         ],
         "hovertemplate": "Majority Classes=class_7, class_8<br>Number of Classes=%{x}<br>Complexity Measure=%{y}<br>dataset_id=%{customdata[0]}<extra></extra>",
         "legendgroup": "class_7, class_8",
         "marker": {
          "color": "#B6E880",
          "symbol": "circle"
         },
         "mode": "markers",
         "name": "class_7, class_8",
         "orientation": "v",
         "showlegend": true,
         "type": "scatter",
         "x": [
          6
         ],
         "xaxis": "x",
         "y": [
          0.67
         ],
         "yaxis": "y"
        },
        {
         "customdata": [
          [
           74
          ]
         ],
         "hovertemplate": "Majority Classes=class_0, class_8, class_11, class_12<br>Number of Classes=%{x}<br>Complexity Measure=%{y}<br>dataset_id=%{customdata[0]}<extra></extra>",
         "legendgroup": "class_0, class_8, class_11, class_12",
         "marker": {
          "color": "#FF97FF",
          "symbol": "circle"
         },
         "mode": "markers",
         "name": "class_0, class_8, class_11, class_12",
         "orientation": "v",
         "showlegend": true,
         "type": "scatter",
         "x": [
          12
         ],
         "xaxis": "x",
         "y": [
          0.8304166666666667
         ],
         "yaxis": "y"
        },
        {
         "customdata": [
          [
           75
          ],
          [
           216
          ]
         ],
         "hovertemplate": "Majority Classes=class_1, class_8<br>Number of Classes=%{x}<br>Complexity Measure=%{y}<br>dataset_id=%{customdata[0]}<extra></extra>",
         "legendgroup": "class_1, class_8",
         "marker": {
          "color": "#FECB52",
          "symbol": "circle"
         },
         "mode": "markers",
         "name": "class_1, class_8",
         "orientation": "v",
         "showlegend": true,
         "type": "scatter",
         "x": [
          9,
          5
         ],
         "xaxis": "x",
         "y": [
          0.7638888888888888,
          0.611
         ],
         "yaxis": "y"
        },
        {
         "customdata": [
          [
           76
          ]
         ],
         "hovertemplate": "Majority Classes=class_3, class_5, class_12<br>Number of Classes=%{x}<br>Complexity Measure=%{y}<br>dataset_id=%{customdata[0]}<extra></extra>",
         "legendgroup": "class_3, class_5, class_12",
         "marker": {
          "color": "#636efa",
          "symbol": "circle"
         },
         "mode": "markers",
         "name": "class_3, class_5, class_12",
         "orientation": "v",
         "showlegend": true,
         "type": "scatter",
         "x": [
          9
         ],
         "xaxis": "x",
         "y": [
          0.7883333333333333
         ],
         "yaxis": "y"
        },
        {
         "customdata": [
          [
           77
          ]
         ],
         "hovertemplate": "Majority Classes=class_1, class_5, class_8<br>Number of Classes=%{x}<br>Complexity Measure=%{y}<br>dataset_id=%{customdata[0]}<extra></extra>",
         "legendgroup": "class_1, class_5, class_8",
         "marker": {
          "color": "#EF553B",
          "symbol": "circle"
         },
         "mode": "markers",
         "name": "class_1, class_5, class_8",
         "orientation": "v",
         "showlegend": true,
         "type": "scatter",
         "x": [
          13
         ],
         "xaxis": "x",
         "y": [
          0.8515384615384616
         ],
         "yaxis": "y"
        },
        {
         "customdata": [
          [
           79
          ],
          [
           145
          ]
         ],
         "hovertemplate": "Majority Classes=class_0, class_3, class_5<br>Number of Classes=%{x}<br>Complexity Measure=%{y}<br>dataset_id=%{customdata[0]}<extra></extra>",
         "legendgroup": "class_0, class_3, class_5",
         "marker": {
          "color": "#00cc96",
          "symbol": "circle"
         },
         "mode": "markers",
         "name": "class_0, class_3, class_5",
         "orientation": "v",
         "showlegend": true,
         "type": "scatter",
         "x": [
          8,
          10
         ],
         "xaxis": "x",
         "y": [
          0.765625,
          0.7985
         ],
         "yaxis": "y"
        },
        {
         "customdata": [
          [
           82
          ],
          [
           276
          ]
         ],
         "hovertemplate": "Majority Classes=class_3, class_5<br>Number of Classes=%{x}<br>Complexity Measure=%{y}<br>dataset_id=%{customdata[0]}<extra></extra>",
         "legendgroup": "class_3, class_5",
         "marker": {
          "color": "#ab63fa",
          "symbol": "circle"
         },
         "mode": "markers",
         "name": "class_3, class_5",
         "orientation": "v",
         "showlegend": true,
         "type": "scatter",
         "x": [
          9,
          7
         ],
         "xaxis": "x",
         "y": [
          0.8022222222222222,
          0.7314285714285714
         ],
         "yaxis": "y"
        },
        {
         "customdata": [
          [
           83
          ],
          [
           270
          ]
         ],
         "hovertemplate": "Majority Classes=class_2, class_3<br>Number of Classes=%{x}<br>Complexity Measure=%{y}<br>dataset_id=%{customdata[0]}<extra></extra>",
         "legendgroup": "class_2, class_3",
         "marker": {
          "color": "#FFA15A",
          "symbol": "circle"
         },
         "mode": "markers",
         "name": "class_2, class_3",
         "orientation": "v",
         "showlegend": true,
         "type": "scatter",
         "x": [
          4,
          6
         ],
         "xaxis": "x",
         "y": [
          0.64875,
          0.7808333333333334
         ],
         "yaxis": "y"
        },
        {
         "customdata": [
          [
           84
          ],
          [
           140
          ],
          [
           150
          ]
         ],
         "hovertemplate": "Majority Classes=class_0, class_2<br>Number of Classes=%{x}<br>Complexity Measure=%{y}<br>dataset_id=%{customdata[0]}<extra></extra>",
         "legendgroup": "class_0, class_2",
         "marker": {
          "color": "#19d3f3",
          "symbol": "circle"
         },
         "mode": "markers",
         "name": "class_0, class_2",
         "orientation": "v",
         "showlegend": true,
         "type": "scatter",
         "x": [
          13,
          6,
          5
         ],
         "xaxis": "x",
         "y": [
          0.8434615384615385,
          0.6666666666666666,
          0.712
         ],
         "yaxis": "y"
        },
        {
         "customdata": [
          [
           85
          ]
         ],
         "hovertemplate": "Majority Classes=class_2, class_10, class_11<br>Number of Classes=%{x}<br>Complexity Measure=%{y}<br>dataset_id=%{customdata[0]}<extra></extra>",
         "legendgroup": "class_2, class_10, class_11",
         "marker": {
          "color": "#FF6692",
          "symbol": "circle"
         },
         "mode": "markers",
         "name": "class_2, class_10, class_11",
         "orientation": "v",
         "showlegend": true,
         "type": "scatter",
         "x": [
          9
         ],
         "xaxis": "x",
         "y": [
          0.8338888888888889
         ],
         "yaxis": "y"
        },
        {
         "customdata": [
          [
           87
          ]
         ],
         "hovertemplate": "Majority Classes=class_3, class_5, class_10<br>Number of Classes=%{x}<br>Complexity Measure=%{y}<br>dataset_id=%{customdata[0]}<extra></extra>",
         "legendgroup": "class_3, class_5, class_10",
         "marker": {
          "color": "#B6E880",
          "symbol": "circle"
         },
         "mode": "markers",
         "name": "class_3, class_5, class_10",
         "orientation": "v",
         "showlegend": true,
         "type": "scatter",
         "x": [
          11
         ],
         "xaxis": "x",
         "y": [
          0.8577272727272728
         ],
         "yaxis": "y"
        },
        {
         "customdata": [
          [
           88
          ],
          [
           187
          ]
         ],
         "hovertemplate": "Majority Classes=class_2, class_8<br>Number of Classes=%{x}<br>Complexity Measure=%{y}<br>dataset_id=%{customdata[0]}<extra></extra>",
         "legendgroup": "class_2, class_8",
         "marker": {
          "color": "#FF97FF",
          "symbol": "circle"
         },
         "mode": "markers",
         "name": "class_2, class_8",
         "orientation": "v",
         "showlegend": true,
         "type": "scatter",
         "x": [
          10,
          6
         ],
         "xaxis": "x",
         "y": [
          0.7985,
          0.7658333333333334
         ],
         "yaxis": "y"
        },
        {
         "customdata": [
          [
           90
          ]
         ],
         "hovertemplate": "Majority Classes=class_5, class_7, class_10, class_12<br>Number of Classes=%{x}<br>Complexity Measure=%{y}<br>dataset_id=%{customdata[0]}<extra></extra>",
         "legendgroup": "class_5, class_7, class_10, class_12",
         "marker": {
          "color": "#FECB52",
          "symbol": "circle"
         },
         "mode": "markers",
         "name": "class_5, class_7, class_10, class_12",
         "orientation": "v",
         "showlegend": true,
         "type": "scatter",
         "x": [
          12
         ],
         "xaxis": "x",
         "y": [
          0.83375
         ],
         "yaxis": "y"
        },
        {
         "customdata": [
          [
           92
          ]
         ],
         "hovertemplate": "Majority Classes=class_2, class_5, class_12<br>Number of Classes=%{x}<br>Complexity Measure=%{y}<br>dataset_id=%{customdata[0]}<extra></extra>",
         "legendgroup": "class_2, class_5, class_12",
         "marker": {
          "color": "#636efa",
          "symbol": "circle"
         },
         "mode": "markers",
         "name": "class_2, class_5, class_12",
         "orientation": "v",
         "showlegend": true,
         "type": "scatter",
         "x": [
          10
         ],
         "xaxis": "x",
         "y": [
          0.7995
         ],
         "yaxis": "y"
        },
        {
         "customdata": [
          [
           93
          ],
          [
           291
          ]
         ],
         "hovertemplate": "Majority Classes=class_8, class_10<br>Number of Classes=%{x}<br>Complexity Measure=%{y}<br>dataset_id=%{customdata[0]}<extra></extra>",
         "legendgroup": "class_8, class_10",
         "marker": {
          "color": "#EF553B",
          "symbol": "circle"
         },
         "mode": "markers",
         "name": "class_8, class_10",
         "orientation": "v",
         "showlegend": true,
         "type": "scatter",
         "x": [
          5,
          4
         ],
         "xaxis": "x",
         "y": [
          0.701,
          0.67875
         ],
         "yaxis": "y"
        },
        {
         "customdata": [
          [
           98
          ],
          [
           175
          ],
          [
           184
          ],
          [
           206
          ],
          [
           248
          ],
          [
           253
          ],
          [
           292
          ]
         ],
         "hovertemplate": "Majority Classes=class_11, class_12<br>Number of Classes=%{x}<br>Complexity Measure=%{y}<br>dataset_id=%{customdata[0]}<extra></extra>",
         "legendgroup": "class_11, class_12",
         "marker": {
          "color": "#00cc96",
          "symbol": "circle"
         },
         "mode": "markers",
         "name": "class_11, class_12",
         "orientation": "v",
         "showlegend": true,
         "type": "scatter",
         "x": [
          4,
          6,
          6,
          6,
          11,
          13,
          10
         ],
         "xaxis": "x",
         "y": [
          0.57625,
          0.68,
          0.6675,
          0.6708333333333333,
          0.8022727272727272,
          0.8476923076923077,
          0.8065
         ],
         "yaxis": "y"
        },
        {
         "customdata": [
          [
           99
          ]
         ],
         "hovertemplate": "Majority Classes=class_1, class_3, class_7, class_8<br>Number of Classes=%{x}<br>Complexity Measure=%{y}<br>dataset_id=%{customdata[0]}<extra></extra>",
         "legendgroup": "class_1, class_3, class_7, class_8",
         "marker": {
          "color": "#ab63fa",
          "symbol": "circle"
         },
         "mode": "markers",
         "name": "class_1, class_3, class_7, class_8",
         "orientation": "v",
         "showlegend": true,
         "type": "scatter",
         "x": [
          10
         ],
         "xaxis": "x",
         "y": [
          0.8005
         ],
         "yaxis": "y"
        },
        {
         "customdata": [
          [
           100
          ]
         ],
         "hovertemplate": "Majority Classes=class_2, class_5, class_7, class_8<br>Number of Classes=%{x}<br>Complexity Measure=%{y}<br>dataset_id=%{customdata[0]}<extra></extra>",
         "legendgroup": "class_2, class_5, class_7, class_8",
         "marker": {
          "color": "#FFA15A",
          "symbol": "circle"
         },
         "mode": "markers",
         "name": "class_2, class_5, class_7, class_8",
         "orientation": "v",
         "showlegend": true,
         "type": "scatter",
         "x": [
          13
         ],
         "xaxis": "x",
         "y": [
          0.8434615384615385
         ],
         "yaxis": "y"
        },
        {
         "customdata": [
          [
           101
          ]
         ],
         "hovertemplate": "Majority Classes=class_0, class_5, class_7, class_10<br>Number of Classes=%{x}<br>Complexity Measure=%{y}<br>dataset_id=%{customdata[0]}<extra></extra>",
         "legendgroup": "class_0, class_5, class_7, class_10",
         "marker": {
          "color": "#19d3f3",
          "symbol": "circle"
         },
         "mode": "markers",
         "name": "class_0, class_5, class_7, class_10",
         "orientation": "v",
         "showlegend": true,
         "type": "scatter",
         "x": [
          13
         ],
         "xaxis": "x",
         "y": [
          0.8453846153846154
         ],
         "yaxis": "y"
        },
        {
         "customdata": [
          [
           102
          ]
         ],
         "hovertemplate": "Majority Classes=class_1, class_2, class_7, class_11<br>Number of Classes=%{x}<br>Complexity Measure=%{y}<br>dataset_id=%{customdata[0]}<extra></extra>",
         "legendgroup": "class_1, class_2, class_7, class_11",
         "marker": {
          "color": "#FF6692",
          "symbol": "circle"
         },
         "mode": "markers",
         "name": "class_1, class_2, class_7, class_11",
         "orientation": "v",
         "showlegend": true,
         "type": "scatter",
         "x": [
          11
         ],
         "xaxis": "x",
         "y": [
          0.81
         ],
         "yaxis": "y"
        },
        {
         "customdata": [
          [
           106
          ]
         ],
         "hovertemplate": "Majority Classes=class_2, class_10<br>Number of Classes=%{x}<br>Complexity Measure=%{y}<br>dataset_id=%{customdata[0]}<extra></extra>",
         "legendgroup": "class_2, class_10",
         "marker": {
          "color": "#B6E880",
          "symbol": "circle"
         },
         "mode": "markers",
         "name": "class_2, class_10",
         "orientation": "v",
         "showlegend": true,
         "type": "scatter",
         "x": [
          10
         ],
         "xaxis": "x",
         "y": [
          0.816
         ],
         "yaxis": "y"
        },
        {
         "customdata": [
          [
           107
          ],
          [
           289
          ]
         ],
         "hovertemplate": "Majority Classes=class_0, class_3, class_11<br>Number of Classes=%{x}<br>Complexity Measure=%{y}<br>dataset_id=%{customdata[0]}<extra></extra>",
         "legendgroup": "class_0, class_3, class_11",
         "marker": {
          "color": "#FF97FF",
          "symbol": "circle"
         },
         "mode": "markers",
         "name": "class_0, class_3, class_11",
         "orientation": "v",
         "showlegend": true,
         "type": "scatter",
         "x": [
          11,
          13
         ],
         "xaxis": "x",
         "y": [
          0.8709090909090909,
          0.8496153846153847
         ],
         "yaxis": "y"
        },
        {
         "customdata": [
          [
           108
          ],
          [
           130
          ]
         ],
         "hovertemplate": "Majority Classes=class_3, class_11<br>Number of Classes=%{x}<br>Complexity Measure=%{y}<br>dataset_id=%{customdata[0]}<extra></extra>",
         "legendgroup": "class_3, class_11",
         "marker": {
          "color": "#FECB52",
          "symbol": "circle"
         },
         "mode": "markers",
         "name": "class_3, class_11",
         "orientation": "v",
         "showlegend": true,
         "type": "scatter",
         "x": [
          13,
          9
         ],
         "xaxis": "x",
         "y": [
          0.8415384615384616,
          0.8344444444444444
         ],
         "yaxis": "y"
        },
        {
         "customdata": [
          [
           109
          ]
         ],
         "hovertemplate": "Majority Classes=class_0, class_5, class_7, class_11<br>Number of Classes=%{x}<br>Complexity Measure=%{y}<br>dataset_id=%{customdata[0]}<extra></extra>",
         "legendgroup": "class_0, class_5, class_7, class_11",
         "marker": {
          "color": "#636efa",
          "symbol": "circle"
         },
         "mode": "markers",
         "name": "class_0, class_5, class_7, class_11",
         "orientation": "v",
         "showlegend": true,
         "type": "scatter",
         "x": [
          13
         ],
         "xaxis": "x",
         "y": [
          0.8303846153846154
         ],
         "yaxis": "y"
        },
        {
         "customdata": [
          [
           110
          ]
         ],
         "hovertemplate": "Majority Classes=class_0, class_8, class_12<br>Number of Classes=%{x}<br>Complexity Measure=%{y}<br>dataset_id=%{customdata[0]}<extra></extra>",
         "legendgroup": "class_0, class_8, class_12",
         "marker": {
          "color": "#EF553B",
          "symbol": "circle"
         },
         "mode": "markers",
         "name": "class_0, class_8, class_12",
         "orientation": "v",
         "showlegend": true,
         "type": "scatter",
         "x": [
          9
         ],
         "xaxis": "x",
         "y": [
          0.7872222222222223
         ],
         "yaxis": "y"
        },
        {
         "customdata": [
          [
           112
          ]
         ],
         "hovertemplate": "Majority Classes=class_5, class_11<br>Number of Classes=%{x}<br>Complexity Measure=%{y}<br>dataset_id=%{customdata[0]}<extra></extra>",
         "legendgroup": "class_5, class_11",
         "marker": {
          "color": "#00cc96",
          "symbol": "circle"
         },
         "mode": "markers",
         "name": "class_5, class_11",
         "orientation": "v",
         "showlegend": true,
         "type": "scatter",
         "x": [
          4
         ],
         "xaxis": "x",
         "y": [
          0.67125
         ],
         "yaxis": "y"
        },
        {
         "customdata": [
          [
           114
          ]
         ],
         "hovertemplate": "Majority Classes=class_7, class_8, class_12<br>Number of Classes=%{x}<br>Complexity Measure=%{y}<br>dataset_id=%{customdata[0]}<extra></extra>",
         "legendgroup": "class_7, class_8, class_12",
         "marker": {
          "color": "#ab63fa",
          "symbol": "circle"
         },
         "mode": "markers",
         "name": "class_7, class_8, class_12",
         "orientation": "v",
         "showlegend": true,
         "type": "scatter",
         "x": [
          9
         ],
         "xaxis": "x",
         "y": [
          0.7722222222222223
         ],
         "yaxis": "y"
        },
        {
         "customdata": [
          [
           115
          ],
          [
           224
          ]
         ],
         "hovertemplate": "Majority Classes=class_2, class_10, class_12<br>Number of Classes=%{x}<br>Complexity Measure=%{y}<br>dataset_id=%{customdata[0]}<extra></extra>",
         "legendgroup": "class_2, class_10, class_12",
         "marker": {
          "color": "#FFA15A",
          "symbol": "circle"
         },
         "mode": "markers",
         "name": "class_2, class_10, class_12",
         "orientation": "v",
         "showlegend": true,
         "type": "scatter",
         "x": [
          12,
          8
         ],
         "xaxis": "x",
         "y": [
          0.84,
          0.766875
         ],
         "yaxis": "y"
        },
        {
         "customdata": [
          [
           116
          ],
          [
           156
          ]
         ],
         "hovertemplate": "Majority Classes=class_1, class_3, class_5, class_8, class_10<br>Number of Classes=%{x}<br>Complexity Measure=%{y}<br>dataset_id=%{customdata[0]}<extra></extra>",
         "legendgroup": "class_1, class_3, class_5, class_8, class_10",
         "marker": {
          "color": "#19d3f3",
          "symbol": "circle"
         },
         "mode": "markers",
         "name": "class_1, class_3, class_5, class_8, class_10",
         "orientation": "v",
         "showlegend": true,
         "type": "scatter",
         "x": [
          13,
          13
         ],
         "xaxis": "x",
         "y": [
          0.8542307692307692,
          0.8515384615384616
         ],
         "yaxis": "y"
        },
        {
         "customdata": [
          [
           118
          ],
          [
           293
          ]
         ],
         "hovertemplate": "Majority Classes=class_0, class_3<br>Number of Classes=%{x}<br>Complexity Measure=%{y}<br>dataset_id=%{customdata[0]}<extra></extra>",
         "legendgroup": "class_0, class_3",
         "marker": {
          "color": "#FF6692",
          "symbol": "circle"
         },
         "mode": "markers",
         "name": "class_0, class_3",
         "orientation": "v",
         "showlegend": true,
         "type": "scatter",
         "x": [
          5,
          8
         ],
         "xaxis": "x",
         "y": [
          0.737,
          0.81625
         ],
         "yaxis": "y"
        },
        {
         "customdata": [
          [
           120
          ]
         ],
         "hovertemplate": "Majority Classes=class_0, class_10, class_12<br>Number of Classes=%{x}<br>Complexity Measure=%{y}<br>dataset_id=%{customdata[0]}<extra></extra>",
         "legendgroup": "class_0, class_10, class_12",
         "marker": {
          "color": "#B6E880",
          "symbol": "circle"
         },
         "mode": "markers",
         "name": "class_0, class_10, class_12",
         "orientation": "v",
         "showlegend": true,
         "type": "scatter",
         "x": [
          12
         ],
         "xaxis": "x",
         "y": [
          0.83625
         ],
         "yaxis": "y"
        },
        {
         "customdata": [
          [
           123
          ]
         ],
         "hovertemplate": "Majority Classes=class_2, class_8, class_10, class_11<br>Number of Classes=%{x}<br>Complexity Measure=%{y}<br>dataset_id=%{customdata[0]}<extra></extra>",
         "legendgroup": "class_2, class_8, class_10, class_11",
         "marker": {
          "color": "#FF97FF",
          "symbol": "circle"
         },
         "mode": "markers",
         "name": "class_2, class_8, class_10, class_11",
         "orientation": "v",
         "showlegend": true,
         "type": "scatter",
         "x": [
          13
         ],
         "xaxis": "x",
         "y": [
          0.8530769230769231
         ],
         "yaxis": "y"
        },
        {
         "customdata": [
          [
           124
          ],
          [
           247
          ]
         ],
         "hovertemplate": "Majority Classes=class_0, class_11<br>Number of Classes=%{x}<br>Complexity Measure=%{y}<br>dataset_id=%{customdata[0]}<extra></extra>",
         "legendgroup": "class_0, class_11",
         "marker": {
          "color": "#FECB52",
          "symbol": "circle"
         },
         "mode": "markers",
         "name": "class_0, class_11",
         "orientation": "v",
         "showlegend": true,
         "type": "scatter",
         "x": [
          7,
          7
         ],
         "xaxis": "x",
         "y": [
          0.7264285714285714,
          0.7064285714285714
         ],
         "yaxis": "y"
        },
        {
         "customdata": [
          [
           126
          ]
         ],
         "hovertemplate": "Majority Classes=class_0, class_8<br>Number of Classes=%{x}<br>Complexity Measure=%{y}<br>dataset_id=%{customdata[0]}<extra></extra>",
         "legendgroup": "class_0, class_8",
         "marker": {
          "color": "#636efa",
          "symbol": "circle"
         },
         "mode": "markers",
         "name": "class_0, class_8",
         "orientation": "v",
         "showlegend": true,
         "type": "scatter",
         "x": [
          4
         ],
         "xaxis": "x",
         "y": [
          0.72
         ],
         "yaxis": "y"
        },
        {
         "customdata": [
          [
           127
          ],
          [
           164
          ]
         ],
         "hovertemplate": "Majority Classes=class_2, class_7<br>Number of Classes=%{x}<br>Complexity Measure=%{y}<br>dataset_id=%{customdata[0]}<extra></extra>",
         "legendgroup": "class_2, class_7",
         "marker": {
          "color": "#EF553B",
          "symbol": "circle"
         },
         "mode": "markers",
         "name": "class_2, class_7",
         "orientation": "v",
         "showlegend": true,
         "type": "scatter",
         "x": [
          9,
          5
         ],
         "xaxis": "x",
         "y": [
          0.7788888888888889,
          0.697
         ],
         "yaxis": "y"
        },
        {
         "customdata": [
          [
           128
          ]
         ],
         "hovertemplate": "Majority Classes=class_3, class_5, class_7, class_10<br>Number of Classes=%{x}<br>Complexity Measure=%{y}<br>dataset_id=%{customdata[0]}<extra></extra>",
         "legendgroup": "class_3, class_5, class_7, class_10",
         "marker": {
          "color": "#00cc96",
          "symbol": "circle"
         },
         "mode": "markers",
         "name": "class_3, class_5, class_7, class_10",
         "orientation": "v",
         "showlegend": true,
         "type": "scatter",
         "x": [
          11
         ],
         "xaxis": "x",
         "y": [
          0.8236363636363636
         ],
         "yaxis": "y"
        },
        {
         "customdata": [
          [
           129
          ]
         ],
         "hovertemplate": "Majority Classes=class_0, class_5<br>Number of Classes=%{x}<br>Complexity Measure=%{y}<br>dataset_id=%{customdata[0]}<extra></extra>",
         "legendgroup": "class_0, class_5",
         "marker": {
          "color": "#ab63fa",
          "symbol": "circle"
         },
         "mode": "markers",
         "name": "class_0, class_5",
         "orientation": "v",
         "showlegend": true,
         "type": "scatter",
         "x": [
          9
         ],
         "xaxis": "x",
         "y": [
          0.8388888888888889
         ],
         "yaxis": "y"
        },
        {
         "customdata": [
          [
           131
          ],
          [
           158
          ]
         ],
         "hovertemplate": "Majority Classes=class_5, class_8, class_12<br>Number of Classes=%{x}<br>Complexity Measure=%{y}<br>dataset_id=%{customdata[0]}<extra></extra>",
         "legendgroup": "class_5, class_8, class_12",
         "marker": {
          "color": "#FFA15A",
          "symbol": "circle"
         },
         "mode": "markers",
         "name": "class_5, class_8, class_12",
         "orientation": "v",
         "showlegend": true,
         "type": "scatter",
         "x": [
          11,
          7
         ],
         "xaxis": "x",
         "y": [
          0.8209090909090909,
          0.7471428571428571
         ],
         "yaxis": "y"
        },
        {
         "customdata": [
          [
           134
          ]
         ],
         "hovertemplate": "Majority Classes=class_0, class_2, class_5, class_11<br>Number of Classes=%{x}<br>Complexity Measure=%{y}<br>dataset_id=%{customdata[0]}<extra></extra>",
         "legendgroup": "class_0, class_2, class_5, class_11",
         "marker": {
          "color": "#19d3f3",
          "symbol": "circle"
         },
         "mode": "markers",
         "name": "class_0, class_2, class_5, class_11",
         "orientation": "v",
         "showlegend": true,
         "type": "scatter",
         "x": [
          6
         ],
         "xaxis": "x",
         "y": [
          0.7691666666666667
         ],
         "yaxis": "y"
        },
        {
         "customdata": [
          [
           137
          ]
         ],
         "hovertemplate": "Majority Classes=class_0, class_1, class_3, class_7, class_8, class_12<br>Number of Classes=%{x}<br>Complexity Measure=%{y}<br>dataset_id=%{customdata[0]}<extra></extra>",
         "legendgroup": "class_0, class_1, class_3, class_7, class_8, class_12",
         "marker": {
          "color": "#FF6692",
          "symbol": "circle"
         },
         "mode": "markers",
         "name": "class_0, class_1, class_3, class_7, class_8, class_12",
         "orientation": "v",
         "showlegend": true,
         "type": "scatter",
         "x": [
          13
         ],
         "xaxis": "x",
         "y": [
          0.8407692307692308
         ],
         "yaxis": "y"
        },
        {
         "customdata": [
          [
           143
          ],
          [
           279
          ]
         ],
         "hovertemplate": "Majority Classes=class_3, class_8<br>Number of Classes=%{x}<br>Complexity Measure=%{y}<br>dataset_id=%{customdata[0]}<extra></extra>",
         "legendgroup": "class_3, class_8",
         "marker": {
          "color": "#B6E880",
          "symbol": "circle"
         },
         "mode": "markers",
         "name": "class_3, class_8",
         "orientation": "v",
         "showlegend": true,
         "type": "scatter",
         "x": [
          9,
          5
         ],
         "xaxis": "x",
         "y": [
          0.8427777777777777,
          0.73
         ],
         "yaxis": "y"
        },
        {
         "customdata": [
          [
           146
          ],
          [
           249
          ]
         ],
         "hovertemplate": "Majority Classes=class_3, class_10<br>Number of Classes=%{x}<br>Complexity Measure=%{y}<br>dataset_id=%{customdata[0]}<extra></extra>",
         "legendgroup": "class_3, class_10",
         "marker": {
          "color": "#FF97FF",
          "symbol": "circle"
         },
         "mode": "markers",
         "name": "class_3, class_10",
         "orientation": "v",
         "showlegend": true,
         "type": "scatter",
         "x": [
          11,
          9
         ],
         "xaxis": "x",
         "y": [
          0.8227272727272728,
          0.7933333333333333
         ],
         "yaxis": "y"
        },
        {
         "customdata": [
          [
           151
          ]
         ],
         "hovertemplate": "Majority Classes=class_2, class_8, class_11<br>Number of Classes=%{x}<br>Complexity Measure=%{y}<br>dataset_id=%{customdata[0]}<extra></extra>",
         "legendgroup": "class_2, class_8, class_11",
         "marker": {
          "color": "#FECB52",
          "symbol": "circle"
         },
         "mode": "markers",
         "name": "class_2, class_8, class_11",
         "orientation": "v",
         "showlegend": true,
         "type": "scatter",
         "x": [
          13
         ],
         "xaxis": "x",
         "y": [
          0.8523076923076923
         ],
         "yaxis": "y"
        },
        {
         "customdata": [
          [
           155
          ]
         ],
         "hovertemplate": "Majority Classes=class_5, class_8, class_10<br>Number of Classes=%{x}<br>Complexity Measure=%{y}<br>dataset_id=%{customdata[0]}<extra></extra>",
         "legendgroup": "class_5, class_8, class_10",
         "marker": {
          "color": "#636efa",
          "symbol": "circle"
         },
         "mode": "markers",
         "name": "class_5, class_8, class_10",
         "orientation": "v",
         "showlegend": true,
         "type": "scatter",
         "x": [
          8
         ],
         "xaxis": "x",
         "y": [
          0.814375
         ],
         "yaxis": "y"
        },
        {
         "customdata": [
          [
           157
          ]
         ],
         "hovertemplate": "Majority Classes=class_0, class_2, class_3, class_5, class_10<br>Number of Classes=%{x}<br>Complexity Measure=%{y}<br>dataset_id=%{customdata[0]}<extra></extra>",
         "legendgroup": "class_0, class_2, class_3, class_5, class_10",
         "marker": {
          "color": "#EF553B",
          "symbol": "circle"
         },
         "mode": "markers",
         "name": "class_0, class_2, class_3, class_5, class_10",
         "orientation": "v",
         "showlegend": true,
         "type": "scatter",
         "x": [
          13
         ],
         "xaxis": "x",
         "y": [
          0.8492307692307692
         ],
         "yaxis": "y"
        },
        {
         "customdata": [
          [
           159
          ]
         ],
         "hovertemplate": "Majority Classes=class_0, class_1, class_11<br>Number of Classes=%{x}<br>Complexity Measure=%{y}<br>dataset_id=%{customdata[0]}<extra></extra>",
         "legendgroup": "class_0, class_1, class_11",
         "marker": {
          "color": "#00cc96",
          "symbol": "circle"
         },
         "mode": "markers",
         "name": "class_0, class_1, class_11",
         "orientation": "v",
         "showlegend": true,
         "type": "scatter",
         "x": [
          13
         ],
         "xaxis": "x",
         "y": [
          0.8473076923076923
         ],
         "yaxis": "y"
        },
        {
         "customdata": [
          [
           162
          ]
         ],
         "hovertemplate": "Majority Classes=class_0, class_2, class_3<br>Number of Classes=%{x}<br>Complexity Measure=%{y}<br>dataset_id=%{customdata[0]}<extra></extra>",
         "legendgroup": "class_0, class_2, class_3",
         "marker": {
          "color": "#ab63fa",
          "symbol": "circle"
         },
         "mode": "markers",
         "name": "class_0, class_2, class_3",
         "orientation": "v",
         "showlegend": true,
         "type": "scatter",
         "x": [
          9
         ],
         "xaxis": "x",
         "y": [
          0.7822222222222223
         ],
         "yaxis": "y"
        },
        {
         "customdata": [
          [
           166
          ],
          [
           198
          ],
          [
           221
          ]
         ],
         "hovertemplate": "Majority Classes=class_5, class_12<br>Number of Classes=%{x}<br>Complexity Measure=%{y}<br>dataset_id=%{customdata[0]}<extra></extra>",
         "legendgroup": "class_5, class_12",
         "marker": {
          "color": "#FFA15A",
          "symbol": "circle"
         },
         "mode": "markers",
         "name": "class_5, class_12",
         "orientation": "v",
         "showlegend": true,
         "type": "scatter",
         "x": [
          11,
          7,
          12
         ],
         "xaxis": "x",
         "y": [
          0.8145454545454546,
          0.7235714285714285,
          0.8329166666666666
         ],
         "yaxis": "y"
        },
        {
         "customdata": [
          [
           167
          ]
         ],
         "hovertemplate": "Majority Classes=class_0, class_7, class_8, class_11<br>Number of Classes=%{x}<br>Complexity Measure=%{y}<br>dataset_id=%{customdata[0]}<extra></extra>",
         "legendgroup": "class_0, class_7, class_8, class_11",
         "marker": {
          "color": "#19d3f3",
          "symbol": "circle"
         },
         "mode": "markers",
         "name": "class_0, class_7, class_8, class_11",
         "orientation": "v",
         "showlegend": true,
         "type": "scatter",
         "x": [
          10
         ],
         "xaxis": "x",
         "y": [
          0.8455
         ],
         "yaxis": "y"
        },
        {
         "customdata": [
          [
           168
          ]
         ],
         "hovertemplate": "Majority Classes=class_3, class_8, class_10, class_12<br>Number of Classes=%{x}<br>Complexity Measure=%{y}<br>dataset_id=%{customdata[0]}<extra></extra>",
         "legendgroup": "class_3, class_8, class_10, class_12",
         "marker": {
          "color": "#FF6692",
          "symbol": "circle"
         },
         "mode": "markers",
         "name": "class_3, class_8, class_10, class_12",
         "orientation": "v",
         "showlegend": true,
         "type": "scatter",
         "x": [
          11
         ],
         "xaxis": "x",
         "y": [
          0.8118181818181818
         ],
         "yaxis": "y"
        },
        {
         "customdata": [
          [
           169
          ],
          [
           268
          ]
         ],
         "hovertemplate": "Majority Classes=class_3, class_12<br>Number of Classes=%{x}<br>Complexity Measure=%{y}<br>dataset_id=%{customdata[0]}<extra></extra>",
         "legendgroup": "class_3, class_12",
         "marker": {
          "color": "#B6E880",
          "symbol": "circle"
         },
         "mode": "markers",
         "name": "class_3, class_12",
         "orientation": "v",
         "showlegend": true,
         "type": "scatter",
         "x": [
          6,
          13
         ],
         "xaxis": "x",
         "y": [
          0.68,
          0.8457692307692307
         ],
         "yaxis": "y"
        },
        {
         "customdata": [
          [
           172
          ]
         ],
         "hovertemplate": "Majority Classes=class_5, class_7, class_11<br>Number of Classes=%{x}<br>Complexity Measure=%{y}<br>dataset_id=%{customdata[0]}<extra></extra>",
         "legendgroup": "class_5, class_7, class_11",
         "marker": {
          "color": "#FF97FF",
          "symbol": "circle"
         },
         "mode": "markers",
         "name": "class_5, class_7, class_11",
         "orientation": "v",
         "showlegend": true,
         "type": "scatter",
         "x": [
          10
         ],
         "xaxis": "x",
         "y": [
          0.801
         ],
         "yaxis": "y"
        },
        {
         "customdata": [
          [
           173
          ]
         ],
         "hovertemplate": "Majority Classes=class_0, class_4, class_11, class_12<br>Number of Classes=%{x}<br>Complexity Measure=%{y}<br>dataset_id=%{customdata[0]}<extra></extra>",
         "legendgroup": "class_0, class_4, class_11, class_12",
         "marker": {
          "color": "#FECB52",
          "symbol": "circle"
         },
         "mode": "markers",
         "name": "class_0, class_4, class_11, class_12",
         "orientation": "v",
         "showlegend": true,
         "type": "scatter",
         "x": [
          10
         ],
         "xaxis": "x",
         "y": [
          0.815
         ],
         "yaxis": "y"
        },
        {
         "customdata": [
          [
           178
          ]
         ],
         "hovertemplate": "Majority Classes=class_0, class_7<br>Number of Classes=%{x}<br>Complexity Measure=%{y}<br>dataset_id=%{customdata[0]}<extra></extra>",
         "legendgroup": "class_0, class_7",
         "marker": {
          "color": "#636efa",
          "symbol": "circle"
         },
         "mode": "markers",
         "name": "class_0, class_7",
         "orientation": "v",
         "showlegend": true,
         "type": "scatter",
         "x": [
          6
         ],
         "xaxis": "x",
         "y": [
          0.7683333333333333
         ],
         "yaxis": "y"
        },
        {
         "customdata": [
          [
           181
          ],
          [
           287
          ]
         ],
         "hovertemplate": "Majority Classes=class_2, class_9<br>Number of Classes=%{x}<br>Complexity Measure=%{y}<br>dataset_id=%{customdata[0]}<extra></extra>",
         "legendgroup": "class_2, class_9",
         "marker": {
          "color": "#EF553B",
          "symbol": "circle"
         },
         "mode": "markers",
         "name": "class_2, class_9",
         "orientation": "v",
         "showlegend": true,
         "type": "scatter",
         "x": [
          7,
          4
         ],
         "xaxis": "x",
         "y": [
          0.7857142857142857,
          0.6625
         ],
         "yaxis": "y"
        },
        {
         "customdata": [
          [
           182
          ]
         ],
         "hovertemplate": "Majority Classes=class_0, class_2, class_10, class_11<br>Number of Classes=%{x}<br>Complexity Measure=%{y}<br>dataset_id=%{customdata[0]}<extra></extra>",
         "legendgroup": "class_0, class_2, class_10, class_11",
         "marker": {
          "color": "#00cc96",
          "symbol": "circle"
         },
         "mode": "markers",
         "name": "class_0, class_2, class_10, class_11",
         "orientation": "v",
         "showlegend": true,
         "type": "scatter",
         "x": [
          13
         ],
         "xaxis": "x",
         "y": [
          0.8419230769230769
         ],
         "yaxis": "y"
        },
        {
         "customdata": [
          [
           189
          ]
         ],
         "hovertemplate": "Majority Classes=class_1, class_8, class_11<br>Number of Classes=%{x}<br>Complexity Measure=%{y}<br>dataset_id=%{customdata[0]}<extra></extra>",
         "legendgroup": "class_1, class_8, class_11",
         "marker": {
          "color": "#ab63fa",
          "symbol": "circle"
         },
         "mode": "markers",
         "name": "class_1, class_8, class_11",
         "orientation": "v",
         "showlegend": true,
         "type": "scatter",
         "x": [
          6
         ],
         "xaxis": "x",
         "y": [
          0.7883333333333333
         ],
         "yaxis": "y"
        },
        {
         "customdata": [
          [
           190
          ]
         ],
         "hovertemplate": "Majority Classes=class_1, class_2, class_7, class_10<br>Number of Classes=%{x}<br>Complexity Measure=%{y}<br>dataset_id=%{customdata[0]}<extra></extra>",
         "legendgroup": "class_1, class_2, class_7, class_10",
         "marker": {
          "color": "#FFA15A",
          "symbol": "circle"
         },
         "mode": "markers",
         "name": "class_1, class_2, class_7, class_10",
         "orientation": "v",
         "showlegend": true,
         "type": "scatter",
         "x": [
          13
         ],
         "xaxis": "x",
         "y": [
          0.8411538461538461
         ],
         "yaxis": "y"
        },
        {
         "customdata": [
          [
           191
          ]
         ],
         "hovertemplate": "Majority Classes=class_10, class_11, class_12<br>Number of Classes=%{x}<br>Complexity Measure=%{y}<br>dataset_id=%{customdata[0]}<extra></extra>",
         "legendgroup": "class_10, class_11, class_12",
         "marker": {
          "color": "#19d3f3",
          "symbol": "circle"
         },
         "mode": "markers",
         "name": "class_10, class_11, class_12",
         "orientation": "v",
         "showlegend": true,
         "type": "scatter",
         "x": [
          11
         ],
         "xaxis": "x",
         "y": [
          0.8140909090909091
         ],
         "yaxis": "y"
        },
        {
         "customdata": [
          [
           193
          ]
         ],
         "hovertemplate": "Majority Classes=class_1, class_3, class_12<br>Number of Classes=%{x}<br>Complexity Measure=%{y}<br>dataset_id=%{customdata[0]}<extra></extra>",
         "legendgroup": "class_1, class_3, class_12",
         "marker": {
          "color": "#FF6692",
          "symbol": "circle"
         },
         "mode": "markers",
         "name": "class_1, class_3, class_12",
         "orientation": "v",
         "showlegend": true,
         "type": "scatter",
         "x": [
          6
         ],
         "xaxis": "x",
         "y": [
          0.6866666666666666
         ],
         "yaxis": "y"
        },
        {
         "customdata": [
          [
           194
          ],
          [
           210
          ],
          [
           220
          ]
         ],
         "hovertemplate": "Majority Classes=class_4<br>Number of Classes=%{x}<br>Complexity Measure=%{y}<br>dataset_id=%{customdata[0]}<extra></extra>",
         "legendgroup": "class_4",
         "marker": {
          "color": "#B6E880",
          "symbol": "circle"
         },
         "mode": "markers",
         "name": "class_4",
         "orientation": "v",
         "showlegend": true,
         "type": "scatter",
         "x": [
          4,
          8,
          4
         ],
         "xaxis": "x",
         "y": [
          0.62375,
          0.81625,
          0.65625
         ],
         "yaxis": "y"
        },
        {
         "customdata": [
          [
           203
          ],
          [
           288
          ]
         ],
         "hovertemplate": "Majority Classes=class_1, class_2<br>Number of Classes=%{x}<br>Complexity Measure=%{y}<br>dataset_id=%{customdata[0]}<extra></extra>",
         "legendgroup": "class_1, class_2",
         "marker": {
          "color": "#FF97FF",
          "symbol": "circle"
         },
         "mode": "markers",
         "name": "class_1, class_2",
         "orientation": "v",
         "showlegend": true,
         "type": "scatter",
         "x": [
          8,
          13
         ],
         "xaxis": "x",
         "y": [
          0.763125,
          0.8619230769230769
         ],
         "yaxis": "y"
        },
        {
         "customdata": [
          [
           208
          ]
         ],
         "hovertemplate": "Majority Classes=class_1, class_5, class_10<br>Number of Classes=%{x}<br>Complexity Measure=%{y}<br>dataset_id=%{customdata[0]}<extra></extra>",
         "legendgroup": "class_1, class_5, class_10",
         "marker": {
          "color": "#FECB52",
          "symbol": "circle"
         },
         "mode": "markers",
         "name": "class_1, class_5, class_10",
         "orientation": "v",
         "showlegend": true,
         "type": "scatter",
         "x": [
          11
         ],
         "xaxis": "x",
         "y": [
          0.8645454545454545
         ],
         "yaxis": "y"
        },
        {
         "customdata": [
          [
           212
          ]
         ],
         "hovertemplate": "Majority Classes=class_0, class_11, class_12<br>Number of Classes=%{x}<br>Complexity Measure=%{y}<br>dataset_id=%{customdata[0]}<extra></extra>",
         "legendgroup": "class_0, class_11, class_12",
         "marker": {
          "color": "#636efa",
          "symbol": "circle"
         },
         "mode": "markers",
         "name": "class_0, class_11, class_12",
         "orientation": "v",
         "showlegend": true,
         "type": "scatter",
         "x": [
          13
         ],
         "xaxis": "x",
         "y": [
          0.8365384615384616
         ],
         "yaxis": "y"
        },
        {
         "customdata": [
          [
           215
          ]
         ],
         "hovertemplate": "Majority Classes=class_0, class_1, class_3, class_10, class_11<br>Number of Classes=%{x}<br>Complexity Measure=%{y}<br>dataset_id=%{customdata[0]}<extra></extra>",
         "legendgroup": "class_0, class_1, class_3, class_10, class_11",
         "marker": {
          "color": "#EF553B",
          "symbol": "circle"
         },
         "mode": "markers",
         "name": "class_0, class_1, class_3, class_10, class_11",
         "orientation": "v",
         "showlegend": true,
         "type": "scatter",
         "x": [
          10
         ],
         "xaxis": "x",
         "y": [
          0.8055
         ],
         "yaxis": "y"
        },
        {
         "customdata": [
          [
           217
          ]
         ],
         "hovertemplate": "Majority Classes=class_5, class_7, class_8, class_10<br>Number of Classes=%{x}<br>Complexity Measure=%{y}<br>dataset_id=%{customdata[0]}<extra></extra>",
         "legendgroup": "class_5, class_7, class_8, class_10",
         "marker": {
          "color": "#00cc96",
          "symbol": "circle"
         },
         "mode": "markers",
         "name": "class_5, class_7, class_8, class_10",
         "orientation": "v",
         "showlegend": true,
         "type": "scatter",
         "x": [
          13
         ],
         "xaxis": "x",
         "y": [
          0.8457692307692307
         ],
         "yaxis": "y"
        },
        {
         "customdata": [
          [
           222
          ]
         ],
         "hovertemplate": "Majority Classes=class_0, class_1<br>Number of Classes=%{x}<br>Complexity Measure=%{y}<br>dataset_id=%{customdata[0]}<extra></extra>",
         "legendgroup": "class_0, class_1",
         "marker": {
          "color": "#ab63fa",
          "symbol": "circle"
         },
         "mode": "markers",
         "name": "class_0, class_1",
         "orientation": "v",
         "showlegend": true,
         "type": "scatter",
         "x": [
          10
         ],
         "xaxis": "x",
         "y": [
          0.809
         ],
         "yaxis": "y"
        },
        {
         "customdata": [
          [
           223
          ],
          [
           275
          ]
         ],
         "hovertemplate": "Majority Classes=class_8, class_12<br>Number of Classes=%{x}<br>Complexity Measure=%{y}<br>dataset_id=%{customdata[0]}<extra></extra>",
         "legendgroup": "class_8, class_12",
         "marker": {
          "color": "#FFA15A",
          "symbol": "circle"
         },
         "mode": "markers",
         "name": "class_8, class_12",
         "orientation": "v",
         "showlegend": true,
         "type": "scatter",
         "x": [
          10,
          8
         ],
         "xaxis": "x",
         "y": [
          0.805,
          0.790625
         ],
         "yaxis": "y"
        },
        {
         "customdata": [
          [
           230
          ]
         ],
         "hovertemplate": "Majority Classes=class_3, class_8, class_11<br>Number of Classes=%{x}<br>Complexity Measure=%{y}<br>dataset_id=%{customdata[0]}<extra></extra>",
         "legendgroup": "class_3, class_8, class_11",
         "marker": {
          "color": "#19d3f3",
          "symbol": "circle"
         },
         "mode": "markers",
         "name": "class_3, class_8, class_11",
         "orientation": "v",
         "showlegend": true,
         "type": "scatter",
         "x": [
          11
         ],
         "xaxis": "x",
         "y": [
          0.8095454545454546
         ],
         "yaxis": "y"
        },
        {
         "customdata": [
          [
           232
          ]
         ],
         "hovertemplate": "Majority Classes=class_1, class_5, class_8, class_12<br>Number of Classes=%{x}<br>Complexity Measure=%{y}<br>dataset_id=%{customdata[0]}<extra></extra>",
         "legendgroup": "class_1, class_5, class_8, class_12",
         "marker": {
          "color": "#FF6692",
          "symbol": "circle"
         },
         "mode": "markers",
         "name": "class_1, class_5, class_8, class_12",
         "orientation": "v",
         "showlegend": true,
         "type": "scatter",
         "x": [
          10
         ],
         "xaxis": "x",
         "y": [
          0.835
         ],
         "yaxis": "y"
        },
        {
         "customdata": [
          [
           234
          ]
         ],
         "hovertemplate": "Majority Classes=class_10, class_11<br>Number of Classes=%{x}<br>Complexity Measure=%{y}<br>dataset_id=%{customdata[0]}<extra></extra>",
         "legendgroup": "class_10, class_11",
         "marker": {
          "color": "#B6E880",
          "symbol": "circle"
         },
         "mode": "markers",
         "name": "class_10, class_11",
         "orientation": "v",
         "showlegend": true,
         "type": "scatter",
         "x": [
          8
         ],
         "xaxis": "x",
         "y": [
          0.815625
         ],
         "yaxis": "y"
        },
        {
         "customdata": [
          [
           236
          ]
         ],
         "hovertemplate": "Majority Classes=class_7, class_8, class_10<br>Number of Classes=%{x}<br>Complexity Measure=%{y}<br>dataset_id=%{customdata[0]}<extra></extra>",
         "legendgroup": "class_7, class_8, class_10",
         "marker": {
          "color": "#FF97FF",
          "symbol": "circle"
         },
         "mode": "markers",
         "name": "class_7, class_8, class_10",
         "orientation": "v",
         "showlegend": true,
         "type": "scatter",
         "x": [
          12
         ],
         "xaxis": "x",
         "y": [
          0.8566666666666667
         ],
         "yaxis": "y"
        },
        {
         "customdata": [
          [
           239
          ]
         ],
         "hovertemplate": "Majority Classes=class_2, class_11<br>Number of Classes=%{x}<br>Complexity Measure=%{y}<br>dataset_id=%{customdata[0]}<extra></extra>",
         "legendgroup": "class_2, class_11",
         "marker": {
          "color": "#FECB52",
          "symbol": "circle"
         },
         "mode": "markers",
         "name": "class_2, class_11",
         "orientation": "v",
         "showlegend": true,
         "type": "scatter",
         "x": [
          5
         ],
         "xaxis": "x",
         "y": [
          0.709
         ],
         "yaxis": "y"
        },
        {
         "customdata": [
          [
           240
          ]
         ],
         "hovertemplate": "Majority Classes=class_2, class_3, class_7<br>Number of Classes=%{x}<br>Complexity Measure=%{y}<br>dataset_id=%{customdata[0]}<extra></extra>",
         "legendgroup": "class_2, class_3, class_7",
         "marker": {
          "color": "#636efa",
          "symbol": "circle"
         },
         "mode": "markers",
         "name": "class_2, class_3, class_7",
         "orientation": "v",
         "showlegend": true,
         "type": "scatter",
         "x": [
          12
         ],
         "xaxis": "x",
         "y": [
          0.83625
         ],
         "yaxis": "y"
        },
        {
         "customdata": [
          [
           243
          ]
         ],
         "hovertemplate": "Majority Classes=class_0, class_1, class_2, class_5, class_10<br>Number of Classes=%{x}<br>Complexity Measure=%{y}<br>dataset_id=%{customdata[0]}<extra></extra>",
         "legendgroup": "class_0, class_1, class_2, class_5, class_10",
         "marker": {
          "color": "#EF553B",
          "symbol": "circle"
         },
         "mode": "markers",
         "name": "class_0, class_1, class_2, class_5, class_10",
         "orientation": "v",
         "showlegend": true,
         "type": "scatter",
         "x": [
          13
         ],
         "xaxis": "x",
         "y": [
          0.8373076923076923
         ],
         "yaxis": "y"
        },
        {
         "customdata": [
          [
           244
          ]
         ],
         "hovertemplate": "Majority Classes=class_3, class_9<br>Number of Classes=%{x}<br>Complexity Measure=%{y}<br>dataset_id=%{customdata[0]}<extra></extra>",
         "legendgroup": "class_3, class_9",
         "marker": {
          "color": "#00cc96",
          "symbol": "circle"
         },
         "mode": "markers",
         "name": "class_3, class_9",
         "orientation": "v",
         "showlegend": true,
         "type": "scatter",
         "x": [
          6
         ],
         "xaxis": "x",
         "y": [
          0.6808333333333333
         ],
         "yaxis": "y"
        },
        {
         "customdata": [
          [
           252
          ]
         ],
         "hovertemplate": "Majority Classes=class_2, class_7, class_12<br>Number of Classes=%{x}<br>Complexity Measure=%{y}<br>dataset_id=%{customdata[0]}<extra></extra>",
         "legendgroup": "class_2, class_7, class_12",
         "marker": {
          "color": "#ab63fa",
          "symbol": "circle"
         },
         "mode": "markers",
         "name": "class_2, class_7, class_12",
         "orientation": "v",
         "showlegend": true,
         "type": "scatter",
         "x": [
          10
         ],
         "xaxis": "x",
         "y": [
          0.807
         ],
         "yaxis": "y"
        },
        {
         "customdata": [
          [
           257
          ]
         ],
         "hovertemplate": "Majority Classes=class_1, class_2, class_10<br>Number of Classes=%{x}<br>Complexity Measure=%{y}<br>dataset_id=%{customdata[0]}<extra></extra>",
         "legendgroup": "class_1, class_2, class_10",
         "marker": {
          "color": "#FFA15A",
          "symbol": "circle"
         },
         "mode": "markers",
         "name": "class_1, class_2, class_10",
         "orientation": "v",
         "showlegend": true,
         "type": "scatter",
         "x": [
          10
         ],
         "xaxis": "x",
         "y": [
          0.805
         ],
         "yaxis": "y"
        },
        {
         "customdata": [
          [
           261
          ]
         ],
         "hovertemplate": "Majority Classes=class_4, class_5, class_11, class_12<br>Number of Classes=%{x}<br>Complexity Measure=%{y}<br>dataset_id=%{customdata[0]}<extra></extra>",
         "legendgroup": "class_4, class_5, class_11, class_12",
         "marker": {
          "color": "#19d3f3",
          "symbol": "circle"
         },
         "mode": "markers",
         "name": "class_4, class_5, class_11, class_12",
         "orientation": "v",
         "showlegend": true,
         "type": "scatter",
         "x": [
          7
         ],
         "xaxis": "x",
         "y": [
          0.7671428571428571
         ],
         "yaxis": "y"
        },
        {
         "customdata": [
          [
           267
          ]
         ],
         "hovertemplate": "Majority Classes=class_7, class_8, class_10, class_12<br>Number of Classes=%{x}<br>Complexity Measure=%{y}<br>dataset_id=%{customdata[0]}<extra></extra>",
         "legendgroup": "class_7, class_8, class_10, class_12",
         "marker": {
          "color": "#FF6692",
          "symbol": "circle"
         },
         "mode": "markers",
         "name": "class_7, class_8, class_10, class_12",
         "orientation": "v",
         "showlegend": true,
         "type": "scatter",
         "x": [
          12
         ],
         "xaxis": "x",
         "y": [
          0.8441666666666666
         ],
         "yaxis": "y"
        },
        {
         "customdata": [
          [
           269
          ]
         ],
         "hovertemplate": "Majority Classes=class_0, class_2, class_5, class_8, class_10<br>Number of Classes=%{x}<br>Complexity Measure=%{y}<br>dataset_id=%{customdata[0]}<extra></extra>",
         "legendgroup": "class_0, class_2, class_5, class_8, class_10",
         "marker": {
          "color": "#B6E880",
          "symbol": "circle"
         },
         "mode": "markers",
         "name": "class_0, class_2, class_5, class_8, class_10",
         "orientation": "v",
         "showlegend": true,
         "type": "scatter",
         "x": [
          13
         ],
         "xaxis": "x",
         "y": [
          0.8553846153846154
         ],
         "yaxis": "y"
        },
        {
         "customdata": [
          [
           272
          ]
         ],
         "hovertemplate": "Majority Classes=class_5, class_10, class_11<br>Number of Classes=%{x}<br>Complexity Measure=%{y}<br>dataset_id=%{customdata[0]}<extra></extra>",
         "legendgroup": "class_5, class_10, class_11",
         "marker": {
          "color": "#FF97FF",
          "symbol": "circle"
         },
         "mode": "markers",
         "name": "class_5, class_10, class_11",
         "orientation": "v",
         "showlegend": true,
         "type": "scatter",
         "x": [
          11
         ],
         "xaxis": "x",
         "y": [
          0.8172727272727273
         ],
         "yaxis": "y"
        }
       ],
       "layout": {
        "autosize": true,
        "legend": {
         "title": {
          "text": "Majority Classes"
         },
         "tracegroupgap": 0
        },
        "template": {
         "data": {
          "bar": [
           {
            "error_x": {
             "color": "#2a3f5f"
            },
            "error_y": {
             "color": "#2a3f5f"
            },
            "marker": {
             "line": {
              "color": "#E5ECF6",
              "width": 0.5
             },
             "pattern": {
              "fillmode": "overlay",
              "size": 10,
              "solidity": 0.2
             }
            },
            "type": "bar"
           }
          ],
          "barpolar": [
           {
            "marker": {
             "line": {
              "color": "#E5ECF6",
              "width": 0.5
             },
             "pattern": {
              "fillmode": "overlay",
              "size": 10,
              "solidity": 0.2
             }
            },
            "type": "barpolar"
           }
          ],
          "carpet": [
           {
            "aaxis": {
             "endlinecolor": "#2a3f5f",
             "gridcolor": "white",
             "linecolor": "white",
             "minorgridcolor": "white",
             "startlinecolor": "#2a3f5f"
            },
            "baxis": {
             "endlinecolor": "#2a3f5f",
             "gridcolor": "white",
             "linecolor": "white",
             "minorgridcolor": "white",
             "startlinecolor": "#2a3f5f"
            },
            "type": "carpet"
           }
          ],
          "choropleth": [
           {
            "colorbar": {
             "outlinewidth": 0,
             "ticks": ""
            },
            "type": "choropleth"
           }
          ],
          "contour": [
           {
            "colorbar": {
             "outlinewidth": 0,
             "ticks": ""
            },
            "colorscale": [
             [
              0,
              "#0d0887"
             ],
             [
              0.1111111111111111,
              "#46039f"
             ],
             [
              0.2222222222222222,
              "#7201a8"
             ],
             [
              0.3333333333333333,
              "#9c179e"
             ],
             [
              0.4444444444444444,
              "#bd3786"
             ],
             [
              0.5555555555555556,
              "#d8576b"
             ],
             [
              0.6666666666666666,
              "#ed7953"
             ],
             [
              0.7777777777777778,
              "#fb9f3a"
             ],
             [
              0.8888888888888888,
              "#fdca26"
             ],
             [
              1,
              "#f0f921"
             ]
            ],
            "type": "contour"
           }
          ],
          "contourcarpet": [
           {
            "colorbar": {
             "outlinewidth": 0,
             "ticks": ""
            },
            "type": "contourcarpet"
           }
          ],
          "heatmap": [
           {
            "colorbar": {
             "outlinewidth": 0,
             "ticks": ""
            },
            "colorscale": [
             [
              0,
              "#0d0887"
             ],
             [
              0.1111111111111111,
              "#46039f"
             ],
             [
              0.2222222222222222,
              "#7201a8"
             ],
             [
              0.3333333333333333,
              "#9c179e"
             ],
             [
              0.4444444444444444,
              "#bd3786"
             ],
             [
              0.5555555555555556,
              "#d8576b"
             ],
             [
              0.6666666666666666,
              "#ed7953"
             ],
             [
              0.7777777777777778,
              "#fb9f3a"
             ],
             [
              0.8888888888888888,
              "#fdca26"
             ],
             [
              1,
              "#f0f921"
             ]
            ],
            "type": "heatmap"
           }
          ],
          "heatmapgl": [
           {
            "colorbar": {
             "outlinewidth": 0,
             "ticks": ""
            },
            "colorscale": [
             [
              0,
              "#0d0887"
             ],
             [
              0.1111111111111111,
              "#46039f"
             ],
             [
              0.2222222222222222,
              "#7201a8"
             ],
             [
              0.3333333333333333,
              "#9c179e"
             ],
             [
              0.4444444444444444,
              "#bd3786"
             ],
             [
              0.5555555555555556,
              "#d8576b"
             ],
             [
              0.6666666666666666,
              "#ed7953"
             ],
             [
              0.7777777777777778,
              "#fb9f3a"
             ],
             [
              0.8888888888888888,
              "#fdca26"
             ],
             [
              1,
              "#f0f921"
             ]
            ],
            "type": "heatmapgl"
           }
          ],
          "histogram": [
           {
            "marker": {
             "pattern": {
              "fillmode": "overlay",
              "size": 10,
              "solidity": 0.2
             }
            },
            "type": "histogram"
           }
          ],
          "histogram2d": [
           {
            "colorbar": {
             "outlinewidth": 0,
             "ticks": ""
            },
            "colorscale": [
             [
              0,
              "#0d0887"
             ],
             [
              0.1111111111111111,
              "#46039f"
             ],
             [
              0.2222222222222222,
              "#7201a8"
             ],
             [
              0.3333333333333333,
              "#9c179e"
             ],
             [
              0.4444444444444444,
              "#bd3786"
             ],
             [
              0.5555555555555556,
              "#d8576b"
             ],
             [
              0.6666666666666666,
              "#ed7953"
             ],
             [
              0.7777777777777778,
              "#fb9f3a"
             ],
             [
              0.8888888888888888,
              "#fdca26"
             ],
             [
              1,
              "#f0f921"
             ]
            ],
            "type": "histogram2d"
           }
          ],
          "histogram2dcontour": [
           {
            "colorbar": {
             "outlinewidth": 0,
             "ticks": ""
            },
            "colorscale": [
             [
              0,
              "#0d0887"
             ],
             [
              0.1111111111111111,
              "#46039f"
             ],
             [
              0.2222222222222222,
              "#7201a8"
             ],
             [
              0.3333333333333333,
              "#9c179e"
             ],
             [
              0.4444444444444444,
              "#bd3786"
             ],
             [
              0.5555555555555556,
              "#d8576b"
             ],
             [
              0.6666666666666666,
              "#ed7953"
             ],
             [
              0.7777777777777778,
              "#fb9f3a"
             ],
             [
              0.8888888888888888,
              "#fdca26"
             ],
             [
              1,
              "#f0f921"
             ]
            ],
            "type": "histogram2dcontour"
           }
          ],
          "mesh3d": [
           {
            "colorbar": {
             "outlinewidth": 0,
             "ticks": ""
            },
            "type": "mesh3d"
           }
          ],
          "parcoords": [
           {
            "line": {
             "colorbar": {
              "outlinewidth": 0,
              "ticks": ""
             }
            },
            "type": "parcoords"
           }
          ],
          "pie": [
           {
            "automargin": true,
            "type": "pie"
           }
          ],
          "scatter": [
           {
            "fillpattern": {
             "fillmode": "overlay",
             "size": 10,
             "solidity": 0.2
            },
            "type": "scatter"
           }
          ],
          "scatter3d": [
           {
            "line": {
             "colorbar": {
              "outlinewidth": 0,
              "ticks": ""
             }
            },
            "marker": {
             "colorbar": {
              "outlinewidth": 0,
              "ticks": ""
             }
            },
            "type": "scatter3d"
           }
          ],
          "scattercarpet": [
           {
            "marker": {
             "colorbar": {
              "outlinewidth": 0,
              "ticks": ""
             }
            },
            "type": "scattercarpet"
           }
          ],
          "scattergeo": [
           {
            "marker": {
             "colorbar": {
              "outlinewidth": 0,
              "ticks": ""
             }
            },
            "type": "scattergeo"
           }
          ],
          "scattergl": [
           {
            "marker": {
             "colorbar": {
              "outlinewidth": 0,
              "ticks": ""
             }
            },
            "type": "scattergl"
           }
          ],
          "scattermapbox": [
           {
            "marker": {
             "colorbar": {
              "outlinewidth": 0,
              "ticks": ""
             }
            },
            "type": "scattermapbox"
           }
          ],
          "scatterpolar": [
           {
            "marker": {
             "colorbar": {
              "outlinewidth": 0,
              "ticks": ""
             }
            },
            "type": "scatterpolar"
           }
          ],
          "scatterpolargl": [
           {
            "marker": {
             "colorbar": {
              "outlinewidth": 0,
              "ticks": ""
             }
            },
            "type": "scatterpolargl"
           }
          ],
          "scatterternary": [
           {
            "marker": {
             "colorbar": {
              "outlinewidth": 0,
              "ticks": ""
             }
            },
            "type": "scatterternary"
           }
          ],
          "surface": [
           {
            "colorbar": {
             "outlinewidth": 0,
             "ticks": ""
            },
            "colorscale": [
             [
              0,
              "#0d0887"
             ],
             [
              0.1111111111111111,
              "#46039f"
             ],
             [
              0.2222222222222222,
              "#7201a8"
             ],
             [
              0.3333333333333333,
              "#9c179e"
             ],
             [
              0.4444444444444444,
              "#bd3786"
             ],
             [
              0.5555555555555556,
              "#d8576b"
             ],
             [
              0.6666666666666666,
              "#ed7953"
             ],
             [
              0.7777777777777778,
              "#fb9f3a"
             ],
             [
              0.8888888888888888,
              "#fdca26"
             ],
             [
              1,
              "#f0f921"
             ]
            ],
            "type": "surface"
           }
          ],
          "table": [
           {
            "cells": {
             "fill": {
              "color": "#EBF0F8"
             },
             "line": {
              "color": "white"
             }
            },
            "header": {
             "fill": {
              "color": "#C8D4E3"
             },
             "line": {
              "color": "white"
             }
            },
            "type": "table"
           }
          ]
         },
         "layout": {
          "annotationdefaults": {
           "arrowcolor": "#2a3f5f",
           "arrowhead": 0,
           "arrowwidth": 1
          },
          "autotypenumbers": "strict",
          "coloraxis": {
           "colorbar": {
            "outlinewidth": 0,
            "ticks": ""
           }
          },
          "colorscale": {
           "diverging": [
            [
             0,
             "#8e0152"
            ],
            [
             0.1,
             "#c51b7d"
            ],
            [
             0.2,
             "#de77ae"
            ],
            [
             0.3,
             "#f1b6da"
            ],
            [
             0.4,
             "#fde0ef"
            ],
            [
             0.5,
             "#f7f7f7"
            ],
            [
             0.6,
             "#e6f5d0"
            ],
            [
             0.7,
             "#b8e186"
            ],
            [
             0.8,
             "#7fbc41"
            ],
            [
             0.9,
             "#4d9221"
            ],
            [
             1,
             "#276419"
            ]
           ],
           "sequential": [
            [
             0,
             "#0d0887"
            ],
            [
             0.1111111111111111,
             "#46039f"
            ],
            [
             0.2222222222222222,
             "#7201a8"
            ],
            [
             0.3333333333333333,
             "#9c179e"
            ],
            [
             0.4444444444444444,
             "#bd3786"
            ],
            [
             0.5555555555555556,
             "#d8576b"
            ],
            [
             0.6666666666666666,
             "#ed7953"
            ],
            [
             0.7777777777777778,
             "#fb9f3a"
            ],
            [
             0.8888888888888888,
             "#fdca26"
            ],
            [
             1,
             "#f0f921"
            ]
           ],
           "sequentialminus": [
            [
             0,
             "#0d0887"
            ],
            [
             0.1111111111111111,
             "#46039f"
            ],
            [
             0.2222222222222222,
             "#7201a8"
            ],
            [
             0.3333333333333333,
             "#9c179e"
            ],
            [
             0.4444444444444444,
             "#bd3786"
            ],
            [
             0.5555555555555556,
             "#d8576b"
            ],
            [
             0.6666666666666666,
             "#ed7953"
            ],
            [
             0.7777777777777778,
             "#fb9f3a"
            ],
            [
             0.8888888888888888,
             "#fdca26"
            ],
            [
             1,
             "#f0f921"
            ]
           ]
          },
          "colorway": [
           "#636efa",
           "#EF553B",
           "#00cc96",
           "#ab63fa",
           "#FFA15A",
           "#19d3f3",
           "#FF6692",
           "#B6E880",
           "#FF97FF",
           "#FECB52"
          ],
          "font": {
           "color": "#2a3f5f"
          },
          "geo": {
           "bgcolor": "white",
           "lakecolor": "white",
           "landcolor": "#E5ECF6",
           "showlakes": true,
           "showland": true,
           "subunitcolor": "white"
          },
          "hoverlabel": {
           "align": "left"
          },
          "hovermode": "closest",
          "mapbox": {
           "style": "light"
          },
          "paper_bgcolor": "white",
          "plot_bgcolor": "#E5ECF6",
          "polar": {
           "angularaxis": {
            "gridcolor": "white",
            "linecolor": "white",
            "ticks": ""
           },
           "bgcolor": "#E5ECF6",
           "radialaxis": {
            "gridcolor": "white",
            "linecolor": "white",
            "ticks": ""
           }
          },
          "scene": {
           "xaxis": {
            "backgroundcolor": "#E5ECF6",
            "gridcolor": "white",
            "gridwidth": 2,
            "linecolor": "white",
            "showbackground": true,
            "ticks": "",
            "zerolinecolor": "white"
           },
           "yaxis": {
            "backgroundcolor": "#E5ECF6",
            "gridcolor": "white",
            "gridwidth": 2,
            "linecolor": "white",
            "showbackground": true,
            "ticks": "",
            "zerolinecolor": "white"
           },
           "zaxis": {
            "backgroundcolor": "#E5ECF6",
            "gridcolor": "white",
            "gridwidth": 2,
            "linecolor": "white",
            "showbackground": true,
            "ticks": "",
            "zerolinecolor": "white"
           }
          },
          "shapedefaults": {
           "line": {
            "color": "#2a3f5f"
           }
          },
          "ternary": {
           "aaxis": {
            "gridcolor": "white",
            "linecolor": "white",
            "ticks": ""
           },
           "baxis": {
            "gridcolor": "white",
            "linecolor": "white",
            "ticks": ""
           },
           "bgcolor": "#E5ECF6",
           "caxis": {
            "gridcolor": "white",
            "linecolor": "white",
            "ticks": ""
           }
          },
          "title": {
           "x": 0.05
          },
          "xaxis": {
           "automargin": true,
           "gridcolor": "white",
           "linecolor": "white",
           "ticks": "",
           "title": {
            "standoff": 15
           },
           "zerolinecolor": "white",
           "zerolinewidth": 2
          },
          "yaxis": {
           "automargin": true,
           "gridcolor": "white",
           "linecolor": "white",
           "ticks": "",
           "title": {
            "standoff": 15
           },
           "zerolinecolor": "white",
           "zerolinewidth": 2
          }
         }
        },
        "title": {
         "text": "2D Scatter Plot of Number of Classes vs. Complexity Measure"
        },
        "xaxis": {
         "anchor": "y",
         "autorange": true,
         "domain": [
          0,
          1
         ],
         "range": [
          3.3911149825783973,
          13.608885017421603
         ],
         "title": {
          "text": "Number of Classes"
         },
         "type": "linear"
        },
        "yaxis": {
         "anchor": "x",
         "autorange": true,
         "domain": [
          0,
          1
         ],
         "range": [
          0.5208109002647837,
          0.8975981906443071
         ],
         "title": {
          "text": "Complexity Measure"
         },
         "type": "linear"
        }
       }
      },
      "image/png": "[encoded data removed]",
      "text/html": [
       "<div>                            <div id=\"8d2b8835-4fe3-48a5-9995-43412d55d288\" class=\"plotly-graph-div\" style=\"height:525px; width:100%;\"></div>            <script type=\"text/javascript\">                require([\"plotly\"], function(Plotly) {                    window.PLOTLYENV=window.PLOTLYENV || {};                                    if (document.getElementById(\"8d2b8835-4fe3-48a5-9995-43412d55d288\")) {                    Plotly.newPlot(                        \"8d2b8835-4fe3-48a5-9995-43412d55d288\",                        [{\"customdata\":[[1]],\"hovertemplate\":\"Majority Classes=class_1, class_5<br>Number of Classes=%{x}<br>Complexity Measure=%{y}<br>dataset_id=%{customdata[0]}<extra></extra>\",\"legendgroup\":\"class_1, class_5\",\"marker\":{\"color\":\"#636efa\",\"symbol\":\"circle\"},\"mode\":\"markers\",\"name\":\"class_1, class_5\",\"orientation\":\"v\",\"showlegend\":true,\"x\":[5],\"xaxis\":\"x\",\"y\":[0.76],\"yaxis\":\"y\",\"type\":\"scatter\"},{\"customdata\":[[2],[280],[282]],\"hovertemplate\":\"Majority Classes=class_0, class_12<br>Number of Classes=%{x}<br>Complexity Measure=%{y}<br>dataset_id=%{customdata[0]}<extra></extra>\",\"legendgroup\":\"class_0, class_12\",\"marker\":{\"color\":\"#EF553B\",\"symbol\":\"circle\"},\"mode\":\"markers\",\"name\":\"class_0, class_12\",\"orientation\":\"v\",\"showlegend\":true,\"x\":[6,8,6],\"xaxis\":\"x\",\"y\":[0.695,0.76125,0.6758333333333333],\"yaxis\":\"y\",\"type\":\"scatter\"},{\"customdata\":[[3],[28],[56],[121],[147],[197],[207],[211],[238]],\"hovertemplate\":\"Majority Classes=class_8<br>Number of Classes=%{x}<br>Complexity Measure=%{y}<br>dataset_id=%{customdata[0]}<extra></extra>\",\"legendgroup\":\"class_8\",\"marker\":{\"color\":\"#00cc96\",\"symbol\":\"circle\"},\"mode\":\"markers\",\"name\":\"class_8\",\"orientation\":\"v\",\"showlegend\":true,\"x\":[6,10,7,13,11,11,4,5,9],\"xaxis\":\"x\",\"y\":[0.7,0.791,0.7264285714285714,0.8453846153846154,0.8204545454545454,0.8172727272727273,0.6775,0.712,0.78],\"yaxis\":\"y\",\"type\":\"scatter\"},{\"customdata\":[[4]],\"hovertemplate\":\"Majority Classes=class_1, class_3, class_5, class_10<br>Number of Classes=%{x}<br>Complexity Measure=%{y}<br>dataset_id=%{customdata[0]}<extra></extra>\",\"legendgroup\":\"class_1, class_3, class_5, class_10\",\"marker\":{\"color\":\"#ab63fa\",\"symbol\":\"circle\"},\"mode\":\"markers\",\"name\":\"class_1, class_3, class_5, class_10\",\"orientation\":\"v\",\"showlegend\":true,\"x\":[12],\"xaxis\":\"x\",\"y\":[0.83625],\"yaxis\":\"y\",\"type\":\"scatter\"},{\"customdata\":[[5],[135]],\"hovertemplate\":\"Majority Classes=class_0, class_7, class_10<br>Number of Classes=%{x}<br>Complexity Measure=%{y}<br>dataset_id=%{customdata[0]}<extra></extra>\",\"legendgroup\":\"class_0, class_7, class_10\",\"marker\":{\"color\":\"#FFA15A\",\"symbol\":\"circle\"},\"mode\":\"markers\",\"name\":\"class_0, class_7, class_10\",\"orientation\":\"v\",\"showlegend\":true,\"x\":[11,7],\"xaxis\":\"x\",\"y\":[0.8263636363636364,0.7785714285714286],\"yaxis\":\"y\",\"type\":\"scatter\"},{\"customdata\":[[6],[12],[86],[91],[94],[111],[139],[152],[154],[233],[300]],\"hovertemplate\":\"Majority Classes=class_1<br>Number of Classes=%{x}<br>Complexity Measure=%{y}<br>dataset_id=%{customdata[0]}<extra></extra>\",\"legendgroup\":\"class_1\",\"marker\":{\"color\":\"#19d3f3\",\"symbol\":\"circle\"},\"mode\":\"markers\",\"name\":\"class_1\",\"orientation\":\"v\",\"showlegend\":true,\"x\":[4,5,13,4,8,10,4,4,12,6,8],\"xaxis\":\"x\",\"y\":[0.72875,0.724,0.8576923076923076,0.6675,0.741875,0.802,0.6575,0.68375,0.8345833333333333,0.7041666666666667,0.755625],\"yaxis\":\"y\",\"type\":\"scatter\"},{\"customdata\":[[7],[18],[21],[29],[41],[50],[133],[148],[196],[256],[283],[296]],\"hovertemplate\":\"Majority Classes=class_7<br>Number of Classes=%{x}<br>Complexity Measure=%{y}<br>dataset_id=%{customdata[0]}<extra></extra>\",\"legendgroup\":\"class_7\",\"marker\":{\"color\":\"#FF6692\",\"symbol\":\"circle\"},\"mode\":\"markers\",\"name\":\"class_7\",\"orientation\":\"v\",\"showlegend\":true,\"x\":[13,12,4,5,6,4,8,7,8,6,9,8],\"xaxis\":\"x\",\"y\":[0.845,0.8529166666666667,0.645,0.725,0.7641666666666667,0.64875,0.786875,0.775,0.799375,0.7633333333333333,0.7833333333333333,0.815625],\"yaxis\":\"y\",\"type\":\"scatter\"},{\"customdata\":[[8],[138]],\"hovertemplate\":\"Majority Classes=class_2, class_7, class_10<br>Number of Classes=%{x}<br>Complexity Measure=%{y}<br>dataset_id=%{customdata[0]}<extra></extra>\",\"legendgroup\":\"class_2, class_7, class_10\",\"marker\":{\"color\":\"#B6E880\",\"symbol\":\"circle\"},\"mode\":\"markers\",\"name\":\"class_2, class_7, class_10\",\"orientation\":\"v\",\"showlegend\":true,\"x\":[10,9],\"xaxis\":\"x\",\"y\":[0.7985,0.7766666666666666],\"yaxis\":\"y\",\"type\":\"scatter\"},{\"customdata\":[[9]],\"hovertemplate\":\"Majority Classes=class_8, class_10, class_11<br>Number of Classes=%{x}<br>Complexity Measure=%{y}<br>dataset_id=%{customdata[0]}<extra></extra>\",\"legendgroup\":\"class_8, class_10, class_11\",\"marker\":{\"color\":\"#FF97FF\",\"symbol\":\"circle\"},\"mode\":\"markers\",\"name\":\"class_8, class_10, class_11\",\"orientation\":\"v\",\"showlegend\":true,\"x\":[11],\"xaxis\":\"x\",\"y\":[0.8181818181818182],\"yaxis\":\"y\",\"type\":\"scatter\"},{\"customdata\":[[10],[67],[226],[227]],\"hovertemplate\":\"Majority Classes=class_10, class_12<br>Number of Classes=%{x}<br>Complexity Measure=%{y}<br>dataset_id=%{customdata[0]}<extra></extra>\",\"legendgroup\":\"class_10, class_12\",\"marker\":{\"color\":\"#FECB52\",\"symbol\":\"circle\"},\"mode\":\"markers\",\"name\":\"class_10, class_12\",\"orientation\":\"v\",\"showlegend\":true,\"x\":[10,5,13,8],\"xaxis\":\"x\",\"y\":[0.777,0.608,0.8388461538461538,0.785],\"yaxis\":\"y\",\"type\":\"scatter\"},{\"customdata\":[[11],[60],[89],[103]],\"hovertemplate\":\"Majority Classes=class_7, class_11<br>Number of Classes=%{x}<br>Complexity Measure=%{y}<br>dataset_id=%{customdata[0]}<extra></extra>\",\"legendgroup\":\"class_7, class_11\",\"marker\":{\"color\":\"#636efa\",\"symbol\":\"circle\"},\"mode\":\"markers\",\"name\":\"class_7, class_11\",\"orientation\":\"v\",\"showlegend\":true,\"x\":[8,6,12,12],\"xaxis\":\"x\",\"y\":[0.745625,0.77,0.8354166666666667,0.8516666666666667],\"yaxis\":\"y\",\"type\":\"scatter\"},{\"customdata\":[[13],[136],[218]],\"hovertemplate\":\"Majority Classes=class_2, class_12<br>Number of Classes=%{x}<br>Complexity Measure=%{y}<br>dataset_id=%{customdata[0]}<extra></extra>\",\"legendgroup\":\"class_2, class_12\",\"marker\":{\"color\":\"#EF553B\",\"symbol\":\"circle\"},\"mode\":\"markers\",\"name\":\"class_2, class_12\",\"orientation\":\"v\",\"showlegend\":true,\"x\":[10,7,7],\"xaxis\":\"x\",\"y\":[0.802,0.7164285714285714,0.7292857142857143],\"yaxis\":\"y\",\"type\":\"scatter\"},{\"customdata\":[[14]],\"hovertemplate\":\"Majority Classes=class_8, class_11<br>Number of Classes=%{x}<br>Complexity Measure=%{y}<br>dataset_id=%{customdata[0]}<extra></extra>\",\"legendgroup\":\"class_8, class_11\",\"marker\":{\"color\":\"#00cc96\",\"symbol\":\"circle\"},\"mode\":\"markers\",\"name\":\"class_8, class_11\",\"orientation\":\"v\",\"showlegend\":true,\"x\":[7],\"xaxis\":\"x\",\"y\":[0.7492857142857143],\"yaxis\":\"y\",\"type\":\"scatter\"},{\"customdata\":[[15],[180],[185],[225],[285]],\"hovertemplate\":\"Majority Classes=class_0, class_10<br>Number of Classes=%{x}<br>Complexity Measure=%{y}<br>dataset_id=%{customdata[0]}<extra></extra>\",\"legendgroup\":\"class_0, class_10\",\"marker\":{\"color\":\"#ab63fa\",\"symbol\":\"circle\"},\"mode\":\"markers\",\"name\":\"class_0, class_10\",\"orientation\":\"v\",\"showlegend\":true,\"x\":[11,9,7,10,7],\"xaxis\":\"x\",\"y\":[0.8568181818181818,0.7838888888888889,0.8157142857142857,0.7945,0.7971428571428572],\"yaxis\":\"y\",\"type\":\"scatter\"},{\"customdata\":[[16],[25],[55],[105],[122],[171],[201],[229],[246],[250],[290]],\"hovertemplate\":\"Majority Classes=class_12<br>Number of Classes=%{x}<br>Complexity Measure=%{y}<br>dataset_id=%{customdata[0]}<extra></extra>\",\"legendgroup\":\"class_12\",\"marker\":{\"color\":\"#FFA15A\",\"symbol\":\"circle\"},\"mode\":\"markers\",\"name\":\"class_12\",\"orientation\":\"v\",\"showlegend\":true,\"x\":[9,4,13,9,13,6,5,13,10,10,5],\"xaxis\":\"x\",\"y\":[0.7794444444444445,0.57,0.8538461538461538,0.7888888888888889,0.8369230769230769,0.675,0.649,0.8357692307692308,0.79,0.7995,0.637],\"yaxis\":\"y\",\"type\":\"scatter\"},{\"customdata\":[[17],[20],[46]],\"hovertemplate\":\"Majority Classes=class_5, class_10<br>Number of Classes=%{x}<br>Complexity Measure=%{y}<br>dataset_id=%{customdata[0]}<extra></extra>\",\"legendgroup\":\"class_5, class_10\",\"marker\":{\"color\":\"#19d3f3\",\"symbol\":\"circle\"},\"mode\":\"markers\",\"name\":\"class_5, class_10\",\"orientation\":\"v\",\"showlegend\":true,\"x\":[10,6,9],\"xaxis\":\"x\",\"y\":[0.8,0.6833333333333333,0.815],\"yaxis\":\"y\",\"type\":\"scatter\"},{\"customdata\":[[19],[113],[142],[161],[213],[214],[219],[241],[251],[281],[286],[297]],\"hovertemplate\":\"Majority Classes=class_10<br>Number of Classes=%{x}<br>Complexity Measure=%{y}<br>dataset_id=%{customdata[0]}<extra></extra>\",\"legendgroup\":\"class_10\",\"marker\":{\"color\":\"#FF6692\",\"symbol\":\"circle\"},\"mode\":\"markers\",\"name\":\"class_10\",\"orientation\":\"v\",\"showlegend\":true,\"x\":[7,7,4,8,9,7,8,4,13,6,13,7],\"xaxis\":\"x\",\"y\":[0.7671428571428571,0.7807142857142857,0.5475,0.773125,0.7855555555555556,0.7928571428571428,0.834375,0.6225,0.8376923076923077,0.705,0.8488461538461538,0.7685714285714286],\"yaxis\":\"y\",\"type\":\"scatter\"},{\"customdata\":[[22]],\"hovertemplate\":\"Majority Classes=class_1, class_10, class_11<br>Number of Classes=%{x}<br>Complexity Measure=%{y}<br>dataset_id=%{customdata[0]}<extra></extra>\",\"legendgroup\":\"class_1, class_10, class_11\",\"marker\":{\"color\":\"#B6E880\",\"symbol\":\"circle\"},\"mode\":\"markers\",\"name\":\"class_1, class_10, class_11\",\"orientation\":\"v\",\"showlegend\":true,\"x\":[9],\"xaxis\":\"x\",\"y\":[0.8322222222222222],\"yaxis\":\"y\",\"type\":\"scatter\"},{\"customdata\":[[23]],\"hovertemplate\":\"Majority Classes=class_1, class_3, class_5, class_7, class_12<br>Number of Classes=%{x}<br>Complexity Measure=%{y}<br>dataset_id=%{customdata[0]}<extra></extra>\",\"legendgroup\":\"class_1, class_3, class_5, class_7, class_12\",\"marker\":{\"color\":\"#FF97FF\",\"symbol\":\"circle\"},\"mode\":\"markers\",\"name\":\"class_1, class_3, class_5, class_7, class_12\",\"orientation\":\"v\",\"showlegend\":true,\"x\":[10],\"xaxis\":\"x\",\"y\":[0.824],\"yaxis\":\"y\",\"type\":\"scatter\"},{\"customdata\":[[24]],\"hovertemplate\":\"Majority Classes=class_0, class_3, class_11, class_12<br>Number of Classes=%{x}<br>Complexity Measure=%{y}<br>dataset_id=%{customdata[0]}<extra></extra>\",\"legendgroup\":\"class_0, class_3, class_11, class_12\",\"marker\":{\"color\":\"#FECB52\",\"symbol\":\"circle\"},\"mode\":\"markers\",\"name\":\"class_0, class_3, class_11, class_12\",\"orientation\":\"v\",\"showlegend\":true,\"x\":[13],\"xaxis\":\"x\",\"y\":[0.8588461538461538],\"yaxis\":\"y\",\"type\":\"scatter\"},{\"customdata\":[[26],[96]],\"hovertemplate\":\"Majority Classes=class_0, class_5, class_8<br>Number of Classes=%{x}<br>Complexity Measure=%{y}<br>dataset_id=%{customdata[0]}<extra></extra>\",\"legendgroup\":\"class_0, class_5, class_8\",\"marker\":{\"color\":\"#636efa\",\"symbol\":\"circle\"},\"mode\":\"markers\",\"name\":\"class_0, class_5, class_8\",\"orientation\":\"v\",\"showlegend\":true,\"x\":[6,13],\"xaxis\":\"x\",\"y\":[0.68,0.8580769230769231],\"yaxis\":\"y\",\"type\":\"scatter\"},{\"customdata\":[[27],[144],[170],[174],[179],[242],[255],[263],[266]],\"hovertemplate\":\"Majority Classes=class_5<br>Number of Classes=%{x}<br>Complexity Measure=%{y}<br>dataset_id=%{customdata[0]}<extra></extra>\",\"legendgroup\":\"class_5\",\"marker\":{\"color\":\"#EF553B\",\"symbol\":\"circle\"},\"mode\":\"markers\",\"name\":\"class_5\",\"orientation\":\"v\",\"showlegend\":true,\"x\":[5,12,6,11,13,9,5,11,8],\"xaxis\":\"x\",\"y\":[0.632,0.8416666666666667,0.74,0.8190909090909091,0.8461538461538461,0.8311111111111111,0.615,0.8236363636363636,0.76125],\"yaxis\":\"y\",\"type\":\"scatter\"},{\"customdata\":[[30],[35],[36],[59],[66],[97],[176],[177],[231],[235],[237],[258],[260],[262],[277]],\"hovertemplate\":\"Majority Classes=class_3<br>Number of Classes=%{x}<br>Complexity Measure=%{y}<br>dataset_id=%{customdata[0]}<extra></extra>\",\"legendgroup\":\"class_3\",\"marker\":{\"color\":\"#00cc96\",\"symbol\":\"circle\"},\"mode\":\"markers\",\"name\":\"class_3\",\"orientation\":\"v\",\"showlegend\":true,\"x\":[8,10,5,8,10,5,11,7,4,10,13,4,7,8,5],\"xaxis\":\"x\",\"y\":[0.766875,0.81,0.661,0.74625,0.7785,0.703,0.83,0.7078571428571429,0.71,0.805,0.8546153846153847,0.675,0.765,0.76875,0.679],\"yaxis\":\"y\",\"type\":\"scatter\"},{\"customdata\":[[31]],\"hovertemplate\":\"Majority Classes=class_3, class_7, class_8, class_11, class_12<br>Number of Classes=%{x}<br>Complexity Measure=%{y}<br>dataset_id=%{customdata[0]}<extra></extra>\",\"legendgroup\":\"class_3, class_7, class_8, class_11, class_12\",\"marker\":{\"color\":\"#ab63fa\",\"symbol\":\"circle\"},\"mode\":\"markers\",\"name\":\"class_3, class_7, class_8, class_11, class_12\",\"orientation\":\"v\",\"showlegend\":true,\"x\":[11],\"xaxis\":\"x\",\"y\":[0.8359090909090909],\"yaxis\":\"y\",\"type\":\"scatter\"},{\"customdata\":[[32]],\"hovertemplate\":\"Majority Classes=class_0, class_1, class_8, class_12<br>Number of Classes=%{x}<br>Complexity Measure=%{y}<br>dataset_id=%{customdata[0]}<extra></extra>\",\"legendgroup\":\"class_0, class_1, class_8, class_12\",\"marker\":{\"color\":\"#FFA15A\",\"symbol\":\"circle\"},\"mode\":\"markers\",\"name\":\"class_0, class_1, class_8, class_12\",\"orientation\":\"v\",\"showlegend\":true,\"x\":[10],\"xaxis\":\"x\",\"y\":[0.8195],\"yaxis\":\"y\",\"type\":\"scatter\"},{\"customdata\":[[33],[54],[73],[80],[95],[119],[132],[153],[265],[295]],\"hovertemplate\":\"Majority Classes=class_11<br>Number of Classes=%{x}<br>Complexity Measure=%{y}<br>dataset_id=%{customdata[0]}<extra></extra>\",\"legendgroup\":\"class_11\",\"marker\":{\"color\":\"#19d3f3\",\"symbol\":\"circle\"},\"mode\":\"markers\",\"name\":\"class_11\",\"orientation\":\"v\",\"showlegend\":true,\"x\":[5,7,9,13,7,6,9,4,7,12],\"xaxis\":\"x\",\"y\":[0.75,0.8107142857142857,0.7994444444444444,0.8476923076923077,0.7485714285714286,0.685,0.7833333333333333,0.55125,0.7871428571428571,0.8354166666666667],\"yaxis\":\"y\",\"type\":\"scatter\"},{\"customdata\":[[34],[42],[43],[63],[72],[141],[149],[160],[165],[195],[199],[202],[209],[245],[264],[273],[274]],\"hovertemplate\":\"Majority Classes=class_0<br>Number of Classes=%{x}<br>Complexity Measure=%{y}<br>dataset_id=%{customdata[0]}<extra></extra>\",\"legendgroup\":\"class_0\",\"marker\":{\"color\":\"#FF6692\",\"symbol\":\"circle\"},\"mode\":\"markers\",\"name\":\"class_0\",\"orientation\":\"v\",\"showlegend\":true,\"x\":[9,5,8,5,4,9,4,5,4,11,7,6,9,8,10,10,9],\"xaxis\":\"x\",\"y\":[0.775,0.701,0.825,0.631,0.59375,0.8344444444444444,0.66,0.741,0.55,0.8186363636363636,0.7292857142857143,0.66,0.7927777777777778,0.7825,0.8365,0.792,0.7777777777777778],\"yaxis\":\"y\",\"type\":\"scatter\"},{\"customdata\":[[37],[61]],\"hovertemplate\":\"Majority Classes=class_5, class_7<br>Number of Classes=%{x}<br>Complexity Measure=%{y}<br>dataset_id=%{customdata[0]}<extra></extra>\",\"legendgroup\":\"class_5, class_7\",\"marker\":{\"color\":\"#B6E880\",\"symbol\":\"circle\"},\"mode\":\"markers\",\"name\":\"class_5, class_7\",\"orientation\":\"v\",\"showlegend\":true,\"x\":[4,11],\"xaxis\":\"x\",\"y\":[0.68375,0.8309090909090909],\"yaxis\":\"y\",\"type\":\"scatter\"},{\"customdata\":[[38],[81],[104],[117],[125],[183],[186],[200],[204],[205],[259],[278],[299]],\"hovertemplate\":\"Majority Classes=class_2<br>Number of Classes=%{x}<br>Complexity Measure=%{y}<br>dataset_id=%{customdata[0]}<extra></extra>\",\"legendgroup\":\"class_2\",\"marker\":{\"color\":\"#FF97FF\",\"symbol\":\"circle\"},\"mode\":\"markers\",\"name\":\"class_2\",\"orientation\":\"v\",\"showlegend\":true,\"x\":[9,7,4,5,8,10,8,13,12,7,9,12,5],\"xaxis\":\"x\",\"y\":[0.7877777777777778,0.7928571428571428,0.5525,0.621,0.759375,0.813,0.7425,0.8392307692307692,0.82875,0.785,0.8161111111111111,0.8533333333333334,0.633],\"yaxis\":\"y\",\"type\":\"scatter\"},{\"customdata\":[[39],[254]],\"hovertemplate\":\"Majority Classes=class_7, class_8, class_11<br>Number of Classes=%{x}<br>Complexity Measure=%{y}<br>dataset_id=%{customdata[0]}<extra></extra>\",\"legendgroup\":\"class_7, class_8, class_11\",\"marker\":{\"color\":\"#FECB52\",\"symbol\":\"circle\"},\"mode\":\"markers\",\"name\":\"class_7, class_8, class_11\",\"orientation\":\"v\",\"showlegend\":true,\"x\":[6,9],\"xaxis\":\"x\",\"y\":[0.7725,0.8294444444444444],\"yaxis\":\"y\",\"type\":\"scatter\"},{\"customdata\":[[40]],\"hovertemplate\":\"Majority Classes=class_1, class_2, class_8<br>Number of Classes=%{x}<br>Complexity Measure=%{y}<br>dataset_id=%{customdata[0]}<extra></extra>\",\"legendgroup\":\"class_1, class_2, class_8\",\"marker\":{\"color\":\"#636efa\",\"symbol\":\"circle\"},\"mode\":\"markers\",\"name\":\"class_1, class_2, class_8\",\"orientation\":\"v\",\"showlegend\":true,\"x\":[11],\"xaxis\":\"x\",\"y\":[0.8577272727272728],\"yaxis\":\"y\",\"type\":\"scatter\"},{\"customdata\":[[44]],\"hovertemplate\":\"Majority Classes=class_0, class_1, class_10<br>Number of Classes=%{x}<br>Complexity Measure=%{y}<br>dataset_id=%{customdata[0]}<extra></extra>\",\"legendgroup\":\"class_0, class_1, class_10\",\"marker\":{\"color\":\"#EF553B\",\"symbol\":\"circle\"},\"mode\":\"markers\",\"name\":\"class_0, class_1, class_10\",\"orientation\":\"v\",\"showlegend\":true,\"x\":[8],\"xaxis\":\"x\",\"y\":[0.765],\"yaxis\":\"y\",\"type\":\"scatter\"},{\"customdata\":[[45]],\"hovertemplate\":\"Majority Classes=class_2, class_7, class_11<br>Number of Classes=%{x}<br>Complexity Measure=%{y}<br>dataset_id=%{customdata[0]}<extra></extra>\",\"legendgroup\":\"class_2, class_7, class_11\",\"marker\":{\"color\":\"#00cc96\",\"symbol\":\"circle\"},\"mode\":\"markers\",\"name\":\"class_2, class_7, class_11\",\"orientation\":\"v\",\"showlegend\":true,\"x\":[12],\"xaxis\":\"x\",\"y\":[0.82375],\"yaxis\":\"y\",\"type\":\"scatter\"},{\"customdata\":[[47]],\"hovertemplate\":\"Majority Classes=class_0, class_5, class_8, class_11<br>Number of Classes=%{x}<br>Complexity Measure=%{y}<br>dataset_id=%{customdata[0]}<extra></extra>\",\"legendgroup\":\"class_0, class_5, class_8, class_11\",\"marker\":{\"color\":\"#ab63fa\",\"symbol\":\"circle\"},\"mode\":\"markers\",\"name\":\"class_0, class_5, class_8, class_11\",\"orientation\":\"v\",\"showlegend\":true,\"x\":[13],\"xaxis\":\"x\",\"y\":[0.8480769230769231],\"yaxis\":\"y\",\"type\":\"scatter\"},{\"customdata\":[[48]],\"hovertemplate\":\"Majority Classes=class_1, class_10<br>Number of Classes=%{x}<br>Complexity Measure=%{y}<br>dataset_id=%{customdata[0]}<extra></extra>\",\"legendgroup\":\"class_1, class_10\",\"marker\":{\"color\":\"#FFA15A\",\"symbol\":\"circle\"},\"mode\":\"markers\",\"name\":\"class_1, class_10\",\"orientation\":\"v\",\"showlegend\":true,\"x\":[13],\"xaxis\":\"x\",\"y\":[0.85],\"yaxis\":\"y\",\"type\":\"scatter\"},{\"customdata\":[[49]],\"hovertemplate\":\"Majority Classes=class_0, class_3, class_12<br>Number of Classes=%{x}<br>Complexity Measure=%{y}<br>dataset_id=%{customdata[0]}<extra></extra>\",\"legendgroup\":\"class_0, class_3, class_12\",\"marker\":{\"color\":\"#19d3f3\",\"symbol\":\"circle\"},\"mode\":\"markers\",\"name\":\"class_0, class_3, class_12\",\"orientation\":\"v\",\"showlegend\":true,\"x\":[10],\"xaxis\":\"x\",\"y\":[0.797],\"yaxis\":\"y\",\"type\":\"scatter\"},{\"customdata\":[[51]],\"hovertemplate\":\"Majority Classes=class_2, class_3, class_8, class_10<br>Number of Classes=%{x}<br>Complexity Measure=%{y}<br>dataset_id=%{customdata[0]}<extra></extra>\",\"legendgroup\":\"class_2, class_3, class_8, class_10\",\"marker\":{\"color\":\"#FF6692\",\"symbol\":\"circle\"},\"mode\":\"markers\",\"name\":\"class_2, class_3, class_8, class_10\",\"orientation\":\"v\",\"showlegend\":true,\"x\":[8],\"xaxis\":\"x\",\"y\":[0.810625],\"yaxis\":\"y\",\"type\":\"scatter\"},{\"customdata\":[[52],[192]],\"hovertemplate\":\"Majority Classes=class_1, class_8, class_10<br>Number of Classes=%{x}<br>Complexity Measure=%{y}<br>dataset_id=%{customdata[0]}<extra></extra>\",\"legendgroup\":\"class_1, class_8, class_10\",\"marker\":{\"color\":\"#B6E880\",\"symbol\":\"circle\"},\"mode\":\"markers\",\"name\":\"class_1, class_8, class_10\",\"orientation\":\"v\",\"showlegend\":true,\"x\":[13,6],\"xaxis\":\"x\",\"y\":[0.8469230769230769,0.6708333333333333],\"yaxis\":\"y\",\"type\":\"scatter\"},{\"customdata\":[[53],[78],[163],[228],[271],[294]],\"hovertemplate\":\"Majority Classes=class_1, class_3<br>Number of Classes=%{x}<br>Complexity Measure=%{y}<br>dataset_id=%{customdata[0]}<extra></extra>\",\"legendgroup\":\"class_1, class_3\",\"marker\":{\"color\":\"#FF97FF\",\"symbol\":\"circle\"},\"mode\":\"markers\",\"name\":\"class_1, class_3\",\"orientation\":\"v\",\"showlegend\":true,\"x\":[9,13,13,13,9,9],\"xaxis\":\"x\",\"y\":[0.8377777777777777,0.85,0.8319230769230769,0.8403846153846154,0.7716666666666666,0.8261111111111111],\"yaxis\":\"y\",\"type\":\"scatter\"},{\"customdata\":[[57],[284],[298]],\"hovertemplate\":\"Majority Classes=class_1, class_12<br>Number of Classes=%{x}<br>Complexity Measure=%{y}<br>dataset_id=%{customdata[0]}<extra></extra>\",\"legendgroup\":\"class_1, class_12\",\"marker\":{\"color\":\"#FECB52\",\"symbol\":\"circle\"},\"mode\":\"markers\",\"name\":\"class_1, class_12\",\"orientation\":\"v\",\"showlegend\":true,\"x\":[10,4,13],\"xaxis\":\"x\",\"y\":[0.8085,0.585,0.8407692307692308],\"yaxis\":\"y\",\"type\":\"scatter\"},{\"customdata\":[[58]],\"hovertemplate\":\"Majority Classes=class_2, class_7, class_8<br>Number of Classes=%{x}<br>Complexity Measure=%{y}<br>dataset_id=%{customdata[0]}<extra></extra>\",\"legendgroup\":\"class_2, class_7, class_8\",\"marker\":{\"color\":\"#636efa\",\"symbol\":\"circle\"},\"mode\":\"markers\",\"name\":\"class_2, class_7, class_8\",\"orientation\":\"v\",\"showlegend\":true,\"x\":[10],\"xaxis\":\"x\",\"y\":[0.8015],\"yaxis\":\"y\",\"type\":\"scatter\"},{\"customdata\":[[62]],\"hovertemplate\":\"Majority Classes=class_3, class_7, class_12<br>Number of Classes=%{x}<br>Complexity Measure=%{y}<br>dataset_id=%{customdata[0]}<extra></extra>\",\"legendgroup\":\"class_3, class_7, class_12\",\"marker\":{\"color\":\"#EF553B\",\"symbol\":\"circle\"},\"mode\":\"markers\",\"name\":\"class_3, class_7, class_12\",\"orientation\":\"v\",\"showlegend\":true,\"x\":[12],\"xaxis\":\"x\",\"y\":[0.8258333333333333],\"yaxis\":\"y\",\"type\":\"scatter\"},{\"customdata\":[[64]],\"hovertemplate\":\"Majority Classes=class_0, class_7, class_12<br>Number of Classes=%{x}<br>Complexity Measure=%{y}<br>dataset_id=%{customdata[0]}<extra></extra>\",\"legendgroup\":\"class_0, class_7, class_12\",\"marker\":{\"color\":\"#00cc96\",\"symbol\":\"circle\"},\"mode\":\"markers\",\"name\":\"class_0, class_7, class_12\",\"orientation\":\"v\",\"showlegend\":true,\"x\":[13],\"xaxis\":\"x\",\"y\":[0.8396153846153847],\"yaxis\":\"y\",\"type\":\"scatter\"},{\"customdata\":[[65]],\"hovertemplate\":\"Majority Classes=class_2, class_3, class_5, class_7<br>Number of Classes=%{x}<br>Complexity Measure=%{y}<br>dataset_id=%{customdata[0]}<extra></extra>\",\"legendgroup\":\"class_2, class_3, class_5, class_7\",\"marker\":{\"color\":\"#ab63fa\",\"symbol\":\"circle\"},\"mode\":\"markers\",\"name\":\"class_2, class_3, class_5, class_7\",\"orientation\":\"v\",\"showlegend\":true,\"x\":[11],\"xaxis\":\"x\",\"y\":[0.8227272727272728],\"yaxis\":\"y\",\"type\":\"scatter\"},{\"customdata\":[[68]],\"hovertemplate\":\"Majority Classes=class_5, class_8<br>Number of Classes=%{x}<br>Complexity Measure=%{y}<br>dataset_id=%{customdata[0]}<extra></extra>\",\"legendgroup\":\"class_5, class_8\",\"marker\":{\"color\":\"#FFA15A\",\"symbol\":\"circle\"},\"mode\":\"markers\",\"name\":\"class_5, class_8\",\"orientation\":\"v\",\"showlegend\":true,\"x\":[6],\"xaxis\":\"x\",\"y\":[0.6791666666666667],\"yaxis\":\"y\",\"type\":\"scatter\"},{\"customdata\":[[69],[188]],\"hovertemplate\":\"Majority Classes=class_1, class_3, class_5<br>Number of Classes=%{x}<br>Complexity Measure=%{y}<br>dataset_id=%{customdata[0]}<extra></extra>\",\"legendgroup\":\"class_1, class_3, class_5\",\"marker\":{\"color\":\"#19d3f3\",\"symbol\":\"circle\"},\"mode\":\"markers\",\"name\":\"class_1, class_3, class_5\",\"orientation\":\"v\",\"showlegend\":true,\"x\":[12,13],\"xaxis\":\"x\",\"y\":[0.8233333333333334,0.8530769230769231],\"yaxis\":\"y\",\"type\":\"scatter\"},{\"customdata\":[[70]],\"hovertemplate\":\"Majority Classes=class_2, class_8, class_12<br>Number of Classes=%{x}<br>Complexity Measure=%{y}<br>dataset_id=%{customdata[0]}<extra></extra>\",\"legendgroup\":\"class_2, class_8, class_12\",\"marker\":{\"color\":\"#FF6692\",\"symbol\":\"circle\"},\"mode\":\"markers\",\"name\":\"class_2, class_8, class_12\",\"orientation\":\"v\",\"showlegend\":true,\"x\":[11],\"xaxis\":\"x\",\"y\":[0.8109090909090909],\"yaxis\":\"y\",\"type\":\"scatter\"},{\"customdata\":[[71]],\"hovertemplate\":\"Majority Classes=class_7, class_8<br>Number of Classes=%{x}<br>Complexity Measure=%{y}<br>dataset_id=%{customdata[0]}<extra></extra>\",\"legendgroup\":\"class_7, class_8\",\"marker\":{\"color\":\"#B6E880\",\"symbol\":\"circle\"},\"mode\":\"markers\",\"name\":\"class_7, class_8\",\"orientation\":\"v\",\"showlegend\":true,\"x\":[6],\"xaxis\":\"x\",\"y\":[0.67],\"yaxis\":\"y\",\"type\":\"scatter\"},{\"customdata\":[[74]],\"hovertemplate\":\"Majority Classes=class_0, class_8, class_11, class_12<br>Number of Classes=%{x}<br>Complexity Measure=%{y}<br>dataset_id=%{customdata[0]}<extra></extra>\",\"legendgroup\":\"class_0, class_8, class_11, class_12\",\"marker\":{\"color\":\"#FF97FF\",\"symbol\":\"circle\"},\"mode\":\"markers\",\"name\":\"class_0, class_8, class_11, class_12\",\"orientation\":\"v\",\"showlegend\":true,\"x\":[12],\"xaxis\":\"x\",\"y\":[0.8304166666666667],\"yaxis\":\"y\",\"type\":\"scatter\"},{\"customdata\":[[75],[216]],\"hovertemplate\":\"Majority Classes=class_1, class_8<br>Number of Classes=%{x}<br>Complexity Measure=%{y}<br>dataset_id=%{customdata[0]}<extra></extra>\",\"legendgroup\":\"class_1, class_8\",\"marker\":{\"color\":\"#FECB52\",\"symbol\":\"circle\"},\"mode\":\"markers\",\"name\":\"class_1, class_8\",\"orientation\":\"v\",\"showlegend\":true,\"x\":[9,5],\"xaxis\":\"x\",\"y\":[0.7638888888888888,0.611],\"yaxis\":\"y\",\"type\":\"scatter\"},{\"customdata\":[[76]],\"hovertemplate\":\"Majority Classes=class_3, class_5, class_12<br>Number of Classes=%{x}<br>Complexity Measure=%{y}<br>dataset_id=%{customdata[0]}<extra></extra>\",\"legendgroup\":\"class_3, class_5, class_12\",\"marker\":{\"color\":\"#636efa\",\"symbol\":\"circle\"},\"mode\":\"markers\",\"name\":\"class_3, class_5, class_12\",\"orientation\":\"v\",\"showlegend\":true,\"x\":[9],\"xaxis\":\"x\",\"y\":[0.7883333333333333],\"yaxis\":\"y\",\"type\":\"scatter\"},{\"customdata\":[[77]],\"hovertemplate\":\"Majority Classes=class_1, class_5, class_8<br>Number of Classes=%{x}<br>Complexity Measure=%{y}<br>dataset_id=%{customdata[0]}<extra></extra>\",\"legendgroup\":\"class_1, class_5, class_8\",\"marker\":{\"color\":\"#EF553B\",\"symbol\":\"circle\"},\"mode\":\"markers\",\"name\":\"class_1, class_5, class_8\",\"orientation\":\"v\",\"showlegend\":true,\"x\":[13],\"xaxis\":\"x\",\"y\":[0.8515384615384616],\"yaxis\":\"y\",\"type\":\"scatter\"},{\"customdata\":[[79],[145]],\"hovertemplate\":\"Majority Classes=class_0, class_3, class_5<br>Number of Classes=%{x}<br>Complexity Measure=%{y}<br>dataset_id=%{customdata[0]}<extra></extra>\",\"legendgroup\":\"class_0, class_3, class_5\",\"marker\":{\"color\":\"#00cc96\",\"symbol\":\"circle\"},\"mode\":\"markers\",\"name\":\"class_0, class_3, class_5\",\"orientation\":\"v\",\"showlegend\":true,\"x\":[8,10],\"xaxis\":\"x\",\"y\":[0.765625,0.7985],\"yaxis\":\"y\",\"type\":\"scatter\"},{\"customdata\":[[82],[276]],\"hovertemplate\":\"Majority Classes=class_3, class_5<br>Number of Classes=%{x}<br>Complexity Measure=%{y}<br>dataset_id=%{customdata[0]}<extra></extra>\",\"legendgroup\":\"class_3, class_5\",\"marker\":{\"color\":\"#ab63fa\",\"symbol\":\"circle\"},\"mode\":\"markers\",\"name\":\"class_3, class_5\",\"orientation\":\"v\",\"showlegend\":true,\"x\":[9,7],\"xaxis\":\"x\",\"y\":[0.8022222222222222,0.7314285714285714],\"yaxis\":\"y\",\"type\":\"scatter\"},{\"customdata\":[[83],[270]],\"hovertemplate\":\"Majority Classes=class_2, class_3<br>Number of Classes=%{x}<br>Complexity Measure=%{y}<br>dataset_id=%{customdata[0]}<extra></extra>\",\"legendgroup\":\"class_2, class_3\",\"marker\":{\"color\":\"#FFA15A\",\"symbol\":\"circle\"},\"mode\":\"markers\",\"name\":\"class_2, class_3\",\"orientation\":\"v\",\"showlegend\":true,\"x\":[4,6],\"xaxis\":\"x\",\"y\":[0.64875,0.7808333333333334],\"yaxis\":\"y\",\"type\":\"scatter\"},{\"customdata\":[[84],[140],[150]],\"hovertemplate\":\"Majority Classes=class_0, class_2<br>Number of Classes=%{x}<br>Complexity Measure=%{y}<br>dataset_id=%{customdata[0]}<extra></extra>\",\"legendgroup\":\"class_0, class_2\",\"marker\":{\"color\":\"#19d3f3\",\"symbol\":\"circle\"},\"mode\":\"markers\",\"name\":\"class_0, class_2\",\"orientation\":\"v\",\"showlegend\":true,\"x\":[13,6,5],\"xaxis\":\"x\",\"y\":[0.8434615384615385,0.6666666666666666,0.712],\"yaxis\":\"y\",\"type\":\"scatter\"},{\"customdata\":[[85]],\"hovertemplate\":\"Majority Classes=class_2, class_10, class_11<br>Number of Classes=%{x}<br>Complexity Measure=%{y}<br>dataset_id=%{customdata[0]}<extra></extra>\",\"legendgroup\":\"class_2, class_10, class_11\",\"marker\":{\"color\":\"#FF6692\",\"symbol\":\"circle\"},\"mode\":\"markers\",\"name\":\"class_2, class_10, class_11\",\"orientation\":\"v\",\"showlegend\":true,\"x\":[9],\"xaxis\":\"x\",\"y\":[0.8338888888888889],\"yaxis\":\"y\",\"type\":\"scatter\"},{\"customdata\":[[87]],\"hovertemplate\":\"Majority Classes=class_3, class_5, class_10<br>Number of Classes=%{x}<br>Complexity Measure=%{y}<br>dataset_id=%{customdata[0]}<extra></extra>\",\"legendgroup\":\"class_3, class_5, class_10\",\"marker\":{\"color\":\"#B6E880\",\"symbol\":\"circle\"},\"mode\":\"markers\",\"name\":\"class_3, class_5, class_10\",\"orientation\":\"v\",\"showlegend\":true,\"x\":[11],\"xaxis\":\"x\",\"y\":[0.8577272727272728],\"yaxis\":\"y\",\"type\":\"scatter\"},{\"customdata\":[[88],[187]],\"hovertemplate\":\"Majority Classes=class_2, class_8<br>Number of Classes=%{x}<br>Complexity Measure=%{y}<br>dataset_id=%{customdata[0]}<extra></extra>\",\"legendgroup\":\"class_2, class_8\",\"marker\":{\"color\":\"#FF97FF\",\"symbol\":\"circle\"},\"mode\":\"markers\",\"name\":\"class_2, class_8\",\"orientation\":\"v\",\"showlegend\":true,\"x\":[10,6],\"xaxis\":\"x\",\"y\":[0.7985,0.7658333333333334],\"yaxis\":\"y\",\"type\":\"scatter\"},{\"customdata\":[[90]],\"hovertemplate\":\"Majority Classes=class_5, class_7, class_10, class_12<br>Number of Classes=%{x}<br>Complexity Measure=%{y}<br>dataset_id=%{customdata[0]}<extra></extra>\",\"legendgroup\":\"class_5, class_7, class_10, class_12\",\"marker\":{\"color\":\"#FECB52\",\"symbol\":\"circle\"},\"mode\":\"markers\",\"name\":\"class_5, class_7, class_10, class_12\",\"orientation\":\"v\",\"showlegend\":true,\"x\":[12],\"xaxis\":\"x\",\"y\":[0.83375],\"yaxis\":\"y\",\"type\":\"scatter\"},{\"customdata\":[[92]],\"hovertemplate\":\"Majority Classes=class_2, class_5, class_12<br>Number of Classes=%{x}<br>Complexity Measure=%{y}<br>dataset_id=%{customdata[0]}<extra></extra>\",\"legendgroup\":\"class_2, class_5, class_12\",\"marker\":{\"color\":\"#636efa\",\"symbol\":\"circle\"},\"mode\":\"markers\",\"name\":\"class_2, class_5, class_12\",\"orientation\":\"v\",\"showlegend\":true,\"x\":[10],\"xaxis\":\"x\",\"y\":[0.7995],\"yaxis\":\"y\",\"type\":\"scatter\"},{\"customdata\":[[93],[291]],\"hovertemplate\":\"Majority Classes=class_8, class_10<br>Number of Classes=%{x}<br>Complexity Measure=%{y}<br>dataset_id=%{customdata[0]}<extra></extra>\",\"legendgroup\":\"class_8, class_10\",\"marker\":{\"color\":\"#EF553B\",\"symbol\":\"circle\"},\"mode\":\"markers\",\"name\":\"class_8, class_10\",\"orientation\":\"v\",\"showlegend\":true,\"x\":[5,4],\"xaxis\":\"x\",\"y\":[0.701,0.67875],\"yaxis\":\"y\",\"type\":\"scatter\"},{\"customdata\":[[98],[175],[184],[206],[248],[253],[292]],\"hovertemplate\":\"Majority Classes=class_11, class_12<br>Number of Classes=%{x}<br>Complexity Measure=%{y}<br>dataset_id=%{customdata[0]}<extra></extra>\",\"legendgroup\":\"class_11, class_12\",\"marker\":{\"color\":\"#00cc96\",\"symbol\":\"circle\"},\"mode\":\"markers\",\"name\":\"class_11, class_12\",\"orientation\":\"v\",\"showlegend\":true,\"x\":[4,6,6,6,11,13,10],\"xaxis\":\"x\",\"y\":[0.57625,0.68,0.6675,0.6708333333333333,0.8022727272727272,0.8476923076923077,0.8065],\"yaxis\":\"y\",\"type\":\"scatter\"},{\"customdata\":[[99]],\"hovertemplate\":\"Majority Classes=class_1, class_3, class_7, class_8<br>Number of Classes=%{x}<br>Complexity Measure=%{y}<br>dataset_id=%{customdata[0]}<extra></extra>\",\"legendgroup\":\"class_1, class_3, class_7, class_8\",\"marker\":{\"color\":\"#ab63fa\",\"symbol\":\"circle\"},\"mode\":\"markers\",\"name\":\"class_1, class_3, class_7, class_8\",\"orientation\":\"v\",\"showlegend\":true,\"x\":[10],\"xaxis\":\"x\",\"y\":[0.8005],\"yaxis\":\"y\",\"type\":\"scatter\"},{\"customdata\":[[100]],\"hovertemplate\":\"Majority Classes=class_2, class_5, class_7, class_8<br>Number of Classes=%{x}<br>Complexity Measure=%{y}<br>dataset_id=%{customdata[0]}<extra></extra>\",\"legendgroup\":\"class_2, class_5, class_7, class_8\",\"marker\":{\"color\":\"#FFA15A\",\"symbol\":\"circle\"},\"mode\":\"markers\",\"name\":\"class_2, class_5, class_7, class_8\",\"orientation\":\"v\",\"showlegend\":true,\"x\":[13],\"xaxis\":\"x\",\"y\":[0.8434615384615385],\"yaxis\":\"y\",\"type\":\"scatter\"},{\"customdata\":[[101]],\"hovertemplate\":\"Majority Classes=class_0, class_5, class_7, class_10<br>Number of Classes=%{x}<br>Complexity Measure=%{y}<br>dataset_id=%{customdata[0]}<extra></extra>\",\"legendgroup\":\"class_0, class_5, class_7, class_10\",\"marker\":{\"color\":\"#19d3f3\",\"symbol\":\"circle\"},\"mode\":\"markers\",\"name\":\"class_0, class_5, class_7, class_10\",\"orientation\":\"v\",\"showlegend\":true,\"x\":[13],\"xaxis\":\"x\",\"y\":[0.8453846153846154],\"yaxis\":\"y\",\"type\":\"scatter\"},{\"customdata\":[[102]],\"hovertemplate\":\"Majority Classes=class_1, class_2, class_7, class_11<br>Number of Classes=%{x}<br>Complexity Measure=%{y}<br>dataset_id=%{customdata[0]}<extra></extra>\",\"legendgroup\":\"class_1, class_2, class_7, class_11\",\"marker\":{\"color\":\"#FF6692\",\"symbol\":\"circle\"},\"mode\":\"markers\",\"name\":\"class_1, class_2, class_7, class_11\",\"orientation\":\"v\",\"showlegend\":true,\"x\":[11],\"xaxis\":\"x\",\"y\":[0.81],\"yaxis\":\"y\",\"type\":\"scatter\"},{\"customdata\":[[106]],\"hovertemplate\":\"Majority Classes=class_2, class_10<br>Number of Classes=%{x}<br>Complexity Measure=%{y}<br>dataset_id=%{customdata[0]}<extra></extra>\",\"legendgroup\":\"class_2, class_10\",\"marker\":{\"color\":\"#B6E880\",\"symbol\":\"circle\"},\"mode\":\"markers\",\"name\":\"class_2, class_10\",\"orientation\":\"v\",\"showlegend\":true,\"x\":[10],\"xaxis\":\"x\",\"y\":[0.816],\"yaxis\":\"y\",\"type\":\"scatter\"},{\"customdata\":[[107],[289]],\"hovertemplate\":\"Majority Classes=class_0, class_3, class_11<br>Number of Classes=%{x}<br>Complexity Measure=%{y}<br>dataset_id=%{customdata[0]}<extra></extra>\",\"legendgroup\":\"class_0, class_3, class_11\",\"marker\":{\"color\":\"#FF97FF\",\"symbol\":\"circle\"},\"mode\":\"markers\",\"name\":\"class_0, class_3, class_11\",\"orientation\":\"v\",\"showlegend\":true,\"x\":[11,13],\"xaxis\":\"x\",\"y\":[0.8709090909090909,0.8496153846153847],\"yaxis\":\"y\",\"type\":\"scatter\"},{\"customdata\":[[108],[130]],\"hovertemplate\":\"Majority Classes=class_3, class_11<br>Number of Classes=%{x}<br>Complexity Measure=%{y}<br>dataset_id=%{customdata[0]}<extra></extra>\",\"legendgroup\":\"class_3, class_11\",\"marker\":{\"color\":\"#FECB52\",\"symbol\":\"circle\"},\"mode\":\"markers\",\"name\":\"class_3, class_11\",\"orientation\":\"v\",\"showlegend\":true,\"x\":[13,9],\"xaxis\":\"x\",\"y\":[0.8415384615384616,0.8344444444444444],\"yaxis\":\"y\",\"type\":\"scatter\"},{\"customdata\":[[109]],\"hovertemplate\":\"Majority Classes=class_0, class_5, class_7, class_11<br>Number of Classes=%{x}<br>Complexity Measure=%{y}<br>dataset_id=%{customdata[0]}<extra></extra>\",\"legendgroup\":\"class_0, class_5, class_7, class_11\",\"marker\":{\"color\":\"#636efa\",\"symbol\":\"circle\"},\"mode\":\"markers\",\"name\":\"class_0, class_5, class_7, class_11\",\"orientation\":\"v\",\"showlegend\":true,\"x\":[13],\"xaxis\":\"x\",\"y\":[0.8303846153846154],\"yaxis\":\"y\",\"type\":\"scatter\"},{\"customdata\":[[110]],\"hovertemplate\":\"Majority Classes=class_0, class_8, class_12<br>Number of Classes=%{x}<br>Complexity Measure=%{y}<br>dataset_id=%{customdata[0]}<extra></extra>\",\"legendgroup\":\"class_0, class_8, class_12\",\"marker\":{\"color\":\"#EF553B\",\"symbol\":\"circle\"},\"mode\":\"markers\",\"name\":\"class_0, class_8, class_12\",\"orientation\":\"v\",\"showlegend\":true,\"x\":[9],\"xaxis\":\"x\",\"y\":[0.7872222222222223],\"yaxis\":\"y\",\"type\":\"scatter\"},{\"customdata\":[[112]],\"hovertemplate\":\"Majority Classes=class_5, class_11<br>Number of Classes=%{x}<br>Complexity Measure=%{y}<br>dataset_id=%{customdata[0]}<extra></extra>\",\"legendgroup\":\"class_5, class_11\",\"marker\":{\"color\":\"#00cc96\",\"symbol\":\"circle\"},\"mode\":\"markers\",\"name\":\"class_5, class_11\",\"orientation\":\"v\",\"showlegend\":true,\"x\":[4],\"xaxis\":\"x\",\"y\":[0.67125],\"yaxis\":\"y\",\"type\":\"scatter\"},{\"customdata\":[[114]],\"hovertemplate\":\"Majority Classes=class_7, class_8, class_12<br>Number of Classes=%{x}<br>Complexity Measure=%{y}<br>dataset_id=%{customdata[0]}<extra></extra>\",\"legendgroup\":\"class_7, class_8, class_12\",\"marker\":{\"color\":\"#ab63fa\",\"symbol\":\"circle\"},\"mode\":\"markers\",\"name\":\"class_7, class_8, class_12\",\"orientation\":\"v\",\"showlegend\":true,\"x\":[9],\"xaxis\":\"x\",\"y\":[0.7722222222222223],\"yaxis\":\"y\",\"type\":\"scatter\"},{\"customdata\":[[115],[224]],\"hovertemplate\":\"Majority Classes=class_2, class_10, class_12<br>Number of Classes=%{x}<br>Complexity Measure=%{y}<br>dataset_id=%{customdata[0]}<extra></extra>\",\"legendgroup\":\"class_2, class_10, class_12\",\"marker\":{\"color\":\"#FFA15A\",\"symbol\":\"circle\"},\"mode\":\"markers\",\"name\":\"class_2, class_10, class_12\",\"orientation\":\"v\",\"showlegend\":true,\"x\":[12,8],\"xaxis\":\"x\",\"y\":[0.84,0.766875],\"yaxis\":\"y\",\"type\":\"scatter\"},{\"customdata\":[[116],[156]],\"hovertemplate\":\"Majority Classes=class_1, class_3, class_5, class_8, class_10<br>Number of Classes=%{x}<br>Complexity Measure=%{y}<br>dataset_id=%{customdata[0]}<extra></extra>\",\"legendgroup\":\"class_1, class_3, class_5, class_8, class_10\",\"marker\":{\"color\":\"#19d3f3\",\"symbol\":\"circle\"},\"mode\":\"markers\",\"name\":\"class_1, class_3, class_5, class_8, class_10\",\"orientation\":\"v\",\"showlegend\":true,\"x\":[13,13],\"xaxis\":\"x\",\"y\":[0.8542307692307692,0.8515384615384616],\"yaxis\":\"y\",\"type\":\"scatter\"},{\"customdata\":[[118],[293]],\"hovertemplate\":\"Majority Classes=class_0, class_3<br>Number of Classes=%{x}<br>Complexity Measure=%{y}<br>dataset_id=%{customdata[0]}<extra></extra>\",\"legendgroup\":\"class_0, class_3\",\"marker\":{\"color\":\"#FF6692\",\"symbol\":\"circle\"},\"mode\":\"markers\",\"name\":\"class_0, class_3\",\"orientation\":\"v\",\"showlegend\":true,\"x\":[5,8],\"xaxis\":\"x\",\"y\":[0.737,0.81625],\"yaxis\":\"y\",\"type\":\"scatter\"},{\"customdata\":[[120]],\"hovertemplate\":\"Majority Classes=class_0, class_10, class_12<br>Number of Classes=%{x}<br>Complexity Measure=%{y}<br>dataset_id=%{customdata[0]}<extra></extra>\",\"legendgroup\":\"class_0, class_10, class_12\",\"marker\":{\"color\":\"#B6E880\",\"symbol\":\"circle\"},\"mode\":\"markers\",\"name\":\"class_0, class_10, class_12\",\"orientation\":\"v\",\"showlegend\":true,\"x\":[12],\"xaxis\":\"x\",\"y\":[0.83625],\"yaxis\":\"y\",\"type\":\"scatter\"},{\"customdata\":[[123]],\"hovertemplate\":\"Majority Classes=class_2, class_8, class_10, class_11<br>Number of Classes=%{x}<br>Complexity Measure=%{y}<br>dataset_id=%{customdata[0]}<extra></extra>\",\"legendgroup\":\"class_2, class_8, class_10, class_11\",\"marker\":{\"color\":\"#FF97FF\",\"symbol\":\"circle\"},\"mode\":\"markers\",\"name\":\"class_2, class_8, class_10, class_11\",\"orientation\":\"v\",\"showlegend\":true,\"x\":[13],\"xaxis\":\"x\",\"y\":[0.8530769230769231],\"yaxis\":\"y\",\"type\":\"scatter\"},{\"customdata\":[[124],[247]],\"hovertemplate\":\"Majority Classes=class_0, class_11<br>Number of Classes=%{x}<br>Complexity Measure=%{y}<br>dataset_id=%{customdata[0]}<extra></extra>\",\"legendgroup\":\"class_0, class_11\",\"marker\":{\"color\":\"#FECB52\",\"symbol\":\"circle\"},\"mode\":\"markers\",\"name\":\"class_0, class_11\",\"orientation\":\"v\",\"showlegend\":true,\"x\":[7,7],\"xaxis\":\"x\",\"y\":[0.7264285714285714,0.7064285714285714],\"yaxis\":\"y\",\"type\":\"scatter\"},{\"customdata\":[[126]],\"hovertemplate\":\"Majority Classes=class_0, class_8<br>Number of Classes=%{x}<br>Complexity Measure=%{y}<br>dataset_id=%{customdata[0]}<extra></extra>\",\"legendgroup\":\"class_0, class_8\",\"marker\":{\"color\":\"#636efa\",\"symbol\":\"circle\"},\"mode\":\"markers\",\"name\":\"class_0, class_8\",\"orientation\":\"v\",\"showlegend\":true,\"x\":[4],\"xaxis\":\"x\",\"y\":[0.72],\"yaxis\":\"y\",\"type\":\"scatter\"},{\"customdata\":[[127],[164]],\"hovertemplate\":\"Majority Classes=class_2, class_7<br>Number of Classes=%{x}<br>Complexity Measure=%{y}<br>dataset_id=%{customdata[0]}<extra></extra>\",\"legendgroup\":\"class_2, class_7\",\"marker\":{\"color\":\"#EF553B\",\"symbol\":\"circle\"},\"mode\":\"markers\",\"name\":\"class_2, class_7\",\"orientation\":\"v\",\"showlegend\":true,\"x\":[9,5],\"xaxis\":\"x\",\"y\":[0.7788888888888889,0.697],\"yaxis\":\"y\",\"type\":\"scatter\"},{\"customdata\":[[128]],\"hovertemplate\":\"Majority Classes=class_3, class_5, class_7, class_10<br>Number of Classes=%{x}<br>Complexity Measure=%{y}<br>dataset_id=%{customdata[0]}<extra></extra>\",\"legendgroup\":\"class_3, class_5, class_7, class_10\",\"marker\":{\"color\":\"#00cc96\",\"symbol\":\"circle\"},\"mode\":\"markers\",\"name\":\"class_3, class_5, class_7, class_10\",\"orientation\":\"v\",\"showlegend\":true,\"x\":[11],\"xaxis\":\"x\",\"y\":[0.8236363636363636],\"yaxis\":\"y\",\"type\":\"scatter\"},{\"customdata\":[[129]],\"hovertemplate\":\"Majority Classes=class_0, class_5<br>Number of Classes=%{x}<br>Complexity Measure=%{y}<br>dataset_id=%{customdata[0]}<extra></extra>\",\"legendgroup\":\"class_0, class_5\",\"marker\":{\"color\":\"#ab63fa\",\"symbol\":\"circle\"},\"mode\":\"markers\",\"name\":\"class_0, class_5\",\"orientation\":\"v\",\"showlegend\":true,\"x\":[9],\"xaxis\":\"x\",\"y\":[0.8388888888888889],\"yaxis\":\"y\",\"type\":\"scatter\"},{\"customdata\":[[131],[158]],\"hovertemplate\":\"Majority Classes=class_5, class_8, class_12<br>Number of Classes=%{x}<br>Complexity Measure=%{y}<br>dataset_id=%{customdata[0]}<extra></extra>\",\"legendgroup\":\"class_5, class_8, class_12\",\"marker\":{\"color\":\"#FFA15A\",\"symbol\":\"circle\"},\"mode\":\"markers\",\"name\":\"class_5, class_8, class_12\",\"orientation\":\"v\",\"showlegend\":true,\"x\":[11,7],\"xaxis\":\"x\",\"y\":[0.8209090909090909,0.7471428571428571],\"yaxis\":\"y\",\"type\":\"scatter\"},{\"customdata\":[[134]],\"hovertemplate\":\"Majority Classes=class_0, class_2, class_5, class_11<br>Number of Classes=%{x}<br>Complexity Measure=%{y}<br>dataset_id=%{customdata[0]}<extra></extra>\",\"legendgroup\":\"class_0, class_2, class_5, class_11\",\"marker\":{\"color\":\"#19d3f3\",\"symbol\":\"circle\"},\"mode\":\"markers\",\"name\":\"class_0, class_2, class_5, class_11\",\"orientation\":\"v\",\"showlegend\":true,\"x\":[6],\"xaxis\":\"x\",\"y\":[0.7691666666666667],\"yaxis\":\"y\",\"type\":\"scatter\"},{\"customdata\":[[137]],\"hovertemplate\":\"Majority Classes=class_0, class_1, class_3, class_7, class_8, class_12<br>Number of Classes=%{x}<br>Complexity Measure=%{y}<br>dataset_id=%{customdata[0]}<extra></extra>\",\"legendgroup\":\"class_0, class_1, class_3, class_7, class_8, class_12\",\"marker\":{\"color\":\"#FF6692\",\"symbol\":\"circle\"},\"mode\":\"markers\",\"name\":\"class_0, class_1, class_3, class_7, class_8, class_12\",\"orientation\":\"v\",\"showlegend\":true,\"x\":[13],\"xaxis\":\"x\",\"y\":[0.8407692307692308],\"yaxis\":\"y\",\"type\":\"scatter\"},{\"customdata\":[[143],[279]],\"hovertemplate\":\"Majority Classes=class_3, class_8<br>Number of Classes=%{x}<br>Complexity Measure=%{y}<br>dataset_id=%{customdata[0]}<extra></extra>\",\"legendgroup\":\"class_3, class_8\",\"marker\":{\"color\":\"#B6E880\",\"symbol\":\"circle\"},\"mode\":\"markers\",\"name\":\"class_3, class_8\",\"orientation\":\"v\",\"showlegend\":true,\"x\":[9,5],\"xaxis\":\"x\",\"y\":[0.8427777777777777,0.73],\"yaxis\":\"y\",\"type\":\"scatter\"},{\"customdata\":[[146],[249]],\"hovertemplate\":\"Majority Classes=class_3, class_10<br>Number of Classes=%{x}<br>Complexity Measure=%{y}<br>dataset_id=%{customdata[0]}<extra></extra>\",\"legendgroup\":\"class_3, class_10\",\"marker\":{\"color\":\"#FF97FF\",\"symbol\":\"circle\"},\"mode\":\"markers\",\"name\":\"class_3, class_10\",\"orientation\":\"v\",\"showlegend\":true,\"x\":[11,9],\"xaxis\":\"x\",\"y\":[0.8227272727272728,0.7933333333333333],\"yaxis\":\"y\",\"type\":\"scatter\"},{\"customdata\":[[151]],\"hovertemplate\":\"Majority Classes=class_2, class_8, class_11<br>Number of Classes=%{x}<br>Complexity Measure=%{y}<br>dataset_id=%{customdata[0]}<extra></extra>\",\"legendgroup\":\"class_2, class_8, class_11\",\"marker\":{\"color\":\"#FECB52\",\"symbol\":\"circle\"},\"mode\":\"markers\",\"name\":\"class_2, class_8, class_11\",\"orientation\":\"v\",\"showlegend\":true,\"x\":[13],\"xaxis\":\"x\",\"y\":[0.8523076923076923],\"yaxis\":\"y\",\"type\":\"scatter\"},{\"customdata\":[[155]],\"hovertemplate\":\"Majority Classes=class_5, class_8, class_10<br>Number of Classes=%{x}<br>Complexity Measure=%{y}<br>dataset_id=%{customdata[0]}<extra></extra>\",\"legendgroup\":\"class_5, class_8, class_10\",\"marker\":{\"color\":\"#636efa\",\"symbol\":\"circle\"},\"mode\":\"markers\",\"name\":\"class_5, class_8, class_10\",\"orientation\":\"v\",\"showlegend\":true,\"x\":[8],\"xaxis\":\"x\",\"y\":[0.814375],\"yaxis\":\"y\",\"type\":\"scatter\"},{\"customdata\":[[157]],\"hovertemplate\":\"Majority Classes=class_0, class_2, class_3, class_5, class_10<br>Number of Classes=%{x}<br>Complexity Measure=%{y}<br>dataset_id=%{customdata[0]}<extra></extra>\",\"legendgroup\":\"class_0, class_2, class_3, class_5, class_10\",\"marker\":{\"color\":\"#EF553B\",\"symbol\":\"circle\"},\"mode\":\"markers\",\"name\":\"class_0, class_2, class_3, class_5, class_10\",\"orientation\":\"v\",\"showlegend\":true,\"x\":[13],\"xaxis\":\"x\",\"y\":[0.8492307692307692],\"yaxis\":\"y\",\"type\":\"scatter\"},{\"customdata\":[[159]],\"hovertemplate\":\"Majority Classes=class_0, class_1, class_11<br>Number of Classes=%{x}<br>Complexity Measure=%{y}<br>dataset_id=%{customdata[0]}<extra></extra>\",\"legendgroup\":\"class_0, class_1, class_11\",\"marker\":{\"color\":\"#00cc96\",\"symbol\":\"circle\"},\"mode\":\"markers\",\"name\":\"class_0, class_1, class_11\",\"orientation\":\"v\",\"showlegend\":true,\"x\":[13],\"xaxis\":\"x\",\"y\":[0.8473076923076923],\"yaxis\":\"y\",\"type\":\"scatter\"},{\"customdata\":[[162]],\"hovertemplate\":\"Majority Classes=class_0, class_2, class_3<br>Number of Classes=%{x}<br>Complexity Measure=%{y}<br>dataset_id=%{customdata[0]}<extra></extra>\",\"legendgroup\":\"class_0, class_2, class_3\",\"marker\":{\"color\":\"#ab63fa\",\"symbol\":\"circle\"},\"mode\":\"markers\",\"name\":\"class_0, class_2, class_3\",\"orientation\":\"v\",\"showlegend\":true,\"x\":[9],\"xaxis\":\"x\",\"y\":[0.7822222222222223],\"yaxis\":\"y\",\"type\":\"scatter\"},{\"customdata\":[[166],[198],[221]],\"hovertemplate\":\"Majority Classes=class_5, class_12<br>Number of Classes=%{x}<br>Complexity Measure=%{y}<br>dataset_id=%{customdata[0]}<extra></extra>\",\"legendgroup\":\"class_5, class_12\",\"marker\":{\"color\":\"#FFA15A\",\"symbol\":\"circle\"},\"mode\":\"markers\",\"name\":\"class_5, class_12\",\"orientation\":\"v\",\"showlegend\":true,\"x\":[11,7,12],\"xaxis\":\"x\",\"y\":[0.8145454545454546,0.7235714285714285,0.8329166666666666],\"yaxis\":\"y\",\"type\":\"scatter\"},{\"customdata\":[[167]],\"hovertemplate\":\"Majority Classes=class_0, class_7, class_8, class_11<br>Number of Classes=%{x}<br>Complexity Measure=%{y}<br>dataset_id=%{customdata[0]}<extra></extra>\",\"legendgroup\":\"class_0, class_7, class_8, class_11\",\"marker\":{\"color\":\"#19d3f3\",\"symbol\":\"circle\"},\"mode\":\"markers\",\"name\":\"class_0, class_7, class_8, class_11\",\"orientation\":\"v\",\"showlegend\":true,\"x\":[10],\"xaxis\":\"x\",\"y\":[0.8455],\"yaxis\":\"y\",\"type\":\"scatter\"},{\"customdata\":[[168]],\"hovertemplate\":\"Majority Classes=class_3, class_8, class_10, class_12<br>Number of Classes=%{x}<br>Complexity Measure=%{y}<br>dataset_id=%{customdata[0]}<extra></extra>\",\"legendgroup\":\"class_3, class_8, class_10, class_12\",\"marker\":{\"color\":\"#FF6692\",\"symbol\":\"circle\"},\"mode\":\"markers\",\"name\":\"class_3, class_8, class_10, class_12\",\"orientation\":\"v\",\"showlegend\":true,\"x\":[11],\"xaxis\":\"x\",\"y\":[0.8118181818181818],\"yaxis\":\"y\",\"type\":\"scatter\"},{\"customdata\":[[169],[268]],\"hovertemplate\":\"Majority Classes=class_3, class_12<br>Number of Classes=%{x}<br>Complexity Measure=%{y}<br>dataset_id=%{customdata[0]}<extra></extra>\",\"legendgroup\":\"class_3, class_12\",\"marker\":{\"color\":\"#B6E880\",\"symbol\":\"circle\"},\"mode\":\"markers\",\"name\":\"class_3, class_12\",\"orientation\":\"v\",\"showlegend\":true,\"x\":[6,13],\"xaxis\":\"x\",\"y\":[0.68,0.8457692307692307],\"yaxis\":\"y\",\"type\":\"scatter\"},{\"customdata\":[[172]],\"hovertemplate\":\"Majority Classes=class_5, class_7, class_11<br>Number of Classes=%{x}<br>Complexity Measure=%{y}<br>dataset_id=%{customdata[0]}<extra></extra>\",\"legendgroup\":\"class_5, class_7, class_11\",\"marker\":{\"color\":\"#FF97FF\",\"symbol\":\"circle\"},\"mode\":\"markers\",\"name\":\"class_5, class_7, class_11\",\"orientation\":\"v\",\"showlegend\":true,\"x\":[10],\"xaxis\":\"x\",\"y\":[0.801],\"yaxis\":\"y\",\"type\":\"scatter\"},{\"customdata\":[[173]],\"hovertemplate\":\"Majority Classes=class_0, class_4, class_11, class_12<br>Number of Classes=%{x}<br>Complexity Measure=%{y}<br>dataset_id=%{customdata[0]}<extra></extra>\",\"legendgroup\":\"class_0, class_4, class_11, class_12\",\"marker\":{\"color\":\"#FECB52\",\"symbol\":\"circle\"},\"mode\":\"markers\",\"name\":\"class_0, class_4, class_11, class_12\",\"orientation\":\"v\",\"showlegend\":true,\"x\":[10],\"xaxis\":\"x\",\"y\":[0.815],\"yaxis\":\"y\",\"type\":\"scatter\"},{\"customdata\":[[178]],\"hovertemplate\":\"Majority Classes=class_0, class_7<br>Number of Classes=%{x}<br>Complexity Measure=%{y}<br>dataset_id=%{customdata[0]}<extra></extra>\",\"legendgroup\":\"class_0, class_7\",\"marker\":{\"color\":\"#636efa\",\"symbol\":\"circle\"},\"mode\":\"markers\",\"name\":\"class_0, class_7\",\"orientation\":\"v\",\"showlegend\":true,\"x\":[6],\"xaxis\":\"x\",\"y\":[0.7683333333333333],\"yaxis\":\"y\",\"type\":\"scatter\"},{\"customdata\":[[181],[287]],\"hovertemplate\":\"Majority Classes=class_2, class_9<br>Number of Classes=%{x}<br>Complexity Measure=%{y}<br>dataset_id=%{customdata[0]}<extra></extra>\",\"legendgroup\":\"class_2, class_9\",\"marker\":{\"color\":\"#EF553B\",\"symbol\":\"circle\"},\"mode\":\"markers\",\"name\":\"class_2, class_9\",\"orientation\":\"v\",\"showlegend\":true,\"x\":[7,4],\"xaxis\":\"x\",\"y\":[0.7857142857142857,0.6625],\"yaxis\":\"y\",\"type\":\"scatter\"},{\"customdata\":[[182]],\"hovertemplate\":\"Majority Classes=class_0, class_2, class_10, class_11<br>Number of Classes=%{x}<br>Complexity Measure=%{y}<br>dataset_id=%{customdata[0]}<extra></extra>\",\"legendgroup\":\"class_0, class_2, class_10, class_11\",\"marker\":{\"color\":\"#00cc96\",\"symbol\":\"circle\"},\"mode\":\"markers\",\"name\":\"class_0, class_2, class_10, class_11\",\"orientation\":\"v\",\"showlegend\":true,\"x\":[13],\"xaxis\":\"x\",\"y\":[0.8419230769230769],\"yaxis\":\"y\",\"type\":\"scatter\"},{\"customdata\":[[189]],\"hovertemplate\":\"Majority Classes=class_1, class_8, class_11<br>Number of Classes=%{x}<br>Complexity Measure=%{y}<br>dataset_id=%{customdata[0]}<extra></extra>\",\"legendgroup\":\"class_1, class_8, class_11\",\"marker\":{\"color\":\"#ab63fa\",\"symbol\":\"circle\"},\"mode\":\"markers\",\"name\":\"class_1, class_8, class_11\",\"orientation\":\"v\",\"showlegend\":true,\"x\":[6],\"xaxis\":\"x\",\"y\":[0.7883333333333333],\"yaxis\":\"y\",\"type\":\"scatter\"},{\"customdata\":[[190]],\"hovertemplate\":\"Majority Classes=class_1, class_2, class_7, class_10<br>Number of Classes=%{x}<br>Complexity Measure=%{y}<br>dataset_id=%{customdata[0]}<extra></extra>\",\"legendgroup\":\"class_1, class_2, class_7, class_10\",\"marker\":{\"color\":\"#FFA15A\",\"symbol\":\"circle\"},\"mode\":\"markers\",\"name\":\"class_1, class_2, class_7, class_10\",\"orientation\":\"v\",\"showlegend\":true,\"x\":[13],\"xaxis\":\"x\",\"y\":[0.8411538461538461],\"yaxis\":\"y\",\"type\":\"scatter\"},{\"customdata\":[[191]],\"hovertemplate\":\"Majority Classes=class_10, class_11, class_12<br>Number of Classes=%{x}<br>Complexity Measure=%{y}<br>dataset_id=%{customdata[0]}<extra></extra>\",\"legendgroup\":\"class_10, class_11, class_12\",\"marker\":{\"color\":\"#19d3f3\",\"symbol\":\"circle\"},\"mode\":\"markers\",\"name\":\"class_10, class_11, class_12\",\"orientation\":\"v\",\"showlegend\":true,\"x\":[11],\"xaxis\":\"x\",\"y\":[0.8140909090909091],\"yaxis\":\"y\",\"type\":\"scatter\"},{\"customdata\":[[193]],\"hovertemplate\":\"Majority Classes=class_1, class_3, class_12<br>Number of Classes=%{x}<br>Complexity Measure=%{y}<br>dataset_id=%{customdata[0]}<extra></extra>\",\"legendgroup\":\"class_1, class_3, class_12\",\"marker\":{\"color\":\"#FF6692\",\"symbol\":\"circle\"},\"mode\":\"markers\",\"name\":\"class_1, class_3, class_12\",\"orientation\":\"v\",\"showlegend\":true,\"x\":[6],\"xaxis\":\"x\",\"y\":[0.6866666666666666],\"yaxis\":\"y\",\"type\":\"scatter\"},{\"customdata\":[[194],[210],[220]],\"hovertemplate\":\"Majority Classes=class_4<br>Number of Classes=%{x}<br>Complexity Measure=%{y}<br>dataset_id=%{customdata[0]}<extra></extra>\",\"legendgroup\":\"class_4\",\"marker\":{\"color\":\"#B6E880\",\"symbol\":\"circle\"},\"mode\":\"markers\",\"name\":\"class_4\",\"orientation\":\"v\",\"showlegend\":true,\"x\":[4,8,4],\"xaxis\":\"x\",\"y\":[0.62375,0.81625,0.65625],\"yaxis\":\"y\",\"type\":\"scatter\"},{\"customdata\":[[203],[288]],\"hovertemplate\":\"Majority Classes=class_1, class_2<br>Number of Classes=%{x}<br>Complexity Measure=%{y}<br>dataset_id=%{customdata[0]}<extra></extra>\",\"legendgroup\":\"class_1, class_2\",\"marker\":{\"color\":\"#FF97FF\",\"symbol\":\"circle\"},\"mode\":\"markers\",\"name\":\"class_1, class_2\",\"orientation\":\"v\",\"showlegend\":true,\"x\":[8,13],\"xaxis\":\"x\",\"y\":[0.763125,0.8619230769230769],\"yaxis\":\"y\",\"type\":\"scatter\"},{\"customdata\":[[208]],\"hovertemplate\":\"Majority Classes=class_1, class_5, class_10<br>Number of Classes=%{x}<br>Complexity Measure=%{y}<br>dataset_id=%{customdata[0]}<extra></extra>\",\"legendgroup\":\"class_1, class_5, class_10\",\"marker\":{\"color\":\"#FECB52\",\"symbol\":\"circle\"},\"mode\":\"markers\",\"name\":\"class_1, class_5, class_10\",\"orientation\":\"v\",\"showlegend\":true,\"x\":[11],\"xaxis\":\"x\",\"y\":[0.8645454545454545],\"yaxis\":\"y\",\"type\":\"scatter\"},{\"customdata\":[[212]],\"hovertemplate\":\"Majority Classes=class_0, class_11, class_12<br>Number of Classes=%{x}<br>Complexity Measure=%{y}<br>dataset_id=%{customdata[0]}<extra></extra>\",\"legendgroup\":\"class_0, class_11, class_12\",\"marker\":{\"color\":\"#636efa\",\"symbol\":\"circle\"},\"mode\":\"markers\",\"name\":\"class_0, class_11, class_12\",\"orientation\":\"v\",\"showlegend\":true,\"x\":[13],\"xaxis\":\"x\",\"y\":[0.8365384615384616],\"yaxis\":\"y\",\"type\":\"scatter\"},{\"customdata\":[[215]],\"hovertemplate\":\"Majority Classes=class_0, class_1, class_3, class_10, class_11<br>Number of Classes=%{x}<br>Complexity Measure=%{y}<br>dataset_id=%{customdata[0]}<extra></extra>\",\"legendgroup\":\"class_0, class_1, class_3, class_10, class_11\",\"marker\":{\"color\":\"#EF553B\",\"symbol\":\"circle\"},\"mode\":\"markers\",\"name\":\"class_0, class_1, class_3, class_10, class_11\",\"orientation\":\"v\",\"showlegend\":true,\"x\":[10],\"xaxis\":\"x\",\"y\":[0.8055],\"yaxis\":\"y\",\"type\":\"scatter\"},{\"customdata\":[[217]],\"hovertemplate\":\"Majority Classes=class_5, class_7, class_8, class_10<br>Number of Classes=%{x}<br>Complexity Measure=%{y}<br>dataset_id=%{customdata[0]}<extra></extra>\",\"legendgroup\":\"class_5, class_7, class_8, class_10\",\"marker\":{\"color\":\"#00cc96\",\"symbol\":\"circle\"},\"mode\":\"markers\",\"name\":\"class_5, class_7, class_8, class_10\",\"orientation\":\"v\",\"showlegend\":true,\"x\":[13],\"xaxis\":\"x\",\"y\":[0.8457692307692307],\"yaxis\":\"y\",\"type\":\"scatter\"},{\"customdata\":[[222]],\"hovertemplate\":\"Majority Classes=class_0, class_1<br>Number of Classes=%{x}<br>Complexity Measure=%{y}<br>dataset_id=%{customdata[0]}<extra></extra>\",\"legendgroup\":\"class_0, class_1\",\"marker\":{\"color\":\"#ab63fa\",\"symbol\":\"circle\"},\"mode\":\"markers\",\"name\":\"class_0, class_1\",\"orientation\":\"v\",\"showlegend\":true,\"x\":[10],\"xaxis\":\"x\",\"y\":[0.809],\"yaxis\":\"y\",\"type\":\"scatter\"},{\"customdata\":[[223],[275]],\"hovertemplate\":\"Majority Classes=class_8, class_12<br>Number of Classes=%{x}<br>Complexity Measure=%{y}<br>dataset_id=%{customdata[0]}<extra></extra>\",\"legendgroup\":\"class_8, class_12\",\"marker\":{\"color\":\"#FFA15A\",\"symbol\":\"circle\"},\"mode\":\"markers\",\"name\":\"class_8, class_12\",\"orientation\":\"v\",\"showlegend\":true,\"x\":[10,8],\"xaxis\":\"x\",\"y\":[0.805,0.790625],\"yaxis\":\"y\",\"type\":\"scatter\"},{\"customdata\":[[230]],\"hovertemplate\":\"Majority Classes=class_3, class_8, class_11<br>Number of Classes=%{x}<br>Complexity Measure=%{y}<br>dataset_id=%{customdata[0]}<extra></extra>\",\"legendgroup\":\"class_3, class_8, class_11\",\"marker\":{\"color\":\"#19d3f3\",\"symbol\":\"circle\"},\"mode\":\"markers\",\"name\":\"class_3, class_8, class_11\",\"orientation\":\"v\",\"showlegend\":true,\"x\":[11],\"xaxis\":\"x\",\"y\":[0.8095454545454546],\"yaxis\":\"y\",\"type\":\"scatter\"},{\"customdata\":[[232]],\"hovertemplate\":\"Majority Classes=class_1, class_5, class_8, class_12<br>Number of Classes=%{x}<br>Complexity Measure=%{y}<br>dataset_id=%{customdata[0]}<extra></extra>\",\"legendgroup\":\"class_1, class_5, class_8, class_12\",\"marker\":{\"color\":\"#FF6692\",\"symbol\":\"circle\"},\"mode\":\"markers\",\"name\":\"class_1, class_5, class_8, class_12\",\"orientation\":\"v\",\"showlegend\":true,\"x\":[10],\"xaxis\":\"x\",\"y\":[0.835],\"yaxis\":\"y\",\"type\":\"scatter\"},{\"customdata\":[[234]],\"hovertemplate\":\"Majority Classes=class_10, class_11<br>Number of Classes=%{x}<br>Complexity Measure=%{y}<br>dataset_id=%{customdata[0]}<extra></extra>\",\"legendgroup\":\"class_10, class_11\",\"marker\":{\"color\":\"#B6E880\",\"symbol\":\"circle\"},\"mode\":\"markers\",\"name\":\"class_10, class_11\",\"orientation\":\"v\",\"showlegend\":true,\"x\":[8],\"xaxis\":\"x\",\"y\":[0.815625],\"yaxis\":\"y\",\"type\":\"scatter\"},{\"customdata\":[[236]],\"hovertemplate\":\"Majority Classes=class_7, class_8, class_10<br>Number of Classes=%{x}<br>Complexity Measure=%{y}<br>dataset_id=%{customdata[0]}<extra></extra>\",\"legendgroup\":\"class_7, class_8, class_10\",\"marker\":{\"color\":\"#FF97FF\",\"symbol\":\"circle\"},\"mode\":\"markers\",\"name\":\"class_7, class_8, class_10\",\"orientation\":\"v\",\"showlegend\":true,\"x\":[12],\"xaxis\":\"x\",\"y\":[0.8566666666666667],\"yaxis\":\"y\",\"type\":\"scatter\"},{\"customdata\":[[239]],\"hovertemplate\":\"Majority Classes=class_2, class_11<br>Number of Classes=%{x}<br>Complexity Measure=%{y}<br>dataset_id=%{customdata[0]}<extra></extra>\",\"legendgroup\":\"class_2, class_11\",\"marker\":{\"color\":\"#FECB52\",\"symbol\":\"circle\"},\"mode\":\"markers\",\"name\":\"class_2, class_11\",\"orientation\":\"v\",\"showlegend\":true,\"x\":[5],\"xaxis\":\"x\",\"y\":[0.709],\"yaxis\":\"y\",\"type\":\"scatter\"},{\"customdata\":[[240]],\"hovertemplate\":\"Majority Classes=class_2, class_3, class_7<br>Number of Classes=%{x}<br>Complexity Measure=%{y}<br>dataset_id=%{customdata[0]}<extra></extra>\",\"legendgroup\":\"class_2, class_3, class_7\",\"marker\":{\"color\":\"#636efa\",\"symbol\":\"circle\"},\"mode\":\"markers\",\"name\":\"class_2, class_3, class_7\",\"orientation\":\"v\",\"showlegend\":true,\"x\":[12],\"xaxis\":\"x\",\"y\":[0.83625],\"yaxis\":\"y\",\"type\":\"scatter\"},{\"customdata\":[[243]],\"hovertemplate\":\"Majority Classes=class_0, class_1, class_2, class_5, class_10<br>Number of Classes=%{x}<br>Complexity Measure=%{y}<br>dataset_id=%{customdata[0]}<extra></extra>\",\"legendgroup\":\"class_0, class_1, class_2, class_5, class_10\",\"marker\":{\"color\":\"#EF553B\",\"symbol\":\"circle\"},\"mode\":\"markers\",\"name\":\"class_0, class_1, class_2, class_5, class_10\",\"orientation\":\"v\",\"showlegend\":true,\"x\":[13],\"xaxis\":\"x\",\"y\":[0.8373076923076923],\"yaxis\":\"y\",\"type\":\"scatter\"},{\"customdata\":[[244]],\"hovertemplate\":\"Majority Classes=class_3, class_9<br>Number of Classes=%{x}<br>Complexity Measure=%{y}<br>dataset_id=%{customdata[0]}<extra></extra>\",\"legendgroup\":\"class_3, class_9\",\"marker\":{\"color\":\"#00cc96\",\"symbol\":\"circle\"},\"mode\":\"markers\",\"name\":\"class_3, class_9\",\"orientation\":\"v\",\"showlegend\":true,\"x\":[6],\"xaxis\":\"x\",\"y\":[0.6808333333333333],\"yaxis\":\"y\",\"type\":\"scatter\"},{\"customdata\":[[252]],\"hovertemplate\":\"Majority Classes=class_2, class_7, class_12<br>Number of Classes=%{x}<br>Complexity Measure=%{y}<br>dataset_id=%{customdata[0]}<extra></extra>\",\"legendgroup\":\"class_2, class_7, class_12\",\"marker\":{\"color\":\"#ab63fa\",\"symbol\":\"circle\"},\"mode\":\"markers\",\"name\":\"class_2, class_7, class_12\",\"orientation\":\"v\",\"showlegend\":true,\"x\":[10],\"xaxis\":\"x\",\"y\":[0.807],\"yaxis\":\"y\",\"type\":\"scatter\"},{\"customdata\":[[257]],\"hovertemplate\":\"Majority Classes=class_1, class_2, class_10<br>Number of Classes=%{x}<br>Complexity Measure=%{y}<br>dataset_id=%{customdata[0]}<extra></extra>\",\"legendgroup\":\"class_1, class_2, class_10\",\"marker\":{\"color\":\"#FFA15A\",\"symbol\":\"circle\"},\"mode\":\"markers\",\"name\":\"class_1, class_2, class_10\",\"orientation\":\"v\",\"showlegend\":true,\"x\":[10],\"xaxis\":\"x\",\"y\":[0.805],\"yaxis\":\"y\",\"type\":\"scatter\"},{\"customdata\":[[261]],\"hovertemplate\":\"Majority Classes=class_4, class_5, class_11, class_12<br>Number of Classes=%{x}<br>Complexity Measure=%{y}<br>dataset_id=%{customdata[0]}<extra></extra>\",\"legendgroup\":\"class_4, class_5, class_11, class_12\",\"marker\":{\"color\":\"#19d3f3\",\"symbol\":\"circle\"},\"mode\":\"markers\",\"name\":\"class_4, class_5, class_11, class_12\",\"orientation\":\"v\",\"showlegend\":true,\"x\":[7],\"xaxis\":\"x\",\"y\":[0.7671428571428571],\"yaxis\":\"y\",\"type\":\"scatter\"},{\"customdata\":[[267]],\"hovertemplate\":\"Majority Classes=class_7, class_8, class_10, class_12<br>Number of Classes=%{x}<br>Complexity Measure=%{y}<br>dataset_id=%{customdata[0]}<extra></extra>\",\"legendgroup\":\"class_7, class_8, class_10, class_12\",\"marker\":{\"color\":\"#FF6692\",\"symbol\":\"circle\"},\"mode\":\"markers\",\"name\":\"class_7, class_8, class_10, class_12\",\"orientation\":\"v\",\"showlegend\":true,\"x\":[12],\"xaxis\":\"x\",\"y\":[0.8441666666666666],\"yaxis\":\"y\",\"type\":\"scatter\"},{\"customdata\":[[269]],\"hovertemplate\":\"Majority Classes=class_0, class_2, class_5, class_8, class_10<br>Number of Classes=%{x}<br>Complexity Measure=%{y}<br>dataset_id=%{customdata[0]}<extra></extra>\",\"legendgroup\":\"class_0, class_2, class_5, class_8, class_10\",\"marker\":{\"color\":\"#B6E880\",\"symbol\":\"circle\"},\"mode\":\"markers\",\"name\":\"class_0, class_2, class_5, class_8, class_10\",\"orientation\":\"v\",\"showlegend\":true,\"x\":[13],\"xaxis\":\"x\",\"y\":[0.8553846153846154],\"yaxis\":\"y\",\"type\":\"scatter\"},{\"customdata\":[[272]],\"hovertemplate\":\"Majority Classes=class_5, class_10, class_11<br>Number of Classes=%{x}<br>Complexity Measure=%{y}<br>dataset_id=%{customdata[0]}<extra></extra>\",\"legendgroup\":\"class_5, class_10, class_11\",\"marker\":{\"color\":\"#FF97FF\",\"symbol\":\"circle\"},\"mode\":\"markers\",\"name\":\"class_5, class_10, class_11\",\"orientation\":\"v\",\"showlegend\":true,\"x\":[11],\"xaxis\":\"x\",\"y\":[0.8172727272727273],\"yaxis\":\"y\",\"type\":\"scatter\"}],                        {\"template\":{\"data\":{\"histogram2dcontour\":[{\"type\":\"histogram2dcontour\",\"colorbar\":{\"outlinewidth\":0,\"ticks\":\"\"},\"colorscale\":[[0.0,\"#0d0887\"],[0.1111111111111111,\"#46039f\"],[0.2222222222222222,\"#7201a8\"],[0.3333333333333333,\"#9c179e\"],[0.4444444444444444,\"#bd3786\"],[0.5555555555555556,\"#d8576b\"],[0.6666666666666666,\"#ed7953\"],[0.7777777777777778,\"#fb9f3a\"],[0.8888888888888888,\"#fdca26\"],[1.0,\"#f0f921\"]]}],\"choropleth\":[{\"type\":\"choropleth\",\"colorbar\":{\"outlinewidth\":0,\"ticks\":\"\"}}],\"histogram2d\":[{\"type\":\"histogram2d\",\"colorbar\":{\"outlinewidth\":0,\"ticks\":\"\"},\"colorscale\":[[0.0,\"#0d0887\"],[0.1111111111111111,\"#46039f\"],[0.2222222222222222,\"#7201a8\"],[0.3333333333333333,\"#9c179e\"],[0.4444444444444444,\"#bd3786\"],[0.5555555555555556,\"#d8576b\"],[0.6666666666666666,\"#ed7953\"],[0.7777777777777778,\"#fb9f3a\"],[0.8888888888888888,\"#fdca26\"],[1.0,\"#f0f921\"]]}],\"heatmap\":[{\"type\":\"heatmap\",\"colorbar\":{\"outlinewidth\":0,\"ticks\":\"\"},\"colorscale\":[[0.0,\"#0d0887\"],[0.1111111111111111,\"#46039f\"],[0.2222222222222222,\"#7201a8\"],[0.3333333333333333,\"#9c179e\"],[0.4444444444444444,\"#bd3786\"],[0.5555555555555556,\"#d8576b\"],[0.6666666666666666,\"#ed7953\"],[0.7777777777777778,\"#fb9f3a\"],[0.8888888888888888,\"#fdca26\"],[1.0,\"#f0f921\"]]}],\"heatmapgl\":[{\"type\":\"heatmapgl\",\"colorbar\":{\"outlinewidth\":0,\"ticks\":\"\"},\"colorscale\":[[0.0,\"#0d0887\"],[0.1111111111111111,\"#46039f\"],[0.2222222222222222,\"#7201a8\"],[0.3333333333333333,\"#9c179e\"],[0.4444444444444444,\"#bd3786\"],[0.5555555555555556,\"#d8576b\"],[0.6666666666666666,\"#ed7953\"],[0.7777777777777778,\"#fb9f3a\"],[0.8888888888888888,\"#fdca26\"],[1.0,\"#f0f921\"]]}],\"contourcarpet\":[{\"type\":\"contourcarpet\",\"colorbar\":{\"outlinewidth\":0,\"ticks\":\"\"}}],\"contour\":[{\"type\":\"contour\",\"colorbar\":{\"outlinewidth\":0,\"ticks\":\"\"},\"colorscale\":[[0.0,\"#0d0887\"],[0.1111111111111111,\"#46039f\"],[0.2222222222222222,\"#7201a8\"],[0.3333333333333333,\"#9c179e\"],[0.4444444444444444,\"#bd3786\"],[0.5555555555555556,\"#d8576b\"],[0.6666666666666666,\"#ed7953\"],[0.7777777777777778,\"#fb9f3a\"],[0.8888888888888888,\"#fdca26\"],[1.0,\"#f0f921\"]]}],\"surface\":[{\"type\":\"surface\",\"colorbar\":{\"outlinewidth\":0,\"ticks\":\"\"},\"colorscale\":[[0.0,\"#0d0887\"],[0.1111111111111111,\"#46039f\"],[0.2222222222222222,\"#7201a8\"],[0.3333333333333333,\"#9c179e\"],[0.4444444444444444,\"#bd3786\"],[0.5555555555555556,\"#d8576b\"],[0.6666666666666666,\"#ed7953\"],[0.7777777777777778,\"#fb9f3a\"],[0.8888888888888888,\"#fdca26\"],[1.0,\"#f0f921\"]]}],\"mesh3d\":[{\"type\":\"mesh3d\",\"colorbar\":{\"outlinewidth\":0,\"ticks\":\"\"}}],\"scatter\":[{\"fillpattern\":{\"fillmode\":\"overlay\",\"size\":10,\"solidity\":0.2},\"type\":\"scatter\"}],\"parcoords\":[{\"type\":\"parcoords\",\"line\":{\"colorbar\":{\"outlinewidth\":0,\"ticks\":\"\"}}}],\"scatterpolargl\":[{\"type\":\"scatterpolargl\",\"marker\":{\"colorbar\":{\"outlinewidth\":0,\"ticks\":\"\"}}}],\"bar\":[{\"error_x\":{\"color\":\"#2a3f5f\"},\"error_y\":{\"color\":\"#2a3f5f\"},\"marker\":{\"line\":{\"color\":\"#E5ECF6\",\"width\":0.5},\"pattern\":{\"fillmode\":\"overlay\",\"size\":10,\"solidity\":0.2}},\"type\":\"bar\"}],\"scattergeo\":[{\"type\":\"scattergeo\",\"marker\":{\"colorbar\":{\"outlinewidth\":0,\"ticks\":\"\"}}}],\"scatterpolar\":[{\"type\":\"scatterpolar\",\"marker\":{\"colorbar\":{\"outlinewidth\":0,\"ticks\":\"\"}}}],\"histogram\":[{\"marker\":{\"pattern\":{\"fillmode\":\"overlay\",\"size\":10,\"solidity\":0.2}},\"type\":\"histogram\"}],\"scattergl\":[{\"type\":\"scattergl\",\"marker\":{\"colorbar\":{\"outlinewidth\":0,\"ticks\":\"\"}}}],\"scatter3d\":[{\"type\":\"scatter3d\",\"line\":{\"colorbar\":{\"outlinewidth\":0,\"ticks\":\"\"}},\"marker\":{\"colorbar\":{\"outlinewidth\":0,\"ticks\":\"\"}}}],\"scattermapbox\":[{\"type\":\"scattermapbox\",\"marker\":{\"colorbar\":{\"outlinewidth\":0,\"ticks\":\"\"}}}],\"scatterternary\":[{\"type\":\"scatterternary\",\"marker\":{\"colorbar\":{\"outlinewidth\":0,\"ticks\":\"\"}}}],\"scattercarpet\":[{\"type\":\"scattercarpet\",\"marker\":{\"colorbar\":{\"outlinewidth\":0,\"ticks\":\"\"}}}],\"carpet\":[{\"aaxis\":{\"endlinecolor\":\"#2a3f5f\",\"gridcolor\":\"white\",\"linecolor\":\"white\",\"minorgridcolor\":\"white\",\"startlinecolor\":\"#2a3f5f\"},\"baxis\":{\"endlinecolor\":\"#2a3f5f\",\"gridcolor\":\"white\",\"linecolor\":\"white\",\"minorgridcolor\":\"white\",\"startlinecolor\":\"#2a3f5f\"},\"type\":\"carpet\"}],\"table\":[{\"cells\":{\"fill\":{\"color\":\"#EBF0F8\"},\"line\":{\"color\":\"white\"}},\"header\":{\"fill\":{\"color\":\"#C8D4E3\"},\"line\":{\"color\":\"white\"}},\"type\":\"table\"}],\"barpolar\":[{\"marker\":{\"line\":{\"color\":\"#E5ECF6\",\"width\":0.5},\"pattern\":{\"fillmode\":\"overlay\",\"size\":10,\"solidity\":0.2}},\"type\":\"barpolar\"}],\"pie\":[{\"automargin\":true,\"type\":\"pie\"}]},\"layout\":{\"autotypenumbers\":\"strict\",\"colorway\":[\"#636efa\",\"#EF553B\",\"#00cc96\",\"#ab63fa\",\"#FFA15A\",\"#19d3f3\",\"#FF6692\",\"#B6E880\",\"#FF97FF\",\"#FECB52\"],\"font\":{\"color\":\"#2a3f5f\"},\"hovermode\":\"closest\",\"hoverlabel\":{\"align\":\"left\"},\"paper_bgcolor\":\"white\",\"plot_bgcolor\":\"#E5ECF6\",\"polar\":{\"bgcolor\":\"#E5ECF6\",\"angularaxis\":{\"gridcolor\":\"white\",\"linecolor\":\"white\",\"ticks\":\"\"},\"radialaxis\":{\"gridcolor\":\"white\",\"linecolor\":\"white\",\"ticks\":\"\"}},\"ternary\":{\"bgcolor\":\"#E5ECF6\",\"aaxis\":{\"gridcolor\":\"white\",\"linecolor\":\"white\",\"ticks\":\"\"},\"baxis\":{\"gridcolor\":\"white\",\"linecolor\":\"white\",\"ticks\":\"\"},\"caxis\":{\"gridcolor\":\"white\",\"linecolor\":\"white\",\"ticks\":\"\"}},\"coloraxis\":{\"colorbar\":{\"outlinewidth\":0,\"ticks\":\"\"}},\"colorscale\":{\"sequential\":[[0.0,\"#0d0887\"],[0.1111111111111111,\"#46039f\"],[0.2222222222222222,\"#7201a8\"],[0.3333333333333333,\"#9c179e\"],[0.4444444444444444,\"#bd3786\"],[0.5555555555555556,\"#d8576b\"],[0.6666666666666666,\"#ed7953\"],[0.7777777777777778,\"#fb9f3a\"],[0.8888888888888888,\"#fdca26\"],[1.0,\"#f0f921\"]],\"sequentialminus\":[[0.0,\"#0d0887\"],[0.1111111111111111,\"#46039f\"],[0.2222222222222222,\"#7201a8\"],[0.3333333333333333,\"#9c179e\"],[0.4444444444444444,\"#bd3786\"],[0.5555555555555556,\"#d8576b\"],[0.6666666666666666,\"#ed7953\"],[0.7777777777777778,\"#fb9f3a\"],[0.8888888888888888,\"#fdca26\"],[1.0,\"#f0f921\"]],\"diverging\":[[0,\"#8e0152\"],[0.1,\"#c51b7d\"],[0.2,\"#de77ae\"],[0.3,\"#f1b6da\"],[0.4,\"#fde0ef\"],[0.5,\"#f7f7f7\"],[0.6,\"#e6f5d0\"],[0.7,\"#b8e186\"],[0.8,\"#7fbc41\"],[0.9,\"#4d9221\"],[1,\"#276419\"]]},\"xaxis\":{\"gridcolor\":\"white\",\"linecolor\":\"white\",\"ticks\":\"\",\"title\":{\"standoff\":15},\"zerolinecolor\":\"white\",\"automargin\":true,\"zerolinewidth\":2},\"yaxis\":{\"gridcolor\":\"white\",\"linecolor\":\"white\",\"ticks\":\"\",\"title\":{\"standoff\":15},\"zerolinecolor\":\"white\",\"automargin\":true,\"zerolinewidth\":2},\"scene\":{\"xaxis\":{\"backgroundcolor\":\"#E5ECF6\",\"gridcolor\":\"white\",\"linecolor\":\"white\",\"showbackground\":true,\"ticks\":\"\",\"zerolinecolor\":\"white\",\"gridwidth\":2},\"yaxis\":{\"backgroundcolor\":\"#E5ECF6\",\"gridcolor\":\"white\",\"linecolor\":\"white\",\"showbackground\":true,\"ticks\":\"\",\"zerolinecolor\":\"white\",\"gridwidth\":2},\"zaxis\":{\"backgroundcolor\":\"#E5ECF6\",\"gridcolor\":\"white\",\"linecolor\":\"white\",\"showbackground\":true,\"ticks\":\"\",\"zerolinecolor\":\"white\",\"gridwidth\":2}},\"shapedefaults\":{\"line\":{\"color\":\"#2a3f5f\"}},\"annotationdefaults\":{\"arrowcolor\":\"#2a3f5f\",\"arrowhead\":0,\"arrowwidth\":1},\"geo\":{\"bgcolor\":\"white\",\"landcolor\":\"#E5ECF6\",\"subunitcolor\":\"white\",\"showland\":true,\"showlakes\":true,\"lakecolor\":\"white\"},\"title\":{\"x\":0.05},\"mapbox\":{\"style\":\"light\"}}},\"xaxis\":{\"anchor\":\"y\",\"domain\":[0.0,1.0],\"title\":{\"text\":\"Number of Classes\"}},\"yaxis\":{\"anchor\":\"x\",\"domain\":[0.0,1.0],\"title\":{\"text\":\"Complexity Measure\"}},\"legend\":{\"title\":{\"text\":\"Majority Classes\"},\"tracegroupgap\":0},\"title\":{\"text\":\"2D Scatter Plot of Number of Classes vs. Complexity Measure\"}},                        {\"responsive\": true}                    ).then(function(){\n",
       "                            \n",
       "var gd = document.getElementById('8d2b8835-4fe3-48a5-9995-43412d55d288');\n",
       "var x = new MutationObserver(function (mutations, observer) {{\n",
       "        var display = window.getComputedStyle(gd).display;\n",
       "        if (!display || display === 'none') {{\n",
       "            console.log([gd, 'removed!']);\n",
       "            Plotly.purge(gd);\n",
       "            observer.disconnect();\n",
       "        }}\n",
       "}});\n",
       "\n",
       "// Listen for the removal of the full notebook cells\n",
       "var notebookContainer = gd.closest('#notebook-container');\n",
       "if (notebookContainer) {{\n",
       "    x.observe(notebookContainer, {childList: true});\n",
       "}}\n",
       "\n",
       "// Listen for the clearing of the current output cell\n",
       "var outputEl = gd.closest('.output');\n",
       "if (outputEl) {{\n",
       "    x.observe(outputEl, {childList: true});\n",
       "}}\n",
       "\n",
       "                        })                };                });            </script>        </div>"
      ]
     },
     "metadata": {},
     "output_type": "display_data"
    }
   ],
   "source": [
    "import pandas as pd\n",
    "import plotly.express as px\n",
    "import numpy as np\n",
    "\n",
    "# Load the datasets\n",
    "summary_df = pd.read_csv('/data/private/BreizhCrops/experiments/undersampled_csvs/dataset_generation/candidate_datasets_42/candidate_datasets_summary.csv')\n",
    "complexity_df = pd.read_csv('/data/private/BreizhCrops/experiments/undersampled_csvs/dataset_generation/candidate_datasets_42/complexity_results.csv')\n",
    "\n",
    "# Merge the dataframes on 'dataset_id'\n",
    "merged_df = pd.merge(summary_df, complexity_df, on='dataset_id')\n",
    "\n",
    "# Calculate the number of classes in each dataset\n",
    "merged_df['num_classes'] = merged_df.iloc[:, 1:14].astype(bool).sum(axis=1)\n",
    "\n",
    "# Define the threshold percentage\n",
    "threshold_percentage = 1  # 1%\n",
    "\n",
    "# Function to determine majority classes\n",
    "def get_majority_classes(row, threshold_percentage):\n",
    "    max_count = row.max()\n",
    "    threshold = max_count * (threshold_percentage / 100)\n",
    "    majority_classes = [idx for idx, val in row.items() if max_count - val <= threshold]\n",
    "    return majority_classes\n",
    "\n",
    "# Apply the function to each row to find majority classes\n",
    "majority_classes_list = merged_df.iloc[:, 1:14].apply(lambda row: get_majority_classes(row, threshold_percentage), axis=1)\n",
    "\n",
    "# Convert list of majority classes to a string for hover data\n",
    "merged_df['majority_classes'] = majority_classes_list.apply(lambda x: ', '.join(x))\n",
    "\n",
    "# Extract class numbers for plotting\n",
    "merged_df['majority_class_nums'] = majority_classes_list.apply(lambda x: ', '.join([str(int(cls.split('_')[1]) + 1) for cls in x]))\n",
    "\n",
    "# Create an interactive 3D scatter plot\n",
    "fig_3d = px.scatter_3d(\n",
    "    merged_df, \n",
    "    x='num_classes', \n",
    "    y='majority_class_nums', \n",
    "    z='complexity', \n",
    "    color='complexity',\n",
    "    color_continuous_scale='Viridis',\n",
    "    labels={\n",
    "        'num_classes': 'Number of Classes',\n",
    "        'majority_class_nums': 'Majority Class Numbers',\n",
    "        'complexity': 'Complexity Measure'\n",
    "    },\n",
    "    title='Interactive 3D Scatter Plot of Datasets',\n",
    "    hover_data={'dataset_id': True, 'majority_classes': True}\n",
    ")\n",
    "\n",
    "fig_3d.update_layout(\n",
    "    width=1000,\n",
    "    height=800,\n",
    ")\n",
    "\n",
    "# Create a 2D scatter plot with categorical coloring\n",
    "fig_2d = px.scatter(\n",
    "    merged_df, \n",
    "    x='num_classes', \n",
    "    y='complexity', \n",
    "    color='majority_classes',\n",
    "    labels={\n",
    "        'num_classes': 'Number of Classes',\n",
    "        'complexity': 'Complexity Measure',\n",
    "        'majority_classes': 'Majority Classes'\n",
    "    },\n",
    "    title='2D Scatter Plot of Number of Classes vs. Complexity Measure',\n",
    "    hover_data={'dataset_id': True}\n",
    ")\n",
    "\n",
    "# Display both plots\n",
    "fig_3d.show()\n",
    "fig_2d.show()\n"
   ]
  },
  {
   "cell_type": "markdown",
   "id": "4f38d560-8caa-4b33-8802-f6f551b3085b",
   "metadata": {},
   "source": [
    "Selected datasets: 194, 290, 244, 136, 59, 75, 257, 106, 267, 269\n",
    "    "
   ]
  }
 ],
 "metadata": {
  "kernelspec": {
   "display_name": "Python",
   "language": "python",
   "name": "python3"
  },
  "language_info": {
   "codemirror_mode": {
    "name": "ipython",
    "version": 3
   },
   "file_extension": ".py",
   "mimetype": "text/x-python",
   "name": "python",
   "nbconvert_exporter": "python",
   "pygments_lexer": "ipython3",
   "version": "3.8.10"
  }
 },
 "nbformat": 4,
 "nbformat_minor": 5
}
